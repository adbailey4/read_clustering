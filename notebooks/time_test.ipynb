{
 "cells": [
  {
   "cell_type": "code",
   "execution_count": 79,
   "metadata": {},
   "outputs": [],
   "source": [
    "import timeit"
   ]
  },
  {
   "cell_type": "code",
   "execution_count": 80,
   "metadata": {},
   "outputs": [],
   "source": [
    "file_path = '/Users/shreyamantripragada/PycharmProjects/read_clustering/tests/test_files/test_variant_call.csv'"
   ]
  },
  {
   "cell_type": "code",
   "execution_count": 81,
   "metadata": {},
   "outputs": [],
   "source": [
    "data = pd.read_csv(file_path)"
   ]
  },
  {
   "cell_type": "code",
   "execution_count": 89,
   "metadata": {},
   "outputs": [
    {
     "name": "stdout",
     "output_type": "stream",
     "text": [
      "get_variant_sets_data() with for-loop: 0.11176575199897343\n",
      "get_variant_sets_data2() with isin():  0.09644561799905205\n"
     ]
    }
   ],
   "source": [
    "# timeit on get_variant_sets_data(variant_sets) that has a for loop()\n",
    "testcode = ''' \n",
    "\n",
    "variant_sets = ['Tdm', 'Gk']\n",
    "\n",
    "def get_variant_sets_data(variant_sets):\n",
    "    \"\"\"Return the corresponding data with list of variant sets\"\"\"\n",
    "    temp_df = pd.DataFrame()\n",
    "    for variant in variant_sets:\n",
    "        found = data.loc[data['variants'] == variant]\n",
    "        temp_df = temp_df.append(found)\n",
    "\n",
    "    temp_df = temp_df.drop_duplicates()\n",
    "\n",
    "    return temp_df\n",
    "'''\n",
    "\n",
    "# timeit on get_variant_sets_data2(variant_sets) with isin()\n",
    "testcode2 = '''\n",
    "\n",
    "variant_sets = ['Tdm', 'Gk']\n",
    "\n",
    "def get_variant_sets_data_2(variant_sets):\n",
    "    \"\"\"Return the corresponding data with a list of variant sets\"\"\"\n",
    "    temp_df = pd.DataFrame()\n",
    "    temp_df = data[data['variants'].isin (variant_sets)]\n",
    "\n",
    "    temp_df = temp_df.drop_duplicates()\n",
    "\n",
    "    return temp_df\n",
    "'''\n",
    "\n",
    "print('get_variant_sets_data() with for-loop:', timeit.timeit(stmt=testcode, setup=testcode))\n",
    "print ('get_variant_sets_data2() with isin(): ', timeit.timeit(stmt=testcode2, setup=testcode2))"
   ]
  },
  {
   "cell_type": "code",
   "execution_count": null,
   "metadata": {},
   "outputs": [],
   "source": []
  }
 ],
 "metadata": {
  "kernelspec": {
   "display_name": "read_clustering",
   "language": "python",
   "name": "read_clustering"
  },
  "language_info": {
   "codemirror_mode": {
    "name": "ipython",
    "version": 3
   },
   "file_extension": ".py",
   "mimetype": "text/x-python",
   "name": "python",
   "nbconvert_exporter": "python",
   "pygments_lexer": "ipython3",
   "version": "3.7.3"
  }
 },
 "nbformat": 4,
 "nbformat_minor": 4
}
