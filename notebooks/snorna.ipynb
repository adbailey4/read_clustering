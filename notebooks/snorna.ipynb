{
 "cells": [
  {
   "cell_type": "markdown",
   "metadata": {},
   "source": [
    "# Mod correlations to SnoRNAs\n",
    "Get distribution of correlation of modifications\n",
    "Ouput top correlated positions and corresponding snoRNAs\n"
   ]
  },
  {
   "cell_type": "code",
   "execution_count": 3,
   "metadata": {},
   "outputs": [],
   "source": [
    "import os\n",
    "\n",
    "import pandas as pd\n",
    "import numpy as np\n"
   ]
  },
  {
   "cell_type": "code",
   "execution_count": 165,
   "metadata": {},
   "outputs": [],
   "source": [
    "snorna_csv = \"/Users/andrewbailey/CLionProjects/rrna_analysis/reference/snorna/snorna.csv\"\n",
    "sno_df = pd.read_csv(snorna_csv)\n",
    "sno_dict = {x:y for x, y in zip(sno_df[\"Position\"], sno_df[\"snoRNA\"])}"
   ]
  },
  {
   "cell_type": "code",
   "execution_count": 166,
   "metadata": {},
   "outputs": [],
   "source": [
    "experiment_correlations = \"/Users/andrewbailey/CLionProjects/rrna_analysis/summary_data/all_experiment_correlations.csv\"\n",
    "corr_df = pd.read_csv(experiment_correlations)"
   ]
  },
  {
   "cell_type": "code",
   "execution_count": 167,
   "metadata": {},
   "outputs": [],
   "source": [
    "non_experiment_cols = [\"ref_index1\", \"ref_index2\", \"contig\"]\n",
    "experiment_cols = [x for x in corr_df.columns.values if x not in non_experiment_cols]\n"
   ]
  },
  {
   "cell_type": "code",
   "execution_count": 177,
   "metadata": {},
   "outputs": [],
   "source": [
    "def write_experiment_sno_correlations(corr_df, output_dir=None, subtract=None):\n",
    "    if subtract is not None:\n",
    "        subtract_data = corr_df[subtract]\n",
    "    for experiment in experiment_cols:\n",
    "        if output_dir is not None:\n",
    "            out_path = os.path.join(output_dir, f\"{experiment}-{subtract}.csv\")\n",
    "        if subtract is not None:\n",
    "            data = corr_df[experiment] - subtract_data\n",
    "        else:\n",
    "            data = corr_df[experiment]\n",
    "        mods = corr_df[non_experiment_cols]\n",
    "        mods[experiment] = data\n",
    "        sorted_mods = mods.sort_values(experiment, ascending=False)\n",
    "        ref_1_sno = [sno_dict[x+1] for x in sorted_mods[\"ref_index1\"]]\n",
    "        ref_2_sno = [sno_dict[x+1] for x in sorted_mods[\"ref_index2\"]]\n",
    "        sorted_mods[\"sno1\"] = ref_1_sno\n",
    "        sorted_mods[\"sno2\"] = ref_2_sno\n",
    "        if output_dir is not None:\n",
    "            sorted_mods.to_csv(out_path, index=False)"
   ]
  },
  {
   "cell_type": "code",
   "execution_count": 178,
   "metadata": {},
   "outputs": [
    {
     "name": "stderr",
     "output_type": "stream",
     "text": [
      "/Users/andrewbailey/anaconda3/envs/read_clustering/lib/python3.7/site-packages/ipykernel_launcher.py:12: SettingWithCopyWarning: \n",
      "A value is trying to be set on a copy of a slice from a DataFrame.\n",
      "Try using .loc[row_indexer,col_indexer] = value instead\n",
      "\n",
      "See the caveats in the documentation: https://pandas.pydata.org/pandas-docs/stable/user_guide/indexing.html#returning-a-view-versus-a-copy\n",
      "  if sys.path[0] == '':\n"
     ]
    }
   ],
   "source": [
    "output_dir = \"/Users/andrewbailey/CLionProjects/rrna_analysis/summary_data/top_correlations\"\n",
    "write_experiment_sno_correlations(corr_df, output_dir=output_dir, subtract=None)"
   ]
  },
  {
   "cell_type": "code",
   "execution_count": null,
   "metadata": {},
   "outputs": [],
   "source": [
    "output_dir = \"/Users/andrewbailey/CLionProjects/rrna_analysis/summary_data/top_correlations_minus_ivt\"\n",
    "write_experiment_sno_correlations(corr_df, output_dir=output_dir, subtract=\"ivt\")"
   ]
  },
  {
   "cell_type": "code",
   "execution_count": 258,
   "metadata": {},
   "outputs": [
    {
     "name": "stderr",
     "output_type": "stream",
     "text": [
      "/Users/andrewbailey/anaconda3/envs/read_clustering/lib/python3.7/site-packages/ipykernel_launcher.py:12: SettingWithCopyWarning: \n",
      "A value is trying to be set on a copy of a slice from a DataFrame.\n",
      "Try using .loc[row_indexer,col_indexer] = value instead\n",
      "\n",
      "See the caveats in the documentation: https://pandas.pydata.org/pandas-docs/stable/user_guide/indexing.html#returning-a-view-versus-a-copy\n",
      "  if sys.path[0] == '':\n"
     ]
    }
   ],
   "source": [
    "output_dir = \"/Users/andrewbailey/CLionProjects/rrna_analysis/summary_data/top_correlations_minus_wt\"\n",
    "write_experiment_sno_correlations(corr_df, output_dir=output_dir, subtract=\"wt\")"
   ]
  },
  {
   "cell_type": "code",
   "execution_count": null,
   "metadata": {},
   "outputs": [],
   "source": []
  }
 ],
 "metadata": {
  "kernelspec": {
   "display_name": "read_clustering",
   "language": "python",
   "name": "read_clustering"
  },
  "language_info": {
   "codemirror_mode": {
    "name": "ipython",
    "version": 3
   },
   "file_extension": ".py",
   "mimetype": "text/x-python",
   "name": "python",
   "nbconvert_exporter": "python",
   "pygments_lexer": "ipython3",
   "version": "3.7.7"
  }
 },
 "nbformat": 4,
 "nbformat_minor": 2
}
