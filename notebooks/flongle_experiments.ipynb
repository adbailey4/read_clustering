{
 "cells": [
  {
   "cell_type": "markdown",
   "metadata": {},
   "source": [
    "# Flongle Experiments\n"
   ]
  },
  {
   "cell_type": "code",
   "execution_count": 1,
   "metadata": {},
   "outputs": [
    {
     "name": "stderr",
     "output_type": "stream",
     "text": [
      "/Users/andrewbailey/anaconda3/envs/read_clustering/lib/python3.7/site-packages/umap/__init__.py:9: UserWarning: Tensorflow not installed; ParametricUMAP will be unavailable\n",
      "  warn(\"Tensorflow not installed; ParametricUMAP will be unavailable\")\n",
      "/Users/andrewbailey/anaconda3/envs/read_clustering/lib/python3.7/site-packages/sklearn/utils/deprecation.py:143: FutureWarning: The sklearn.metrics.classification module is  deprecated in version 0.22 and will be removed in version 0.24. The corresponding classes / functions should instead be imported from sklearn.metrics. Anything that cannot be imported from sklearn.metrics is now part of the private API.\n",
      "  warnings.warn(message, FutureWarning)\n"
     ]
    }
   ],
   "source": [
    "from read_clustering.variant_call import VariantCalls\n",
    "threshold = 0.5\n",
    "import pandas as pd\n",
    "import numpy as np\n",
    "import seaborn as sns\n",
    "import matplotlib.pyplot as plt\n",
    "import matplotlib as mpl\n",
    "import matplotlib.patches as mpatches\n"
   ]
  },
  {
   "cell_type": "code",
   "execution_count": 55,
   "metadata": {},
   "outputs": [],
   "source": [
    "twoprimeo_pos = [ 648,  649,  662,  804,  806,  816,  866,  875,  897,  907, 1132,\n",
    "       1436, 1448, 1449, 1887, 2196, 2219, 2255, 2279, 2280, 2287, 2336,\n",
    "       2346, 2416, 2420, 2618, 2639, 2723, 2728, 2790, 2792, 2814, 2920,\n",
    "       2921, 2945, 2947, 2958, 27,   99,  413,  419,  435,  540,  561,  577,  618,  795,  973,\n",
    "       1006, 1125, 1268, 1270, 1427, 1571, 1638]"
   ]
  },
  {
   "cell_type": "code",
   "execution_count": 56,
   "metadata": {},
   "outputs": [],
   "source": [
    "pseduo_u_pos = [ 775,  959,  965,  985,  989, 1003, 1041, 1051, 1055, 1109, 1123,\n",
    "       2128, 2132, 2190, 2257, 2259, 2263, 2265, 2313, 2339, 2348, 2350,\n",
    "       2415, 2734, 2825, 2864, 2879, 2922, 2943, 2974, 105,  119,  210,  301,  465,  631,  758,  765,  998, 1180, 1186,\n",
    "       1289, 1414]"
   ]
  },
  {
   "cell_type": "code",
   "execution_count": 63,
   "metadata": {},
   "outputs": [],
   "source": [
    "ivt_path = \"/Users/andrewbailey/CLionProjects/rrna_analysis/notebooks/rrna_data/rrna_kube_testing/small_5mer/depletion/train_500_test_500_prob_0.7_em_iterations_30_gaussian_true_FREQ_THRESHOLD_0_USE_IVT_TRAINING_true_unsupervised_false_all_kmers_false_small_model_5mer_use_median_true_min_sd_0/all_variant_calls/template_hmm30/canonical_ivt.csv\"\n",
    "cbf5_glu_psu_depletion_path = \"/Users/andrewbailey/CLionProjects/rrna_analysis/notebooks/rrna_data/rrna_kube_testing/small_5mer/depletion/train_500_test_500_prob_0.7_em_iterations_30_gaussian_true_FREQ_THRESHOLD_0_USE_IVT_TRAINING_true_unsupervised_false_all_kmers_false_small_model_5mer_use_median_true_min_sd_0/all_variant_calls/template_hmm30/run_cbf5_glu.csv\"\n",
    "nop58_glu_2o_depletion_path = \"/Users/andrewbailey/CLionProjects/rrna_analysis/notebooks/rrna_data/rrna_kube_testing/small_5mer/depletion/train_500_test_500_prob_0.7_em_iterations_30_gaussian_true_FREQ_THRESHOLD_0_USE_IVT_TRAINING_true_unsupervised_false_all_kmers_false_small_model_5mer_use_median_true_min_sd_0/all_variant_calls/template_hmm30/run_nop_glu.csv\"       \n",
    "native_cbf5_gal_path = \"/Users/andrewbailey/CLionProjects/rrna_analysis/notebooks/rrna_data/rrna_kube_testing/small_5mer/depletion/train_500_test_500_prob_0.7_em_iterations_30_gaussian_true_FREQ_THRESHOLD_0_USE_IVT_TRAINING_true_unsupervised_false_all_kmers_false_small_model_5mer_use_median_true_min_sd_0/all_variant_calls/template_hmm30/native_cbf5_gal.csv\"\n",
    "\n",
    "all_file_paths = [ivt_path, cbf5_glu_psu_depletion_path, nop58_glu_2o_depletion_path, native_cbf5_gal_path]\n",
    "all_labels = [\"ivt\", \"cbf5_glu_psu_depletion\", \"nop58_glu_2o_depletion\", \"cbf5_gal\"]\n",
    "\n",
    "\n",
    "\n",
    "# YWD448a: loss psu @ 18-759; 25-775(776)\n",
    "YWD448a = \"/Users/andrewbailey/CLionProjects/rrna_analysis/flongle/flongle_pass_csvs/mutant448_YPD.csv\"\n",
    "# YWD451a: loss psu @ 18-1289\n",
    "YWD451a = \"/Users/andrewbailey/CLionProjects/rrna_analysis/flongle/flongle_pass_csvs/mutant451_YPD.csv\"\n",
    "# YWD452a: loss of 2'Ome @ 18-436\n",
    "YWD452a = \"/Users/andrewbailey/CLionProjects/rrna_analysis/flongle/flongle_pass_csvs/mutant452_YPD.csv\"\n",
    "# WT_CY: cycloheximide\n",
    "WT_CY = \"/Users/andrewbailey/CLionProjects/rrna_analysis/flongle/flongle_pass_csvs/WT_CY.csv\"\n",
    "# WT_CY: Potassium Acetate\n",
    "WT_KOAC = \"/Users/andrewbailey/CLionProjects/rrna_analysis/flongle/flongle_pass_csvs/WT_KOAC.csv\"\n",
    "# actual wildtype\n",
    "WT_YPD = \"/Users/andrewbailey/CLionProjects/rrna_analysis/flongle/flongle_pass_csvs/WT_YPD.csv\"\n",
    "\n",
    "# YWD448a = \"/Users/andrewbailey/CLionProjects/rrna_analysis/flongle/flongle_all_csvs/mutant448_YPD.csv\"\n",
    "# # YWD451a: loss psu @ 18-1289\n",
    "# YWD451a = \"/Users/andrewbailey/CLionProjects/rrna_analysis/flongle/flongle_all_csvs/mutant451_YPD.csv\"\n",
    "# # YWD452a: loss of 2'Ome @ 18-436\n",
    "# YWD452a = \"/Users/andrewbailey/CLionProjects/rrna_analysis/flongle/flongle_all_csvs/mutant452_YPD.csv\"\n",
    "# # WT_CY: cycloheximide\n",
    "# WT_CY = \"/Users/andrewbailey/CLionProjects/rrna_analysis/flongle/flongle_all_csvs/WT_CY.csv\"\n",
    "# # WT_CY: Potassium Acetate\n",
    "# WT_KOAC = \"/Users/andrewbailey/CLionProjects/rrna_analysis/flongle/flongle_all_csvs/WT_KOAC.csv\"\n",
    "# # actual wildtype\n",
    "# WT_YPD = \"/Users/andrewbailey/CLionProjects/rrna_analysis/flongle/flongle_all_csvs/WT_YPD.csv\"\n",
    "\n",
    "\n",
    "file_paths = [YWD448a, YWD451a, YWD452a, WT_CY, WT_KOAC, WT_YPD]\n",
    "labels = [\"YWD448a\", \"YWD451a\", \"YWD452a\", \"WT_CY\", \"WT_KOAC\", \"WT_YPD\"]\n",
    "all_file_paths.extend(file_paths)\n",
    "all_labels.extend(labels)"
   ]
  },
  {
   "cell_type": "code",
   "execution_count": null,
   "metadata": {},
   "outputs": [],
   "source": [
    "# vc = VariantCalls(file_paths, labels)\n",
    "vc = VariantCalls(all_file_paths, all_labels)\n"
   ]
  },
  {
   "cell_type": "code",
   "execution_count": null,
   "metadata": {
    "scrolled": false
   },
   "outputs": [],
   "source": [
    "contig = 'RDN18-1'\n",
    "n_components = 2\n",
    "n = 500\n",
    "save_fig_path = None\n",
    "# save_fig_path = \"/Users/andrewbailey/CLionProjects/rrna_analysis/figures/flongle/YWD448a/native_vs_YWD448a_18S.png\"\n",
    "vc.plot_UMAP_by_label(contig, vc.get_contig_positions(contig), n_components=n_components, figure_path=save_fig_path, n=n)"
   ]
  },
  {
   "cell_type": "code",
   "execution_count": null,
   "metadata": {
    "scrolled": false
   },
   "outputs": [],
   "source": [
    "n = 500\n",
    "figure_path = None\n",
    "metric = 'euclidean'\n",
    "method = 'average'\n",
    "contig = 'RDN18-1'\n",
    "# figure_path = \"/Users/andrewbailey/CLionProjects/rrna_analysis/figures/flongle/YWD448a/native_vs_YWD448a_18S.png\"\n",
    "\n",
    "vc.plot_heatmap_dendrogram(contig, vc.get_contig_positions(contig), n=n, figure_path=figure_path,\n",
    "                           metric=metric,\n",
    "                           method=method, \n",
    "                           col_cluster=False,\n",
    "                           row_cluster=False,\n",
    "                           twoprimeo_pos=twoprimeo_pos,\n",
    "                           pseduo_u_pos=pseduo_u_pos)\n"
   ]
  },
  {
   "cell_type": "code",
   "execution_count": null,
   "metadata": {},
   "outputs": [],
   "source": [
    "contig = 'RDN25-1'\n",
    "n_components = 2\n",
    "n = 500\n",
    "save_fig_path=None\n",
    "vc.plot_UMAP_by_label(contig, vc.get_contig_positions(contig), n_components=n_components, figure_path=save_fig_path, n=n)"
   ]
  },
  {
   "cell_type": "code",
   "execution_count": null,
   "metadata": {
    "scrolled": false
   },
   "outputs": [],
   "source": [
    "n = 500\n",
    "figure_path = None\n",
    "# figure_path = \"/Users/andrewbailey/CLionProjects/rrna_analysis/figures/flongle/YWD448a/native_vs_YWD448a_25S.png\"\n",
    "metric = 'euclidean'\n",
    "method = 'average'\n",
    "contig = 'RDN25-1'\n",
    "\n",
    "vc.plot_heatmap_dendrogram(contig, vc.get_contig_positions(contig), n=n, figure_path=figure_path,\n",
    "                           metric=metric,\n",
    "                           method=method, \n",
    "                           col_cluster=False,\n",
    "                           row_cluster=False,\n",
    "                           twoprimeo_pos=twoprimeo_pos,\n",
    "                           pseduo_u_pos=pseduo_u_pos)\n"
   ]
  },
  {
   "cell_type": "code",
   "execution_count": null,
   "metadata": {},
   "outputs": [],
   "source": []
  },
  {
   "cell_type": "code",
   "execution_count": 11,
   "metadata": {},
   "outputs": [
    {
     "name": "stdout",
     "output_type": "stream",
     "text": [
      "493\n",
      "493\n"
     ]
    }
   ],
   "source": [
    "contig = 'RDN25-1'\n",
    "contig = 'RDN18-1'\n",
    "\n",
    "positions = vc.get_contig_positions(contig)\n",
    "data = vc.data[(vc.data[\"contig\"] == contig) & (vc.data['reference_index'].isin(positions))]\n",
    "df = data.pivot(index=['read_id', 'label'], columns=['reference_index'], values='prob2')\n",
    "X = df.dropna()\n",
    "print(np.sum(pd.DataFrame(X.index.get_level_values(1))[\"label\"] == \"YWD448a\"))\n",
    "data = vc.data[(vc.data[\"contig\"] == contig)]\n",
    "df = data.pivot(index=['read_id', 'label'], columns=['reference_index'], values='prob2')\n",
    "X = df.dropna()\n",
    "print(np.sum(pd.DataFrame(X.index.get_level_values(1))[\"label\"] == \"YWD448a\"))"
   ]
  },
  {
   "cell_type": "code",
   "execution_count": null,
   "metadata": {},
   "outputs": [],
   "source": []
  },
  {
   "cell_type": "code",
   "execution_count": 12,
   "metadata": {},
   "outputs": [
    {
     "data": {
      "text/plain": [
       "26072"
      ]
     },
     "execution_count": 12,
     "metadata": {},
     "output_type": "execute_result"
    }
   ],
   "source": [
    "len(set(vc.data[(vc.data[\"contig\"] == contig)][\"read_id\"]))\n"
   ]
  },
  {
   "cell_type": "code",
   "execution_count": null,
   "metadata": {},
   "outputs": [],
   "source": []
  }
 ],
 "metadata": {
  "kernelspec": {
   "display_name": "read_clustering",
   "language": "python",
   "name": "read_clustering"
  },
  "language_info": {
   "codemirror_mode": {
    "name": "ipython",
    "version": 3
   },
   "file_extension": ".py",
   "mimetype": "text/x-python",
   "name": "python",
   "nbconvert_exporter": "python",
   "pygments_lexer": "ipython3",
   "version": "3.7.7"
  }
 },
 "nbformat": 4,
 "nbformat_minor": 2
}
