{
 "cells": [
  {
   "cell_type": "markdown",
   "metadata": {},
   "source": [
    "# Flongle Experiments\n"
   ]
  },
  {
   "cell_type": "code",
   "execution_count": 1,
   "metadata": {},
   "outputs": [
    {
     "name": "stderr",
     "output_type": "stream",
     "text": [
      "/Users/andrewbailey/anaconda3/envs/read_clustering/lib/python3.7/site-packages/umap/__init__.py:9: UserWarning: Tensorflow not installed; ParametricUMAP will be unavailable\n",
      "  warn(\"Tensorflow not installed; ParametricUMAP will be unavailable\")\n",
      "/Users/andrewbailey/anaconda3/envs/read_clustering/lib/python3.7/site-packages/sklearn/utils/deprecation.py:143: FutureWarning: The sklearn.metrics.classification module is  deprecated in version 0.22 and will be removed in version 0.24. The corresponding classes / functions should instead be imported from sklearn.metrics. Anything that cannot be imported from sklearn.metrics is now part of the private API.\n",
      "  warnings.warn(message, FutureWarning)\n"
     ]
    }
   ],
   "source": [
    "from read_clustering.variant_call import VariantCalls\n",
    "threshold = 0.5\n",
    "import pandas as pd\n",
    "import numpy as np\n",
    "import seaborn as sns\n",
    "import matplotlib.pyplot as plt\n",
    "import matplotlib as mpl\n",
    "import matplotlib.patches as mpatches\n",
    "import re"
   ]
  },
  {
   "cell_type": "code",
   "execution_count": 2,
   "metadata": {},
   "outputs": [],
   "source": [
    "twoprimeo_pos = [ 648,  649,  662,  804,  806,  816,  866,  875,  897,  907, 1132,\n",
    "       1436, 1448, 1449, 1887, 2196, 2219, 2255, 2279, 2280, 2287, 2336,\n",
    "       2346, 2416, 2420, 2618, 2639, 2723, 2728, 2790, 2792, 2814, 2920,\n",
    "       2921, 2945, 2947, 2958, 27,   99,  413,  419,  435,  540,  561,  577,  618,  795,  973,\n",
    "       1006, 1125, 1268, 1270, 1427, 1571, 1638]\n",
    "\n",
    "twoprimeo_pos_25 = [ 648,  649,  662,  804,  806,  816,  866,  875,  897,  907, 1132,\n",
    "       1436, 1448, 1449, 1887, 2196, 2219, 2255, 2279, 2280, 2287, 2336,\n",
    "       2346, 2416, 2420, 2618, 2639, 2723, 2728, 2790, 2792, 2814, 2920,\n",
    "       2921, 2945, 2947, 2958]\n",
    "\n",
    "twoprimeo_pos_18 = [27,   99,  413,  419,  435,  540,  561,  577,  618,  795,  973,\n",
    "       1006, 1125, 1268, 1270, 1427, 1571, 1638]"
   ]
  },
  {
   "cell_type": "code",
   "execution_count": 3,
   "metadata": {},
   "outputs": [],
   "source": [
    "pseduo_u_pos = [ 775,  959,  965,  985,  989, 1003, 1041, 1051, 1055, 1109, 1123,\n",
    "       2128, 2132, 2190, 2257, 2259, 2263, 2265, 2313, 2339, 2348, 2350,\n",
    "       2415, 2734, 2825, 2864, 2879, 2922, 2943, 2974, 105,  119,  210,  301,  465,  631,  758,  765,  998, 1180, 1186,\n",
    "       1289, 1414]\n",
    "pseduo_u_pos_18 = [105,  119,  210,  301,  465,  631,  758,  765,  998, 1180, 1186,\n",
    "       1289, 1414]\n",
    "pseduo_u_pos_25 = [ 775,  959,  965,  985,  989, 1003, 1041, 1051, 1055, 1109, 1123,\n",
    "       2128, 2132, 2190, 2257, 2259, 2263, 2265, 2313, 2339, 2348, 2350,\n",
    "       2415, 2734, 2825, 2864, 2879, 2922, 2943, 2974]\n"
   ]
  },
  {
   "cell_type": "code",
   "execution_count": 4,
   "metadata": {},
   "outputs": [],
   "source": [
    "ivt_path = \"/Users/andrewbailey/CLionProjects/rrna_analysis/notebooks/rrna_data/rrna_kube_testing/small_5mer/depletion/train_500_test_500_prob_0.7_em_iterations_30_gaussian_true_FREQ_THRESHOLD_0_USE_IVT_TRAINING_true_unsupervised_false_all_kmers_false_small_model_5mer_use_median_true_min_sd_0/all_variant_calls/template_hmm30/canonical_ivt.csv\"\n",
    "cbf5_glu_psu_depletion_path = \"/Users/andrewbailey/CLionProjects/rrna_analysis/notebooks/rrna_data/rrna_kube_testing/small_5mer/depletion/train_500_test_500_prob_0.7_em_iterations_30_gaussian_true_FREQ_THRESHOLD_0_USE_IVT_TRAINING_true_unsupervised_false_all_kmers_false_small_model_5mer_use_median_true_min_sd_0/all_variant_calls/template_hmm30/run_cbf5_glu.csv\"\n",
    "nop58_glu_2o_depletion_path = \"/Users/andrewbailey/CLionProjects/rrna_analysis/notebooks/rrna_data/rrna_kube_testing/small_5mer/depletion/train_500_test_500_prob_0.7_em_iterations_30_gaussian_true_FREQ_THRESHOLD_0_USE_IVT_TRAINING_true_unsupervised_false_all_kmers_false_small_model_5mer_use_median_true_min_sd_0/all_variant_calls/template_hmm30/run_nop_glu.csv\"       \n",
    "native_cbf5_gal_path = \"/Users/andrewbailey/CLionProjects/rrna_analysis/notebooks/rrna_data/rrna_kube_testing/small_5mer/depletion/train_500_test_500_prob_0.7_em_iterations_30_gaussian_true_FREQ_THRESHOLD_0_USE_IVT_TRAINING_true_unsupervised_false_all_kmers_false_small_model_5mer_use_median_true_min_sd_0/all_variant_calls/template_hmm30/native_cbf5_gal.csv\"\n",
    "\n",
    "cbf5_glu_psu_depletion_path = \"/Users/andrewbailey/CLionProjects/read_clustering/data/inference/variant_calls/depletion_cbf5_glu_round30_alt_canonical_supervised_500_500.model.csv\"\n",
    "nop58_glu_2o_depletion_path = \"/Users/andrewbailey/CLionProjects/read_clustering/data/inference/variant_calls/depletion_nop58_glu_round30_alt_canonical_supervised_500_500.model.csv\"       \n",
    "\n",
    "\n",
    "all_file_paths = [ivt_path, cbf5_glu_psu_depletion_path, nop58_glu_2o_depletion_path, native_cbf5_gal_path]\n",
    "all_labels = [\"ivt\", \"cbf5_glu_psu_depletion\", \"nop58_glu_2o_depletion\", \"cbf5_gal\"]\n",
    "\n",
    "\n",
    "\n",
    "# # YWD448a: loss psu @ 18-759; 25-775(776)\n",
    "# YWD448a = \"/Users/andrewbailey/CLionProjects/rrna_analysis/flongle/flongle_pass_csvs/mutant448_YPD.csv\"\n",
    "# # YWD451a: loss psu @ 18-1289\n",
    "# YWD451a = \"/Users/andrewbailey/CLionProjects/rrna_analysis/flongle/flongle_pass_csvs/mutant451_YPD.csv\"\n",
    "# # YWD452a: loss of 2'Ome @ 18-436\n",
    "# YWD452a = \"/Users/andrewbailey/CLionProjects/rrna_analysis/flongle/flongle_pass_csvs/mutant452_YPD.csv\"\n",
    "# # WT_CY: cycloheximide\n",
    "# WT_CY = \"/Users/andrewbailey/CLionProjects/rrna_analysis/flongle/flongle_pass_csvs/WT_CY.csv\"\n",
    "# # WT_CY: Potassium Acetate\n",
    "# WT_KOAC = \"/Users/andrewbailey/CLionProjects/rrna_analysis/flongle/flongle_pass_csvs/WT_KOAC.csv\"\n",
    "# # actual wildtype\n",
    "# WT_YPD = \"/Users/andrewbailey/CLionProjects/rrna_analysis/flongle/flongle_pass_csvs/WT_YPD.csv\"\n",
    "\n",
    "# ROUND 2 experiments\n",
    "# stationary phase\n",
    "WT_stationary = \"/Users/andrewbailey/CLionProjects/rrna_analysis/flongle/flongle_all_csvs/WT_stationary.csv\"\n",
    "# deletion of Dbp3d (a DEAD box protein important for processing 2'Ome snoRNAs U18 and U24)\n",
    "Dbp3d_YPD = \"/Users/andrewbailey/CLionProjects/rrna_analysis/flongle/flongle_all_csvs/Dbp3d_YPD.csv\"\n",
    "# PB (an RNA splicing inhibitor)\n",
    "WT_PB = \"/Users/andrewbailey/CLionProjects/rrna_analysis/flongle/flongle_all_csvs/WT_PB.csv\"\n",
    "# rapamycin treatment for 5 hours (activates the TOR kinase pathway that regulates cell growth and ribosome biogenesis)\n",
    "WT_rapa5 = \"/Users/andrewbailey/CLionProjects/rrna_analysis/flongle/flongle_all_csvs/WT_rapa5.csv\"\n",
    "# deletion of Trl1 (Manny showed this is important for making intron circles, which seem to me enriched for introns that encode snoRNAs)\n",
    "trl1d_YPD = \"/Users/andrewbailey/CLionProjects/rrna_analysis/flongle/flongle_all_csvs/trl1d_YPD.csv\"\n",
    "\n",
    "YWD448a = \"/Users/andrewbailey/CLionProjects/rrna_analysis/flongle/flongle_all_csvs/mutant448_YPD.csv\"\n",
    "# YWD451a: loss psu @ 18-1289\n",
    "YWD451a = \"/Users/andrewbailey/CLionProjects/rrna_analysis/flongle/flongle_all_csvs/mutant451_YPD.csv\"\n",
    "# YWD452a: loss of 2'Ome @ 18-436\n",
    "YWD452a = \"/Users/andrewbailey/CLionProjects/rrna_analysis/flongle/flongle_all_csvs/mutant452_YPD.csv\"\n",
    "# WT_CY: cycloheximide\n",
    "WT_CY = \"/Users/andrewbailey/CLionProjects/rrna_analysis/flongle/flongle_all_csvs/WT_CY.csv\"\n",
    "# WT_CY: Potassium Acetate\n",
    "WT_KOAC = \"/Users/andrewbailey/CLionProjects/rrna_analysis/flongle/flongle_all_csvs/WT_KOAC.csv\"\n",
    "# actual wildtype\n",
    "WT_YPD = \"/Users/andrewbailey/CLionProjects/rrna_analysis/flongle/flongle_all_csvs/WT_YPD.csv\"\n",
    "\n",
    "prp43_18deg = \"/Users/andrewbailey/CLionProjects/rrna_analysis/flongle/flongle_all_csvs/prp43_18deg.csv\"\n",
    "mix = \"/Users/andrewbailey/CLionProjects/rrna_analysis/flongle/flongle_all_csvs/Mix.csv\"\n",
    "\n",
    "\n",
    "file_paths = [YWD448a, YWD451a, YWD452a, WT_CY, WT_KOAC, WT_YPD]\n",
    "labels = [\"YWD448a\", \"YWD451a\", \"YWD452a\", \"WT_CY\", \"WT_KOAC\", \"WT_YPD\"]\n",
    "all_file_paths.extend(file_paths)\n",
    "all_labels.extend(labels)"
   ]
  },
  {
   "cell_type": "code",
   "execution_count": 5,
   "metadata": {},
   "outputs": [],
   "source": [
    "# depletions 1\n",
    "all_file_paths = [WT_YPD, cbf5_glu_psu_depletion_path, nop58_glu_2o_depletion_path, ivt_path]\n",
    "all_labels = [\"1: wild type\", \"2: CBF5 PseudoU depletion\", \"3: NOP58 2'O-Methyl depletion\", \"4: ivt\"]\n"
   ]
  },
  {
   "cell_type": "code",
   "execution_count": 6,
   "metadata": {},
   "outputs": [],
   "source": [
    "# knockouts\n",
    "all_file_paths = [WT_YPD, YWD448a, YWD451a, YWD452a, ivt_path]\n",
    "all_labels = [\"1: wild type\", \"2: 448a\", \"3: 451a\", \"4: 452a\", \"5: ivt\"]\n"
   ]
  },
  {
   "cell_type": "code",
   "execution_count": 7,
   "metadata": {},
   "outputs": [],
   "source": [
    "all_file_paths = [WT_YPD, cbf5_glu_psu_depletion_path, nop58_glu_2o_depletion_path]\n",
    "all_labels = [\"1: wild type\", \"2: CBF5 PseudoU depletion\", \"3: NOP58 2'O-Methyl depletion\"]\n"
   ]
  },
  {
   "cell_type": "code",
   "execution_count": 8,
   "metadata": {},
   "outputs": [],
   "source": [
    "# experiments\n",
    "all_file_paths = [WT_YPD, WT_CY, WT_KOAC, Dbp3d_YPD, WT_PB, WT_rapa5, WT_stationary, trl1d_YPD, \n",
    "                 YWD448a, YWD451a, YWD452a, prp43_18deg, mix]\n",
    "all_labels = [\"1: wild type\", \"2: Cycloheximide\", \"3: 1% potassium acetate (KOAC)\",\n",
    "             \"4: deletion of Dbp3d\", \"5: PB\", \"6: rapamycin\", \"7: stationary phase\", \n",
    "           \"8: deletion of Trl1\", \"9: YWD448a\", \"10: YWD451a\", \"11: YWD452a\", \n",
    "              \"12: prp43_18deg\", \"13: mix\"]\n",
    "\n",
    "# all_file_paths = [Dbp3d_YPD]\n",
    "# all_labels = [\"1: deletion of Dbp3d\"]\n"
   ]
  },
  {
   "cell_type": "code",
   "execution_count": 9,
   "metadata": {},
   "outputs": [],
   "source": [
    "# all_file_paths = [WT_YPD, mix, prp43_18deg]\n",
    "# all_labels = [\"1: wild type\", \"2: mix\", \"3: prp43_18deg\", ]\n",
    "# all_file_paths = [mix]\n",
    "# all_labels = [\"1: mix\"]\n",
    "# all_file_paths = [prp43_18deg]\n",
    "# all_labels = [\"1: prp43_18deg\"]\n",
    "# all_file_paths = [Dbp3d_YPD, prp43_18deg]\n",
    "# all_labels = [\"1: Dbp3d_YPD\", \"2: prp43_18deg\"]\n",
    "# all_file_paths = [WT_YPD, Dbp3d_YPD, prp43_18deg]\n",
    "# all_labels = [\"1: wild type\", \"2: Dbp3d_YPD\", \"3: prp43_18deg\"]\n"
   ]
  },
  {
   "cell_type": "code",
   "execution_count": 10,
   "metadata": {},
   "outputs": [],
   "source": [
    "# vc = VariantCalls(file_paths, labels)\n",
    "# vc = VariantCalls(all_file_paths, all_labels, color_map=\"Set1\")\n",
    "vc = VariantCalls(all_file_paths, all_labels, color_map=\"tab20\")\n"
   ]
  },
  {
   "cell_type": "code",
   "execution_count": 11,
   "metadata": {},
   "outputs": [],
   "source": [
    "# vc.write_experiment_percent_modified(\"/Users/andrewbailey/CLionProjects/rrna_analysis/summary_data/all_experiment_mod_percents.csv\")"
   ]
  },
  {
   "cell_type": "code",
   "execution_count": 12,
   "metadata": {},
   "outputs": [],
   "source": [
    "# output_path = f\"/Users/andrewbailey/CLionProjects/rrna_analysis/summary_data/all_experiment_correlations.csv\"\n",
    "# vc.write_correlations(output_path, stat=\"r2\")\n"
   ]
  },
  {
   "cell_type": "code",
   "execution_count": null,
   "metadata": {},
   "outputs": [
    {
     "ename": "RuntimeError",
     "evalue": "module compiled against API version 0xe but this version of numpy is 0xd",
     "output_type": "error",
     "traceback": [
      "\u001b[0;31m---------------------------------------------------------------------------\u001b[0m",
      "\u001b[0;31mRuntimeError\u001b[0m                              Traceback (most recent call last)",
      "\u001b[0;31mRuntimeError\u001b[0m: module compiled against API version 0xe but this version of numpy is 0xd"
     ]
    },
    {
     "name": "stderr",
     "output_type": "stream",
     "text": [
      "/Users/andrewbailey/anaconda3/envs/read_clustering/lib/python3.7/site-packages/seaborn/matrix.py:649: UserWarning: Clustering large matrix with scipy. Installing `fastcluster` may give better performance.\n",
      "  warnings.warn(msg)\n"
     ]
    },
    {
     "ename": "RuntimeError",
     "evalue": "module compiled against API version 0xe but this version of numpy is 0xd",
     "output_type": "error",
     "traceback": [
      "\u001b[0;31m---------------------------------------------------------------------------\u001b[0m",
      "\u001b[0;31mRuntimeError\u001b[0m                              Traceback (most recent call last)",
      "\u001b[0;31mRuntimeError\u001b[0m: module compiled against API version 0xe but this version of numpy is 0xd"
     ]
    },
    {
     "name": "stderr",
     "output_type": "stream",
     "text": [
      "/Users/andrewbailey/anaconda3/envs/read_clustering/lib/python3.7/site-packages/seaborn/matrix.py:649: UserWarning: Clustering large matrix with scipy. Installing `fastcluster` may give better performance.\n",
      "  warnings.warn(msg)\n"
     ]
    },
    {
     "ename": "RuntimeError",
     "evalue": "module compiled against API version 0xe but this version of numpy is 0xd",
     "output_type": "error",
     "traceback": [
      "\u001b[0;31m---------------------------------------------------------------------------\u001b[0m",
      "\u001b[0;31mRuntimeError\u001b[0m                              Traceback (most recent call last)",
      "\u001b[0;31mRuntimeError\u001b[0m: module compiled against API version 0xe but this version of numpy is 0xd"
     ]
    },
    {
     "name": "stderr",
     "output_type": "stream",
     "text": [
      "/Users/andrewbailey/anaconda3/envs/read_clustering/lib/python3.7/site-packages/seaborn/matrix.py:649: UserWarning: Clustering large matrix with scipy. Installing `fastcluster` may give better performance.\n",
      "  warnings.warn(msg)\n"
     ]
    },
    {
     "ename": "RuntimeError",
     "evalue": "module compiled against API version 0xe but this version of numpy is 0xd",
     "output_type": "error",
     "traceback": [
      "\u001b[0;31m---------------------------------------------------------------------------\u001b[0m",
      "\u001b[0;31mRuntimeError\u001b[0m                              Traceback (most recent call last)",
      "\u001b[0;31mRuntimeError\u001b[0m: module compiled against API version 0xe but this version of numpy is 0xd"
     ]
    },
    {
     "name": "stderr",
     "output_type": "stream",
     "text": [
      "/Users/andrewbailey/anaconda3/envs/read_clustering/lib/python3.7/site-packages/seaborn/matrix.py:649: UserWarning: Clustering large matrix with scipy. Installing `fastcluster` may give better performance.\n",
      "  warnings.warn(msg)\n"
     ]
    },
    {
     "ename": "RuntimeError",
     "evalue": "module compiled against API version 0xe but this version of numpy is 0xd",
     "output_type": "error",
     "traceback": [
      "\u001b[0;31m---------------------------------------------------------------------------\u001b[0m",
      "\u001b[0;31mRuntimeError\u001b[0m                              Traceback (most recent call last)",
      "\u001b[0;31mRuntimeError\u001b[0m: module compiled against API version 0xe but this version of numpy is 0xd"
     ]
    },
    {
     "name": "stderr",
     "output_type": "stream",
     "text": [
      "/Users/andrewbailey/anaconda3/envs/read_clustering/lib/python3.7/site-packages/seaborn/matrix.py:649: UserWarning: Clustering large matrix with scipy. Installing `fastcluster` may give better performance.\n",
      "  warnings.warn(msg)\n"
     ]
    },
    {
     "ename": "RuntimeError",
     "evalue": "module compiled against API version 0xe but this version of numpy is 0xd",
     "output_type": "error",
     "traceback": [
      "\u001b[0;31m---------------------------------------------------------------------------\u001b[0m",
      "\u001b[0;31mRuntimeError\u001b[0m                              Traceback (most recent call last)",
      "\u001b[0;31mRuntimeError\u001b[0m: module compiled against API version 0xe but this version of numpy is 0xd"
     ]
    },
    {
     "name": "stderr",
     "output_type": "stream",
     "text": [
      "/Users/andrewbailey/anaconda3/envs/read_clustering/lib/python3.7/site-packages/seaborn/matrix.py:649: UserWarning: Clustering large matrix with scipy. Installing `fastcluster` may give better performance.\n",
      "  warnings.warn(msg)\n"
     ]
    },
    {
     "ename": "RuntimeError",
     "evalue": "module compiled against API version 0xe but this version of numpy is 0xd",
     "output_type": "error",
     "traceback": [
      "\u001b[0;31m---------------------------------------------------------------------------\u001b[0m",
      "\u001b[0;31mRuntimeError\u001b[0m                              Traceback (most recent call last)",
      "\u001b[0;31mRuntimeError\u001b[0m: module compiled against API version 0xe but this version of numpy is 0xd"
     ]
    },
    {
     "name": "stderr",
     "output_type": "stream",
     "text": [
      "/Users/andrewbailey/anaconda3/envs/read_clustering/lib/python3.7/site-packages/seaborn/matrix.py:649: UserWarning: Clustering large matrix with scipy. Installing `fastcluster` may give better performance.\n",
      "  warnings.warn(msg)\n"
     ]
    },
    {
     "ename": "RuntimeError",
     "evalue": "module compiled against API version 0xe but this version of numpy is 0xd",
     "output_type": "error",
     "traceback": [
      "\u001b[0;31m---------------------------------------------------------------------------\u001b[0m",
      "\u001b[0;31mRuntimeError\u001b[0m                              Traceback (most recent call last)",
      "\u001b[0;31mRuntimeError\u001b[0m: module compiled against API version 0xe but this version of numpy is 0xd"
     ]
    },
    {
     "name": "stderr",
     "output_type": "stream",
     "text": [
      "/Users/andrewbailey/anaconda3/envs/read_clustering/lib/python3.7/site-packages/seaborn/matrix.py:649: UserWarning: Clustering large matrix with scipy. Installing `fastcluster` may give better performance.\n",
      "  warnings.warn(msg)\n"
     ]
    },
    {
     "ename": "RuntimeError",
     "evalue": "module compiled against API version 0xe but this version of numpy is 0xd",
     "output_type": "error",
     "traceback": [
      "\u001b[0;31m---------------------------------------------------------------------------\u001b[0m",
      "\u001b[0;31mRuntimeError\u001b[0m                              Traceback (most recent call last)",
      "\u001b[0;31mRuntimeError\u001b[0m: module compiled against API version 0xe but this version of numpy is 0xd"
     ]
    },
    {
     "name": "stderr",
     "output_type": "stream",
     "text": [
      "/Users/andrewbailey/anaconda3/envs/read_clustering/lib/python3.7/site-packages/seaborn/matrix.py:649: UserWarning: Clustering large matrix with scipy. Installing `fastcluster` may give better performance.\n",
      "  warnings.warn(msg)\n"
     ]
    },
    {
     "ename": "RuntimeError",
     "evalue": "module compiled against API version 0xe but this version of numpy is 0xd",
     "output_type": "error",
     "traceback": [
      "\u001b[0;31m---------------------------------------------------------------------------\u001b[0m",
      "\u001b[0;31mRuntimeError\u001b[0m                              Traceback (most recent call last)",
      "\u001b[0;31mRuntimeError\u001b[0m: module compiled against API version 0xe but this version of numpy is 0xd"
     ]
    },
    {
     "name": "stderr",
     "output_type": "stream",
     "text": [
      "/Users/andrewbailey/anaconda3/envs/read_clustering/lib/python3.7/site-packages/seaborn/matrix.py:649: UserWarning: Clustering large matrix with scipy. Installing `fastcluster` may give better performance.\n",
      "  warnings.warn(msg)\n"
     ]
    },
    {
     "ename": "RuntimeError",
     "evalue": "module compiled against API version 0xe but this version of numpy is 0xd",
     "output_type": "error",
     "traceback": [
      "\u001b[0;31m---------------------------------------------------------------------------\u001b[0m",
      "\u001b[0;31mRuntimeError\u001b[0m                              Traceback (most recent call last)",
      "\u001b[0;31mRuntimeError\u001b[0m: module compiled against API version 0xe but this version of numpy is 0xd"
     ]
    },
    {
     "name": "stderr",
     "output_type": "stream",
     "text": [
      "/Users/andrewbailey/anaconda3/envs/read_clustering/lib/python3.7/site-packages/seaborn/matrix.py:649: UserWarning: Clustering large matrix with scipy. Installing `fastcluster` may give better performance.\n",
      "  warnings.warn(msg)\n"
     ]
    },
    {
     "ename": "RuntimeError",
     "evalue": "module compiled against API version 0xe but this version of numpy is 0xd",
     "output_type": "error",
     "traceback": [
      "\u001b[0;31m---------------------------------------------------------------------------\u001b[0m",
      "\u001b[0;31mRuntimeError\u001b[0m                              Traceback (most recent call last)",
      "\u001b[0;31mRuntimeError\u001b[0m: module compiled against API version 0xe but this version of numpy is 0xd"
     ]
    },
    {
     "name": "stderr",
     "output_type": "stream",
     "text": [
      "/Users/andrewbailey/anaconda3/envs/read_clustering/lib/python3.7/site-packages/seaborn/matrix.py:649: UserWarning: Clustering large matrix with scipy. Installing `fastcluster` may give better performance.\n",
      "  warnings.warn(msg)\n"
     ]
    },
    {
     "ename": "RuntimeError",
     "evalue": "module compiled against API version 0xe but this version of numpy is 0xd",
     "output_type": "error",
     "traceback": [
      "\u001b[0;31m---------------------------------------------------------------------------\u001b[0m",
      "\u001b[0;31mRuntimeError\u001b[0m                              Traceback (most recent call last)",
      "\u001b[0;31mRuntimeError\u001b[0m: module compiled against API version 0xe but this version of numpy is 0xd"
     ]
    },
    {
     "name": "stderr",
     "output_type": "stream",
     "text": [
      "/Users/andrewbailey/anaconda3/envs/read_clustering/lib/python3.7/site-packages/seaborn/matrix.py:649: UserWarning: Clustering large matrix with scipy. Installing `fastcluster` may give better performance.\n",
      "  warnings.warn(msg)\n"
     ]
    },
    {
     "ename": "RuntimeError",
     "evalue": "module compiled against API version 0xe but this version of numpy is 0xd",
     "output_type": "error",
     "traceback": [
      "\u001b[0;31m---------------------------------------------------------------------------\u001b[0m",
      "\u001b[0;31mRuntimeError\u001b[0m                              Traceback (most recent call last)",
      "\u001b[0;31mRuntimeError\u001b[0m: module compiled against API version 0xe but this version of numpy is 0xd"
     ]
    },
    {
     "name": "stderr",
     "output_type": "stream",
     "text": [
      "/Users/andrewbailey/anaconda3/envs/read_clustering/lib/python3.7/site-packages/seaborn/matrix.py:649: UserWarning: Clustering large matrix with scipy. Installing `fastcluster` may give better performance.\n",
      "  warnings.warn(msg)\n"
     ]
    },
    {
     "ename": "RuntimeError",
     "evalue": "module compiled against API version 0xe but this version of numpy is 0xd",
     "output_type": "error",
     "traceback": [
      "\u001b[0;31m---------------------------------------------------------------------------\u001b[0m",
      "\u001b[0;31mRuntimeError\u001b[0m                              Traceback (most recent call last)",
      "\u001b[0;31mRuntimeError\u001b[0m: module compiled against API version 0xe but this version of numpy is 0xd"
     ]
    },
    {
     "name": "stderr",
     "output_type": "stream",
     "text": [
      "/Users/andrewbailey/anaconda3/envs/read_clustering/lib/python3.7/site-packages/seaborn/matrix.py:649: UserWarning: Clustering large matrix with scipy. Installing `fastcluster` may give better performance.\n",
      "  warnings.warn(msg)\n"
     ]
    },
    {
     "ename": "RuntimeError",
     "evalue": "module compiled against API version 0xe but this version of numpy is 0xd",
     "output_type": "error",
     "traceback": [
      "\u001b[0;31m---------------------------------------------------------------------------\u001b[0m",
      "\u001b[0;31mRuntimeError\u001b[0m                              Traceback (most recent call last)",
      "\u001b[0;31mRuntimeError\u001b[0m: module compiled against API version 0xe but this version of numpy is 0xd"
     ]
    },
    {
     "name": "stderr",
     "output_type": "stream",
     "text": [
      "/Users/andrewbailey/anaconda3/envs/read_clustering/lib/python3.7/site-packages/seaborn/matrix.py:649: UserWarning: Clustering large matrix with scipy. Installing `fastcluster` may give better performance.\n",
      "  warnings.warn(msg)\n"
     ]
    },
    {
     "ename": "RuntimeError",
     "evalue": "module compiled against API version 0xe but this version of numpy is 0xd",
     "output_type": "error",
     "traceback": [
      "\u001b[0;31m---------------------------------------------------------------------------\u001b[0m",
      "\u001b[0;31mRuntimeError\u001b[0m                              Traceback (most recent call last)",
      "\u001b[0;31mRuntimeError\u001b[0m: module compiled against API version 0xe but this version of numpy is 0xd"
     ]
    },
    {
     "name": "stderr",
     "output_type": "stream",
     "text": [
      "/Users/andrewbailey/anaconda3/envs/read_clustering/lib/python3.7/site-packages/seaborn/matrix.py:649: UserWarning: Clustering large matrix with scipy. Installing `fastcluster` may give better performance.\n",
      "  warnings.warn(msg)\n"
     ]
    },
    {
     "ename": "RuntimeError",
     "evalue": "module compiled against API version 0xe but this version of numpy is 0xd",
     "output_type": "error",
     "traceback": [
      "\u001b[0;31m---------------------------------------------------------------------------\u001b[0m",
      "\u001b[0;31mRuntimeError\u001b[0m                              Traceback (most recent call last)",
      "\u001b[0;31mRuntimeError\u001b[0m: module compiled against API version 0xe but this version of numpy is 0xd"
     ]
    },
    {
     "name": "stderr",
     "output_type": "stream",
     "text": [
      "/Users/andrewbailey/anaconda3/envs/read_clustering/lib/python3.7/site-packages/seaborn/matrix.py:649: UserWarning: Clustering large matrix with scipy. Installing `fastcluster` may give better performance.\n",
      "  warnings.warn(msg)\n"
     ]
    },
    {
     "ename": "RuntimeError",
     "evalue": "module compiled against API version 0xe but this version of numpy is 0xd",
     "output_type": "error",
     "traceback": [
      "\u001b[0;31m---------------------------------------------------------------------------\u001b[0m",
      "\u001b[0;31mRuntimeError\u001b[0m                              Traceback (most recent call last)",
      "\u001b[0;31mRuntimeError\u001b[0m: module compiled against API version 0xe but this version of numpy is 0xd"
     ]
    },
    {
     "name": "stderr",
     "output_type": "stream",
     "text": [
      "/Users/andrewbailey/anaconda3/envs/read_clustering/lib/python3.7/site-packages/seaborn/matrix.py:649: UserWarning: Clustering large matrix with scipy. Installing `fastcluster` may give better performance.\n",
      "  warnings.warn(msg)\n"
     ]
    }
   ],
   "source": [
    "output_path = f\"/Users/andrewbailey/CLionProjects/rrna_analysis/summary_data/\"\n",
    "vc.plot_all_heatmap_dendrograms(output_path)\n"
   ]
  },
  {
   "cell_type": "code",
   "execution_count": null,
   "metadata": {
    "scrolled": false
   },
   "outputs": [],
   "source": [
    "# from IPython.display import set_matplotlib_formats\n",
    "# %matplotlib inline\n",
    "# set_matplotlib_formats('svg')\n",
    "# import matplotlib.pyplot as plt\n",
    "# plt.rcParams['svg.fonttype'] = 'none'\n",
    "%matplotlib notebook\n",
    "\n",
    "contig = 'RDN18-1'\n",
    "n_components = 2\n",
    "n = 1000\n",
    "save_fig_path = None\n",
    "other_params = {\"alpha\": 0.8, \"s\":15}\n",
    "# save_fig_path = f\"/Users/andrewbailey/CLionProjects/rrna_analysis/figures/Figure2/{contig}_umap_wt_deps.png\"\n",
    "vc.plot_UMAP_by_label(contig, vc.get_contig_positions(contig), n_components=n_components, figure_path=save_fig_path, n=n, **other_params)   "
   ]
  },
  {
   "cell_type": "code",
   "execution_count": null,
   "metadata": {
    "scrolled": false
   },
   "outputs": [],
   "source": [
    "# %matplotlib notebook\n",
    "\n",
    "n = 500\n",
    "save_fig_path = None\n",
    "metric = 'euclidean'\n",
    "metric = \"correlation\"\n",
    "\n",
    "method = 'average'\n",
    "contig = 'RDN18-1'\n",
    "# save_fig_path = f\"/Users/andrewbailey/CLionProjects/rrna_analysis/figures/Figure2/{contig}_dendrogram_wt_deps.png\"\n",
    "# save_fig_path = f\"/Users/andrewbailey/CLionProjects/rrna_analysis/figures/Figure4/{contig}_dendrogram_wt_prp43.png\"\n",
    "save_fig_path = f\"/Users/andrewbailey/CLionProjects/rrna_analysis/figures/flongle/{contig}_dendrogram_all.png\"\n",
    "\n",
    "vc.plot_heatmap_dendrogram(contig, vc.get_contig_positions(contig), n=n, figure_path=save_fig_path,\n",
    "                           metric=metric,\n",
    "                           method=method, \n",
    "                           col_cluster=False,\n",
    "                           row_cluster=False,\n",
    "                           twoprimeo_pos=twoprimeo_pos,\n",
    "                           pseduo_u_pos=pseduo_u_pos)\n"
   ]
  },
  {
   "cell_type": "code",
   "execution_count": null,
   "metadata": {
    "scrolled": false
   },
   "outputs": [],
   "source": [
    "contig = 'RDN18-1'\n",
    "save_fig_path = None\n",
    "# save_fig_path = \"/Users/andrewbailey/CLionProjects/rrna_analysis/figures/flongle/YWD448a/native_vs_YWD448a_18S.png\"\n",
    "cmap = \"hot\"\n",
    "cmap = \"Blues\"\n",
    "\n",
    "norm = None\n",
    "pseudou=\"ql\"\n",
    "twoprimeo=[\"na\", \"ob\", \"pc\", \"qd\"]\n",
    "vc.plot_ld_heatmap(contig, vc.get_contig_positions(contig), stat=\"r2\", cmap=cmap, norm=norm, figure_path=save_fig_path)\n"
   ]
  },
  {
   "cell_type": "code",
   "execution_count": null,
   "metadata": {},
   "outputs": [],
   "source": [
    "contig = 'RDN25-1'\n",
    "n_components = 2\n",
    "n = 1000\n",
    "save_fig_path = None\n",
    "other_params = {\"alpha\": 0.8, \"s\":15}\n",
    "# save_fig_path = f\"/Users/andrewbailey/CLionProjects/rrna_analysis/figures/Figure2/{contig}_umap_wt_deps.png\"\n",
    "# save_fig_path = None\n",
    "vc.plot_UMAP_by_label(contig, vc.get_contig_positions(contig), n_components=n_components, figure_path=save_fig_path, n=n, **other_params)       "
   ]
  },
  {
   "cell_type": "code",
   "execution_count": null,
   "metadata": {
    "scrolled": false
   },
   "outputs": [],
   "source": [
    "n = 500\n",
    "contig = 'RDN25-1'\n",
    "\n",
    "figure_path = None\n",
    "# figure_path = f\"/Users/andrewbailey/CLionProjects/rrna_analysis/figures/flongle/{n}_knockdowns_25S.png\"\n",
    "# save_fig_path = f\"/Users/andrewbailey/CLionProjects/rrna_analysis/figures/Figure2/{contig}_dendrogram_wt_deps.png\"\n",
    "# save_fig_path = f\"/Users/andrewbailey/CLionProjects/rrna_analysis/figures/Figure4/{contig}_dendrogram_wt_prp43.png\"\n",
    "save_fig_path = f\"/Users/andrewbailey/CLionProjects/rrna_analysis/figures/flongle/{contig}_dendrogram_all.png\"\n",
    "\n",
    "metric = 'euclidean'\n",
    "metric = \"correlation\"\n",
    "\n",
    "method = 'average'\n",
    "\n",
    "vc.plot_heatmap_dendrogram(contig, vc.get_contig_positions(contig), n=n, figure_path=save_fig_path,\n",
    "                           metric=metric,\n",
    "                           method=method, \n",
    "                           col_cluster=False,\n",
    "                           row_cluster=False,\n",
    "                           twoprimeo_pos=twoprimeo_pos,\n",
    "                           pseduo_u_pos=pseduo_u_pos)\n"
   ]
  },
  {
   "cell_type": "code",
   "execution_count": null,
   "metadata": {},
   "outputs": [],
   "source": [
    "contig = 'RDN25-1'\n",
    "save_fig_path = None\n",
    "# save_fig_path = \"/Users/andrewbailey/CLionProjects/rrna_analysis/figures/flongle/YWD448a/native_vs_YWD448a_18S.png\"\n",
    "cmap = \"hot\"\n",
    "cmap = \"Blues\"\n",
    "\n",
    "norm = None\n",
    "pseudou=\"ql\"\n",
    "twoprimeo=[\"na\", \"ob\", \"pc\", \"qd\"]\n",
    "vc.plot_ld_heatmap(contig, vc.get_contig_positions(contig), stat=\"r2\", cmap=cmap, norm=norm, figure_path=save_fig_path)\n"
   ]
  },
  {
   "cell_type": "code",
   "execution_count": null,
   "metadata": {},
   "outputs": [],
   "source": [
    "len(vc.get_X(\"RDN25-1\", vc.get_contig_positions(\"RDN25-1\")))"
   ]
  },
  {
   "cell_type": "code",
   "execution_count": null,
   "metadata": {},
   "outputs": [],
   "source": [
    "len(vc.get_X(\"RDN18-1\", vc.get_contig_positions(\"RDN18-1\")))"
   ]
  },
  {
   "cell_type": "code",
   "execution_count": null,
   "metadata": {},
   "outputs": [],
   "source": [
    "all_file_paths = [WT_YPD]\n",
    "all_labels = [\"1: wild type\"]\n",
    "\n",
    "vc = VariantCalls(all_file_paths, all_labels)\n"
   ]
  },
  {
   "cell_type": "code",
   "execution_count": null,
   "metadata": {},
   "outputs": [],
   "source": [
    "contig = 'RDN25-1'\n",
    "save_fig_path = None\n",
    "# save_fig_path = \"/Users/andrewbailey/CLionProjects/rrna_analysis/figures/flongle/YWD448a/native_vs_YWD448a_18S.png\"\n",
    "cmap = \"hot\"\n",
    "cmap = \"binary\"\n",
    "cmap = \"Blues\"\n",
    "\n",
    "norm = None\n",
    "pseudou=\"ql\"\n",
    "twoprimeo=[\"na\", \"ob\", \"pc\", \"qd\"]\n",
    "vc.plot_ld_heatmap(contig, vc.get_contig_positions(contig), stat=\"r2\", cmap=cmap, norm=norm, figure_path=save_fig_path)\n"
   ]
  },
  {
   "cell_type": "code",
   "execution_count": null,
   "metadata": {},
   "outputs": [],
   "source": []
  },
  {
   "cell_type": "markdown",
   "metadata": {},
   "source": [
    "# Get positions which have largest difference in percent mod"
   ]
  },
  {
   "cell_type": "code",
   "execution_count": null,
   "metadata": {},
   "outputs": [],
   "source": [
    "all_file_paths = [Dbp3d_YPD, WT_YPD]\n",
    "all_labels = [\"Dbp3d\", \"wt\"]\n",
    "\n",
    "vc = VariantCalls(all_file_paths, all_labels)\n"
   ]
  },
  {
   "cell_type": "code",
   "execution_count": null,
   "metadata": {},
   "outputs": [],
   "source": [
    "contig = \"RDN25-1\"\n",
    "positions = vc.get_contig_positions(contig)\n",
    "\n",
    "X = vc.get_X(contig, positions)"
   ]
  },
  {
   "cell_type": "code",
   "execution_count": null,
   "metadata": {},
   "outputs": [],
   "source": [
    "Dbp3d = X.loc[(slice(None), 'Dbp3d'), :]\n",
    "wt = X.loc[(slice(None), 'wt'), :]\n"
   ]
  },
  {
   "cell_type": "code",
   "execution_count": null,
   "metadata": {},
   "outputs": [],
   "source": [
    "differences = (wt.mean() - Dbp3d.mean()).sort_values(ascending=False)\n",
    "differences.hist(bins=40)"
   ]
  },
  {
   "cell_type": "code",
   "execution_count": null,
   "metadata": {},
   "outputs": [],
   "source": [
    "pd.set_option('display.max_rows', None)\n",
    "print(differences)\n",
    "pd.set_option('display.max_rows', 10)\n"
   ]
  },
  {
   "cell_type": "markdown",
   "metadata": {},
   "source": [
    "## Split 25S clusters\n"
   ]
  },
  {
   "cell_type": "code",
   "execution_count": null,
   "metadata": {},
   "outputs": [],
   "source": [
    "all_file_paths = [Dbp3d_YPD, WT_YPD]\n",
    "all_labels = [\"Dbp3d\", \"wt\"]\n",
    "\n",
    "vc = VariantCalls(all_file_paths, all_labels)\n"
   ]
  },
  {
   "cell_type": "code",
   "execution_count": null,
   "metadata": {},
   "outputs": [],
   "source": [
    "pseudou=\"ql\"\n",
    "twoprimeo=[\"na\", \"ob\", \"pc\", \"qd\"]\n",
    "contig = \"RDN25-1\"\n"
   ]
  },
  {
   "cell_type": "code",
   "execution_count": null,
   "metadata": {},
   "outputs": [],
   "source": [
    "positions = vc.get_contig_positions(contig)\n",
    "data = vc.data[(vc.data[\"contig\"] == contig) & (vc.data['reference_index'].isin(positions))]\n",
    "df = data.pivot(index=['read_id', 'label'], columns=['reference_index'], values='prob2')\n",
    "X = df.dropna()\n",
    "Dbp3d = X.loc[(slice(None), 'Dbp3d'), :]\n",
    "wt = X.loc[(slice(None), 'wt'), :]\n"
   ]
  },
  {
   "cell_type": "code",
   "execution_count": null,
   "metadata": {},
   "outputs": [],
   "source": [
    "Dbp3d[[1436, 1448, 1449]].sum(axis=1).hist()"
   ]
  },
  {
   "cell_type": "code",
   "execution_count": null,
   "metadata": {},
   "outputs": [],
   "source": [
    "X = Dbp3d[Dbp3d[[1436, 1448, 1449]].sum(axis=1) < 1]\n",
    "print(len(X))"
   ]
  },
  {
   "cell_type": "code",
   "execution_count": null,
   "metadata": {},
   "outputs": [],
   "source": [
    "contig = 'RDN25-1'\n",
    "save_fig_path = None\n",
    "# save_fig_path = \"/Users/andrewbailey/CLionProjects/rrna_analysis/figures/flongle/YWD448a/native_vs_YWD448a_18S.png\"\n",
    "cmap = \"hot\"\n",
    "cmap = \"binary\"\n",
    "cmap = \"Blues\"\n",
    "\n",
    "norm = None\n",
    "pseudou=\"ql\"\n",
    "twoprimeo=[\"na\", \"ob\", \"pc\", \"qd\"]\n",
    "vc._plot_ld_heatmap(X, contig, stat=\"r2\", cmap=cmap, norm=norm, figure_path=save_fig_path)\n"
   ]
  },
  {
   "cell_type": "code",
   "execution_count": null,
   "metadata": {},
   "outputs": [],
   "source": [
    "X = Dbp3d[Dbp3d[[1436, 1448, 1449]].sum(axis=1) > 2]\n",
    "print(len(X))"
   ]
  },
  {
   "cell_type": "code",
   "execution_count": null,
   "metadata": {},
   "outputs": [],
   "source": [
    "contig = 'RDN25-1'\n",
    "save_fig_path = None\n",
    "# save_fig_path = \"/Users/andrewbailey/CLionProjects/rrna_analysis/figures/flongle/YWD448a/native_vs_YWD448a_18S.png\"\n",
    "cmap = \"hot\"\n",
    "cmap = \"binary\"\n",
    "cmap = \"Blues\"\n",
    "\n",
    "norm = None\n",
    "pseudou=\"ql\"\n",
    "twoprimeo=[\"na\", \"ob\", \"pc\", \"qd\"]\n",
    "vc._plot_ld_heatmap(X, contig, stat=\"r2\", cmap=cmap, norm=norm, figure_path=save_fig_path)\n"
   ]
  },
  {
   "cell_type": "code",
   "execution_count": null,
   "metadata": {},
   "outputs": [],
   "source": []
  },
  {
   "cell_type": "code",
   "execution_count": null,
   "metadata": {},
   "outputs": [],
   "source": []
  }
 ],
 "metadata": {
  "kernelspec": {
   "display_name": "read_clustering",
   "language": "python",
   "name": "read_clustering"
  },
  "language_info": {
   "codemirror_mode": {
    "name": "ipython",
    "version": 3
   },
   "file_extension": ".py",
   "mimetype": "text/x-python",
   "name": "python",
   "nbconvert_exporter": "python",
   "pygments_lexer": "ipython3",
   "version": "3.7.7"
  }
 },
 "nbformat": 4,
 "nbformat_minor": 2
}
