{
 "cells": [
  {
   "cell_type": "markdown",
   "metadata": {},
   "source": [
    "# Simulate Reads\n",
    "\n",
    "How many reads do we need to detect N clusters at varying levels of abundance with varying number of modifications present.\n",
    "\n",
    "Variables:\n",
    "* Number of read classes\n",
    "* Number of reads in each class\n",
    "* Similarity to other read classes aka How many modification sites differ\n",
    "* What is the accuracy for each modification\n",
    "\n",
    "Thoughts / Sticking points:\n",
    "\n",
    "Some mods are not independent so how do we model non-independent mods? Include them and just forget about it? Map them together into a single mod? Exclude from analysis? How do we determine if a cluster is \"Good\". What clustering algorithm should we use? Can we generate several simulations and then see which clustering algorithm does best? I think yes. \n",
    "\n",
    "\n",
    "1: Generate random reads profiles from mod profile and prediction accuracy  \n",
    "2: Create Simulation Framework"
   ]
  },
  {
   "cell_type": "code",
   "execution_count": 2,
   "metadata": {},
   "outputs": [
    {
     "name": "stderr",
     "output_type": "stream",
     "text": [
      "/Users/andrewbailey/anaconda3/envs/read_clustering/lib/python3.7/site-packages/umap/__init__.py:9: UserWarning: Tensorflow not installed; ParametricUMAP will be unavailable\n",
      "  warn(\"Tensorflow not installed; ParametricUMAP will be unavailable\")\n",
      "/Users/andrewbailey/anaconda3/envs/read_clustering/lib/python3.7/site-packages/sklearn/utils/deprecation.py:143: FutureWarning: The sklearn.metrics.classification module is  deprecated in version 0.22 and will be removed in version 0.24. The corresponding classes / functions should instead be imported from sklearn.metrics. Anything that cannot be imported from sklearn.metrics is now part of the private API.\n",
      "  warnings.warn(message, FutureWarning)\n"
     ]
    }
   ],
   "source": [
    "import numpy as np\n",
    "import pandas as pd\n",
    "import os\n",
    "from sklearn.cluster import DBSCAN\n",
    "import umap\n",
    "import hdbscan\n",
    "import matplotlib.pyplot as plt\n",
    "import matplotlib as mpl\n",
    "import seaborn as sns\n",
    "import matplotlib.pyplot as plt\n",
    "\n",
    "from read_clustering.variant_call import VariantCalls\n",
    "threshold = 0.5\n",
    "np.random.seed(42)"
   ]
  },
  {
   "cell_type": "code",
   "execution_count": 2,
   "metadata": {},
   "outputs": [],
   "source": [
    "def generate_call_from_fraction_correct(label, fraction_correct, n=1):\n",
    "    p = np.random.random(n)\n",
    "    if label:\n",
    "        return (p <= fraction_correct).astype(int)\n",
    "    else:\n",
    "        return (p > fraction_correct).astype(int)\n",
    "\n",
    "def generate_call_from_sample_of_probs(sampling_of_probs, n=1):\n",
    "    return np.random.choice(sampling_of_probs, n)    "
   ]
  },
  {
   "cell_type": "code",
   "execution_count": 3,
   "metadata": {},
   "outputs": [
    {
     "name": "stdout",
     "output_type": "stream",
     "text": [
      "0.1031\n",
      "0.1021\n"
     ]
    }
   ],
   "source": [
    "print(np.average(generate_call_from_fraction_correct(1, 0.1, 10000)))\n",
    "print(np.average(generate_call_from_fraction_correct(0, 0.9, 10000)))"
   ]
  },
  {
   "cell_type": "code",
   "execution_count": 4,
   "metadata": {},
   "outputs": [
    {
     "name": "stdout",
     "output_type": "stream",
     "text": [
      "0.0998\n",
      "0.103\n"
     ]
    }
   ],
   "source": [
    "dist = generate_call_from_fraction_correct(1, 0.1, 10000)\n",
    "print(np.average(dist))\n",
    "print(np.average(generate_call_from_sample_of_probs(dist, 10000)))"
   ]
  },
  {
   "cell_type": "code",
   "execution_count": 5,
   "metadata": {},
   "outputs": [],
   "source": [
    "accuracy_csv = \"/Users/andrewbailey/Desktop/1_per_position_data_0.5.csv\"\n",
    "accuracy_csv = \"/Volumes/gdrive/rrna_kube_testing/small_5mer/test/train_500_test_500_prob_0.7_em_iterations_30_gaussian_true_FREQ_THRESHOLD_0_USE_IVT_TRAINING_true_unsupervised_false_all_kmers_false_small_model_5mer_use_median_true/testing_accuracy_csvs/30_per_position_data_0.5.csv\"\n",
    "accuracy_csv = \"/Users/andrewbailey/CLionProjects/read_clustering/30_per_position_data_0.5.csv\""
   ]
  },
  {
   "cell_type": "code",
   "execution_count": 6,
   "metadata": {},
   "outputs": [],
   "source": [
    "accuracy_data = pd.read_csv(accuracy_csv)\n"
   ]
  },
  {
   "cell_type": "code",
   "execution_count": 7,
   "metadata": {},
   "outputs": [],
   "source": [
    "accuracy_data = pd.read_csv(accuracy_csv)\n",
    "acc_df = accuracy_data[[\"contig\", \"reference_index\", \"strand\"]]\n",
    "index = pd.MultiIndex.from_frame(acc_df)\n",
    "mod_map = [1 for x in range(len(acc_df)-3)] + [0, 0, 0]\n",
    "accuracy_key = \"accuracy\"\n",
    "n=10"
   ]
  },
  {
   "cell_type": "code",
   "execution_count": 8,
   "metadata": {},
   "outputs": [],
   "source": [
    "mod_calls = []\n",
    "for i, x in enumerate(mod_map):\n",
    "    key = \"recall\"\n",
    "    if x == 0:\n",
    "        key = \"specificity\"\n",
    "    mod_calls.append(generate_call_from_fraction_correct(x, accuracy_data[key][i], n))\n",
    "data = np.array(mod_calls)\n"
   ]
  },
  {
   "cell_type": "code",
   "execution_count": 9,
   "metadata": {},
   "outputs": [
    {
     "data": {
      "text/plain": [
       "array([[1, 1, 1, ..., 1, 1, 1],\n",
       "       [1, 1, 1, ..., 1, 0, 1],\n",
       "       [1, 1, 1, ..., 1, 1, 1],\n",
       "       ...,\n",
       "       [1, 1, 0, ..., 0, 0, 0],\n",
       "       [0, 0, 0, ..., 0, 0, 0],\n",
       "       [0, 0, 0, ..., 0, 0, 0]])"
      ]
     },
     "execution_count": 9,
     "metadata": {},
     "output_type": "execute_result"
    }
   ],
   "source": [
    "data"
   ]
  },
  {
   "cell_type": "code",
   "execution_count": 10,
   "metadata": {},
   "outputs": [],
   "source": [
    "class SimulateModProbs(object):\n",
    "    def __init__(self, accuracy_csv):\n",
    "        self.accuracy_data = pd.read_csv(accuracy_csv)\n",
    "        self.acc_df = self.accuracy_data[[\"contig\", \"reference_index\", \"strand\"]]\n",
    "        self.index = pd.MultiIndex.from_frame(self.acc_df)\n",
    "\n",
    "#     def get_simulated_data(self, mod_map, accuracy_key=\"accuracy\", n=100):\n",
    "#         mod_accuracy_map = zip(mod_map, accuracy_data[accuracy_key])\n",
    "#         data = np.array([generate_call_from_fraction_correct(mod, accuracy, n) for mod, accuracy in mod_accuracy_map])\n",
    "#         return pd.DataFrame(data.T, columns=self.index)\n",
    "    \n",
    "    def get_simulated_data(self, mod_map, n=100):\n",
    "        mod_calls = []\n",
    "        for i, x in enumerate(mod_map):\n",
    "            key = \"recall\"\n",
    "            if x == 0:\n",
    "                key = \"specificity\"\n",
    "            mod_calls.append(generate_call_from_fraction_correct(x, self.accuracy_data[key][i], n))\n",
    "        return pd.DataFrame(np.array(mod_calls).T, columns=self.index) \n",
    "\n",
    "    \n",
    "    def generate_variant_calling_output(self, mod_map, accuracy_key=\"accuracy\", n=100):\n",
    "        df = self.get_simulated_data(mod_map, n=n)\n",
    "        df.index.rename(\"read_id\", inplace=True)\n",
    "        df1 = df.melt(ignore_index=False)\n",
    "        df1.rename(columns={\"value\": \"prob2\"}, inplace=True)\n",
    "        df1.loc[:, \"prob1\"] = 1-df1[\"prob2\"]\n",
    "        df1.loc[:, \"variants\"] = \"ab\"\n",
    "        df1.reset_index(inplace=True)\n",
    "        return df1"
   ]
  },
  {
   "cell_type": "code",
   "execution_count": 11,
   "metadata": {},
   "outputs": [],
   "source": [
    "simulation_path = \"/Users/andrewbailey/CLionProjects/read_clustering/data/simulation/test\"\n",
    "smp = SimulateModProbs(accuracy_csv)"
   ]
  },
  {
   "cell_type": "code",
   "execution_count": 27,
   "metadata": {},
   "outputs": [],
   "source": [
    "n = 1000\n",
    "mod_map = [1 for x in range(len(smp.acc_df))]\n",
    "df1 = smp.generate_variant_calling_output(mod_map, n=n)\n",
    "out_path = os.path.join(simulation_path, \"test.csv\")\n",
    "df1.to_csv(out_path, index=False)"
   ]
  },
  {
   "cell_type": "code",
   "execution_count": 28,
   "metadata": {},
   "outputs": [],
   "source": [
    "n = 1000\n",
    "mod_map2 = [0 if x in [ 5] else 1 for x in range(len(smp.acc_df))]\n",
    "df1 = smp.generate_variant_calling_output(mod_map2, n=n)\n",
    "out_path2 = os.path.join(simulation_path, \"test2.csv\")\n",
    "df1.to_csv(out_path2, index=False)"
   ]
  },
  {
   "cell_type": "code",
   "execution_count": 29,
   "metadata": {},
   "outputs": [],
   "source": [
    "n = 1000\n",
    "mod_map2 = [0 if x in [ 6] else 1 for x in range(len(smp.acc_df))]\n",
    "df1 = smp.generate_variant_calling_output(mod_map2, n=n)\n",
    "out_path3 = os.path.join(simulation_path, \"test3.csv\")\n",
    "df1.to_csv(out_path3, index=False)\n",
    "n = 1000\n",
    "mod_map2 = [0 if x in [ 7] else 1 for x in range(len(smp.acc_df))]\n",
    "df1 = smp.generate_variant_calling_output(mod_map2, n=n)\n",
    "out_path4 = os.path.join(simulation_path, \"test4.csv\")\n",
    "df1.to_csv(out_path4, index=False)"
   ]
  },
  {
   "cell_type": "code",
   "execution_count": 30,
   "metadata": {},
   "outputs": [],
   "source": [
    "ivt_path = \"/Users/andrewbailey/CLionProjects/read_clustering/data/inference/variant_calls/canonical_ivt_round30_alt_canonical_supervised_500_500.model.csv\"\n",
    "cbf5_glu_psu_depletion_path = \"/Users/andrewbailey/CLionProjects/read_clustering/data/inference/variant_calls/depletion_cbf5_glu_round30_alt_canonical_supervised_500_500.model.csv\"\n",
    "nop58_glu_2o_depletion_path = \"/Users/andrewbailey/CLionProjects/read_clustering/data/inference/variant_calls/depletion_nop58_glu_round30_alt_canonical_supervised_500_500.model.csv\"       \n",
    "native_cbf5_gal_path = \"/Users/andrewbailey/CLionProjects/read_clustering/data/inference/variant_calls/native_cbf5_gal_round30_alt_canonical_supervised_500_500.model.csv\"\n",
    "native_nop58_gal_path = \"/Users/andrewbailey/CLionProjects/read_clustering/data/inference/variant_calls/native_nop58_gal_round30_alt_canonical_supervised_500_500.model.csv\"\n",
    "\n",
    "file_paths = [out_path2]\n",
    "labels = [\"one_off\"]\n",
    "\n",
    "file_paths = [out_path, out_path2, out_path3, out_path4]\n",
    "labels = [\"test\", \"one_off1\", \"one_off2\", \"one_off3\"]\n",
    "# file_paths = [out_path2, out_path3, out_path4]\n",
    "# labels = [\"one_off1\", \"one_off2\", \"one_off3\"]\n",
    "\n",
    "# file_paths = [ivt_path, cbf5_glu_psu_depletion_path, nop58_glu_2o_depletion_path, native_cbf5_gal_path, native_nop58_gal_path]\n",
    "# labels = [\"ivt\", \"cbf5_glu_psu_depletion\", \"nop58_glu_2o_depletion\", \"native_cbf5_gal\", \"native_nop58_gal\"]"
   ]
  },
  {
   "cell_type": "code",
   "execution_count": 31,
   "metadata": {},
   "outputs": [],
   "source": [
    "vc = VariantCalls(file_paths, labels)\n"
   ]
  },
  {
   "cell_type": "code",
   "execution_count": 32,
   "metadata": {
    "scrolled": false
   },
   "outputs": [],
   "source": [
    "contig = 'RDN18-1'\n",
    "# n_components = 2\n",
    "# save_fig_path=None\n",
    "# vc.plot_UMAP_by_label(contig, vc.get_contig_positions(contig), n_components=n_components, figure_path=save_fig_path)"
   ]
  },
  {
   "cell_type": "code",
   "execution_count": 33,
   "metadata": {
    "scrolled": false
   },
   "outputs": [
    {
     "ename": "RuntimeError",
     "evalue": "module compiled against API version 0xe but this version of numpy is 0xd",
     "output_type": "error",
     "traceback": [
      "\u001b[0;31m---------------------------------------------------------------------------\u001b[0m",
      "\u001b[0;31mRuntimeError\u001b[0m                              Traceback (most recent call last)",
      "\u001b[0;31mRuntimeError\u001b[0m: module compiled against API version 0xe but this version of numpy is 0xd"
     ]
    },
    {
     "name": "stderr",
     "output_type": "stream",
     "text": [
      "/Users/andrewbailey/anaconda3/envs/read_clustering/lib/python3.7/site-packages/seaborn/matrix.py:649: UserWarning: Clustering large matrix with scipy. Installing `fastcluster` may give better performance.\n",
      "  warnings.warn(msg)\n"
     ]
    },
    {
     "ename": "RuntimeError",
     "evalue": "module compiled against API version 0xe but this version of numpy is 0xd",
     "output_type": "error",
     "traceback": [
      "\u001b[0;31m---------------------------------------------------------------------------\u001b[0m",
      "\u001b[0;31mRuntimeError\u001b[0m                              Traceback (most recent call last)",
      "\u001b[0;31mRuntimeError\u001b[0m: module compiled against API version 0xe but this version of numpy is 0xd"
     ]
    },
    {
     "data": {
      "image/png": "[encoded data removed]",
      "text/plain": [
       "<Figure size 1440x1440 with 5 Axes>"
      ]
     },
     "metadata": {},
     "output_type": "display_data"
    }
   ],
   "source": [
    "n=-1\n",
    "figure_path = None\n",
    "method = 'average'\n",
    "# method = \"centroid\"\n",
    "# method = \"complete\"\n",
    "# method = \"weighted\"\n",
    "# metric = \"braycurtis\"\n",
    "metric = \"cityblock\"\n",
    "# metric = 'euclidean'\n",
    "\n",
    "vc.plot_heatmap_dendrogram(contig, vc.get_contig_positions(contig), n=n, figure_path=figure_path,\n",
    "                          metric=metric,\n",
    "                          method=method)\n"
   ]
  },
  {
   "cell_type": "code",
   "execution_count": 34,
   "metadata": {},
   "outputs": [],
   "source": [
    "cmap = \"OrRd\"\n",
    "cmap = \"cool\"\n",
    "cmap = \"hot\"\n",
    "pseudou=\"ql\"\n",
    "twoprimeo=[\"na\", \"ob\", \"pc\", \"qd\"]\n",
    "norm = None\n",
    "stat = \"r2\"\n"
   ]
  },
  {
   "cell_type": "code",
   "execution_count": 35,
   "metadata": {},
   "outputs": [
    {
     "data": {
      "image/png": "[encoded data removed]",
      "text/plain": [
       "<Figure size 1152x1008 with 2 Axes>"
      ]
     },
     "metadata": {},
     "output_type": "display_data"
    }
   ],
   "source": [
    "contig = 'RDN18-1'\n",
    "ld_df = vc.plot_ld_heatmap(contig, vc.get_contig_positions(contig), stat=\"r2\", cmap=cmap, norm=norm)\n"
   ]
  },
  {
   "cell_type": "code",
   "execution_count": null,
   "metadata": {},
   "outputs": [],
   "source": []
  },
  {
   "cell_type": "code",
   "execution_count": 18,
   "metadata": {},
   "outputs": [],
   "source": [
    "simulation_path = \"/Users/andrewbailey/CLionProjects/read_clustering/data/simulation/test\"\n",
    "smp = SimulateModProbs(accuracy_csv)\n"
   ]
  },
  {
   "cell_type": "code",
   "execution_count": 36,
   "metadata": {},
   "outputs": [],
   "source": [
    "data_frames = []\n",
    "label_map = {}\n",
    "#             [1 for x in range(len(smp.acc_df))],\n",
    "\n",
    "mod_maps = [[0 if x in [] else 1 for x in range(len(smp.acc_df))],\n",
    "            [0 if x in [ 6] else 1 for x in range(len(smp.acc_df))],\n",
    "            [0 if x in [ 7] else 1 for x in range(len(smp.acc_df))],\n",
    "            [0 if x in [ 8] else 1 for x in range(len(smp.acc_df))]\n",
    "           ]\n",
    "names = [\n",
    "        \"test1\", \n",
    "        \"test2\",\n",
    "        \"test3\",\n",
    "        \"test4\"]\n",
    "counts = [\n",
    "         1000, \n",
    "         1000,\n",
    "         1000,\n",
    "         1000]\n",
    "for i, (mod_map, name, n) in enumerate(zip(mod_maps, names, counts)):\n",
    "    d0 = smp.get_simulated_data(mod_map, n=n)\n",
    "    d0[\"label\"] = name\n",
    "    label_map[name] = i\n",
    "    data_frames.append(d0)\n"
   ]
  },
  {
   "cell_type": "code",
   "execution_count": 37,
   "metadata": {},
   "outputs": [],
   "source": [
    "final_df = pd.concat(data_frames, ignore_index=True)\n",
    "labels_true = final_df[\"label\"].map(label_map)"
   ]
  },
  {
   "cell_type": "code",
   "execution_count": 38,
   "metadata": {},
   "outputs": [],
   "source": [
    "X = final_df[\"RDN18-1\"]"
   ]
  },
  {
   "cell_type": "code",
   "execution_count": 39,
   "metadata": {},
   "outputs": [
    {
     "data": {
      "text/plain": [
       "{0, 1, 2, 3}"
      ]
     },
     "execution_count": 39,
     "metadata": {},
     "output_type": "execute_result"
    }
   ],
   "source": [
    "set(labels_true)"
   ]
  },
  {
   "cell_type": "code",
   "execution_count": 40,
   "metadata": {},
   "outputs": [],
   "source": [
    "reducer = umap.UMAP()\n",
    "umap_results = reducer.fit_transform(X)\n"
   ]
  },
  {
   "cell_type": "code",
   "execution_count": 521,
   "metadata": {},
   "outputs": [],
   "source": [
    "# X = umap_results"
   ]
  },
  {
   "cell_type": "code",
   "execution_count": 522,
   "metadata": {},
   "outputs": [],
   "source": [
    "# #############################################################################\n",
    "# # Compute DBSCAN\n",
    "# db = DBSCAN(eps=3, min_samples=10).fit(X)\n",
    "# core_samples_mask = np.zeros_like(db.labels_, dtype=bool)\n",
    "# core_samples_mask[db.core_sample_indices_] = True\n",
    "# labels = db.labels_\n",
    "# n_clusters_ = len(set(labels)) - (1 if -1 in labels else 0)\n",
    "# n_noise_ = list(labels).count(-1)\n"
   ]
  },
  {
   "cell_type": "code",
   "execution_count": 523,
   "metadata": {},
   "outputs": [],
   "source": [
    "# kmeans = KMeans(n_clusters=2, random_state=0)\n",
    "# kmeans.fit(X)\n",
    "# labels = db.labels_\n",
    "# n_clusters_ = len(set(labels)) - (1 if -1 in labels else 0)\n",
    "# n_noise_ = list(labels).count(-1)\n",
    "# n_corepoints = len(X) - n_noise_\n"
   ]
  },
  {
   "cell_type": "code",
   "execution_count": 41,
   "metadata": {},
   "outputs": [],
   "source": [
    "# #############################################################################\n",
    "# Compute HDBSCAN\n",
    "db = hdbscan.HDBSCAN(min_cluster_size=100, min_samples=1, metric='euclidean')\n",
    "db.fit(X)\n",
    "labels = db.labels_\n",
    "n_clusters_ = len(set(labels)) - (1 if -1 in labels else 0)\n",
    "n_noise_ = list(labels).count(-1)\n",
    "n_corepoints = len(X) - n_noise_\n",
    "# hdbscan.dist_metrics.METRIC_MAPPING\n"
   ]
  },
  {
   "cell_type": "code",
   "execution_count": 42,
   "metadata": {},
   "outputs": [
    {
     "name": "stdout",
     "output_type": "stream",
     "text": [
      "{0, 1, -1}\n"
     ]
    }
   ],
   "source": [
    "print(set(labels))"
   ]
  },
  {
   "cell_type": "code",
   "execution_count": 43,
   "metadata": {},
   "outputs": [
    {
     "data": {
      "text/plain": [
       "array([ 0,  0, -1, ..., -1,  0, -1])"
      ]
     },
     "execution_count": 43,
     "metadata": {},
     "output_type": "execute_result"
    }
   ],
   "source": [
    "labels"
   ]
  },
  {
   "cell_type": "code",
   "execution_count": 44,
   "metadata": {},
   "outputs": [
    {
     "name": "stdout",
     "output_type": "stream",
     "text": [
      "Estimated number of clusters: 2\n",
      "Estimated number of noise points: 3209\n",
      "Estimated number of clustered points: 791\n"
     ]
    },
    {
     "ename": "NameError",
     "evalue": "name 'metrics' is not defined",
     "output_type": "error",
     "traceback": [
      "\u001b[0;31m---------------------------------------------------------------------------\u001b[0m",
      "\u001b[0;31mNameError\u001b[0m                                 Traceback (most recent call last)",
      "\u001b[0;32m<ipython-input-44-2b60df39371f>\u001b[0m in \u001b[0;36m<module>\u001b[0;34m\u001b[0m\n\u001b[1;32m      3\u001b[0m \u001b[0mprint\u001b[0m\u001b[0;34m(\u001b[0m\u001b[0;34m'Estimated number of clustered points: %d'\u001b[0m \u001b[0;34m%\u001b[0m \u001b[0mn_corepoints\u001b[0m\u001b[0;34m)\u001b[0m\u001b[0;34m\u001b[0m\u001b[0;34m\u001b[0m\u001b[0m\n\u001b[1;32m      4\u001b[0m \u001b[0;34m\u001b[0m\u001b[0m\n\u001b[0;32m----> 5\u001b[0;31m \u001b[0mprint\u001b[0m\u001b[0;34m(\u001b[0m\u001b[0;34m\"Homogeneity: %0.3f\"\u001b[0m \u001b[0;34m%\u001b[0m \u001b[0mmetrics\u001b[0m\u001b[0;34m.\u001b[0m\u001b[0mhomogeneity_score\u001b[0m\u001b[0;34m(\u001b[0m\u001b[0mlabels_true\u001b[0m\u001b[0;34m,\u001b[0m \u001b[0mlabels\u001b[0m\u001b[0;34m)\u001b[0m\u001b[0;34m)\u001b[0m\u001b[0;34m\u001b[0m\u001b[0;34m\u001b[0m\u001b[0m\n\u001b[0m\u001b[1;32m      6\u001b[0m \u001b[0mprint\u001b[0m\u001b[0;34m(\u001b[0m\u001b[0;34m\"Completeness: %0.3f\"\u001b[0m \u001b[0;34m%\u001b[0m \u001b[0mmetrics\u001b[0m\u001b[0;34m.\u001b[0m\u001b[0mcompleteness_score\u001b[0m\u001b[0;34m(\u001b[0m\u001b[0mlabels_true\u001b[0m\u001b[0;34m,\u001b[0m \u001b[0mlabels\u001b[0m\u001b[0;34m)\u001b[0m\u001b[0;34m)\u001b[0m\u001b[0;34m\u001b[0m\u001b[0;34m\u001b[0m\u001b[0m\n\u001b[1;32m      7\u001b[0m \u001b[0mprint\u001b[0m\u001b[0;34m(\u001b[0m\u001b[0;34m\"V-measure: %0.3f\"\u001b[0m \u001b[0;34m%\u001b[0m \u001b[0mmetrics\u001b[0m\u001b[0;34m.\u001b[0m\u001b[0mv_measure_score\u001b[0m\u001b[0;34m(\u001b[0m\u001b[0mlabels_true\u001b[0m\u001b[0;34m,\u001b[0m \u001b[0mlabels\u001b[0m\u001b[0;34m)\u001b[0m\u001b[0;34m)\u001b[0m\u001b[0;34m\u001b[0m\u001b[0;34m\u001b[0m\u001b[0m\n",
      "\u001b[0;31mNameError\u001b[0m: name 'metrics' is not defined"
     ]
    }
   ],
   "source": [
    "print('Estimated number of clusters: %d' % n_clusters_)\n",
    "print('Estimated number of noise points: %d' % n_noise_)\n",
    "print('Estimated number of clustered points: %d' % n_corepoints)\n",
    "\n",
    "print(\"Homogeneity: %0.3f\" % metrics.homogeneity_score(labels_true, labels))\n",
    "print(\"Completeness: %0.3f\" % metrics.completeness_score(labels_true, labels))\n",
    "print(\"V-measure: %0.3f\" % metrics.v_measure_score(labels_true, labels))\n",
    "print(\"Adjusted Rand Index: %0.3f\"\n",
    "      % metrics.adjusted_rand_score(labels_true, labels))\n",
    "print(\"Adjusted Mutual Information: %0.3f\"\n",
    "      % metrics.adjusted_mutual_info_score(labels_true, labels))\n",
    "print(\"Silhouette Coefficient: %0.3f\"\n",
    "      % metrics.silhouette_score(X, labels))\n"
   ]
  },
  {
   "cell_type": "code",
   "execution_count": 45,
   "metadata": {},
   "outputs": [
    {
     "data": {
      "application/javascript": [
       "/* Put everything inside the global mpl namespace */\n",
       "window.mpl = {};\n",
       "\n",
       "\n",
       "mpl.get_websocket_type = function() {\n",
       "    if (typeof(WebSocket) !== 'undefined') {\n",
       "        return WebSocket;\n",
       "    } else if (typeof(MozWebSocket) !== 'undefined') {\n",
       "        return MozWebSocket;\n",
       "    } else {\n",
       "        alert('Your browser does not have WebSocket support. ' +\n",
       "              'Please try Chrome, Safari or Firefox ≥ 6. ' +\n",
       "              'Firefox 4 and 5 are also supported but you ' +\n",
       "              'have to enable WebSockets in about:config.');\n",
       "    };\n",
       "}\n",
       "\n",
       "mpl.figure = function(figure_id, websocket, ondownload, parent_element) {\n",
       "    this.id = figure_id;\n",
       "\n",
       "    this.ws = websocket;\n",
       "\n",
       "    this.supports_binary = (this.ws.binaryType != undefined);\n",
       "\n",
       "    if (!this.supports_binary) {\n",
       "        var warnings = document.getElementById(\"mpl-warnings\");\n",
       "        if (warnings) {\n",
       "            warnings.style.display = 'block';\n",
       "            warnings.textContent = (\n",
       "                \"This browser does not support binary websocket messages. \" +\n",
       "                    \"Performance may be slow.\");\n",
       "        }\n",
       "    }\n",
       "\n",
       "    this.imageObj = new Image();\n",
       "\n",
       "    this.context = undefined;\n",
       "    this.message = undefined;\n",
       "    this.canvas = undefined;\n",
       "    this.rubberband_canvas = undefined;\n",
       "    this.rubberband_context = undefined;\n",
       "    this.format_dropdown = undefined;\n",
       "\n",
       "    this.image_mode = 'full';\n",
       "\n",
       "    this.root = $('<div/>');\n",
       "    this._root_extra_style(this.root)\n",
       "    this.root.attr('style', 'display: inline-block');\n",
       "\n",
       "    $(parent_element).append(this.root);\n",
       "\n",
       "    this._init_header(this);\n",
       "    this._init_canvas(this);\n",
       "    this._init_toolbar(this);\n",
       "\n",
       "    var fig = this;\n",
       "\n",
       "    this.waiting = false;\n",
       "\n",
       "    this.ws.onopen =  function () {\n",
       "            fig.send_message(\"supports_binary\", {value: fig.supports_binary});\n",
       "            fig.send_message(\"send_image_mode\", {});\n",
       "            if (mpl.ratio != 1) {\n",
       "                fig.send_message(\"set_dpi_ratio\", {'dpi_ratio': mpl.ratio});\n",
       "            }\n",
       "            fig.send_message(\"refresh\", {});\n",
       "        }\n",
       "\n",
       "    this.imageObj.onload = function() {\n",
       "            if (fig.image_mode == 'full') {\n",
       "                // Full images could contain transparency (where diff images\n",
       "                // almost always do), so we need to clear the canvas so that\n",
       "                // there is no ghosting.\n",
       "                fig.context.clearRect(0, 0, fig.canvas.width, fig.canvas.height);\n",
       "            }\n",
       "            fig.context.drawImage(fig.imageObj, 0, 0);\n",
       "        };\n",
       "\n",
       "    this.imageObj.onunload = function() {\n",
       "        fig.ws.close();\n",
       "    }\n",
       "\n",
       "    this.ws.onmessage = this._make_on_message_function(this);\n",
       "\n",
       "    this.ondownload = ondownload;\n",
       "}\n",
       "\n",
       "mpl.figure.prototype._init_header = function() {\n",
       "    var titlebar = $(\n",
       "        '<div class=\"ui-dialog-titlebar ui-widget-header ui-corner-all ' +\n",
       "        'ui-helper-clearfix\"/>');\n",
       "    var titletext = $(\n",
       "        '<div class=\"ui-dialog-title\" style=\"width: 100%; ' +\n",
       "        'text-align: center; padding: 3px;\"/>');\n",
       "    titlebar.append(titletext)\n",
       "    this.root.append(titlebar);\n",
       "    this.header = titletext[0];\n",
       "}\n",
       "\n",
       "\n",
       "\n",
       "mpl.figure.prototype._canvas_extra_style = function(canvas_div) {\n",
       "\n",
       "}\n",
       "\n",
       "\n",
       "mpl.figure.prototype._root_extra_style = function(canvas_div) {\n",
       "\n",
       "}\n",
       "\n",
       "mpl.figure.prototype._init_canvas = function() {\n",
       "    var fig = this;\n",
       "\n",
       "    var canvas_div = $('<div/>');\n",
       "\n",
       "    canvas_div.attr('style', 'position: relative; clear: both; outline: 0');\n",
       "\n",
       "    function canvas_keyboard_event(event) {\n",
       "        return fig.key_event(event, event['data']);\n",
       "    }\n",
       "\n",
       "    canvas_div.keydown('key_press', canvas_keyboard_event);\n",
       "    canvas_div.keyup('key_release', canvas_keyboard_event);\n",
       "    this.canvas_div = canvas_div\n",
       "    this._canvas_extra_style(canvas_div)\n",
       "    this.root.append(canvas_div);\n",
       "\n",
       "    var canvas = $('<canvas/>');\n",
       "    canvas.addClass('mpl-canvas');\n",
       "    canvas.attr('style', \"left: 0; top: 0; z-index: 0; outline: 0\")\n",
       "\n",
       "    this.canvas = canvas[0];\n",
       "    this.context = canvas[0].getContext(\"2d\");\n",
       "\n",
       "    var backingStore = this.context.backingStorePixelRatio ||\n",
       "\tthis.context.webkitBackingStorePixelRatio ||\n",
       "\tthis.context.mozBackingStorePixelRatio ||\n",
       "\tthis.context.msBackingStorePixelRatio ||\n",
       "\tthis.context.oBackingStorePixelRatio ||\n",
       "\tthis.context.backingStorePixelRatio || 1;\n",
       "\n",
       "    mpl.ratio = (window.devicePixelRatio || 1) / backingStore;\n",
       "\n",
       "    var rubberband = $('<canvas/>');\n",
       "    rubberband.attr('style', \"position: absolute; left: 0; top: 0; z-index: 1;\")\n",
       "\n",
       "    var pass_mouse_events = true;\n",
       "\n",
       "    canvas_div.resizable({\n",
       "        start: function(event, ui) {\n",
       "            pass_mouse_events = false;\n",
       "        },\n",
       "        resize: function(event, ui) {\n",
       "            fig.request_resize(ui.size.width, ui.size.height);\n",
       "        },\n",
       "        stop: function(event, ui) {\n",
       "            pass_mouse_events = true;\n",
       "            fig.request_resize(ui.size.width, ui.size.height);\n",
       "        },\n",
       "    });\n",
       "\n",
       "    function mouse_event_fn(event) {\n",
       "        if (pass_mouse_events)\n",
       "            return fig.mouse_event(event, event['data']);\n",
       "    }\n",
       "\n",
       "    rubberband.mousedown('button_press', mouse_event_fn);\n",
       "    rubberband.mouseup('button_release', mouse_event_fn);\n",
       "    // Throttle sequential mouse events to 1 every 20ms.\n",
       "    rubberband.mousemove('motion_notify', mouse_event_fn);\n",
       "\n",
       "    rubberband.mouseenter('figure_enter', mouse_event_fn);\n",
       "    rubberband.mouseleave('figure_leave', mouse_event_fn);\n",
       "\n",
       "    canvas_div.on(\"wheel\", function (event) {\n",
       "        event = event.originalEvent;\n",
       "        event['data'] = 'scroll'\n",
       "        if (event.deltaY < 0) {\n",
       "            event.step = 1;\n",
       "        } else {\n",
       "            event.step = -1;\n",
       "        }\n",
       "        mouse_event_fn(event);\n",
       "    });\n",
       "\n",
       "    canvas_div.append(canvas);\n",
       "    canvas_div.append(rubberband);\n",
       "\n",
       "    this.rubberband = rubberband;\n",
       "    this.rubberband_canvas = rubberband[0];\n",
       "    this.rubberband_context = rubberband[0].getContext(\"2d\");\n",
       "    this.rubberband_context.strokeStyle = \"#000000\";\n",
       "\n",
       "    this._resize_canvas = function(width, height) {\n",
       "        // Keep the size of the canvas, canvas container, and rubber band\n",
       "        // canvas in synch.\n",
       "        canvas_div.css('width', width)\n",
       "        canvas_div.css('height', height)\n",
       "\n",
       "        canvas.attr('width', width * mpl.ratio);\n",
       "        canvas.attr('height', height * mpl.ratio);\n",
       "        canvas.attr('style', 'width: ' + width + 'px; height: ' + height + 'px;');\n",
       "\n",
       "        rubberband.attr('width', width);\n",
       "        rubberband.attr('height', height);\n",
       "    }\n",
       "\n",
       "    // Set the figure to an initial 600x600px, this will subsequently be updated\n",
       "    // upon first draw.\n",
       "    this._resize_canvas(600, 600);\n",
       "\n",
       "    // Disable right mouse context menu.\n",
       "    $(this.rubberband_canvas).bind(\"contextmenu\",function(e){\n",
       "        return false;\n",
       "    });\n",
       "\n",
       "    function set_focus () {\n",
       "        canvas.focus();\n",
       "        canvas_div.focus();\n",
       "    }\n",
       "\n",
       "    window.setTimeout(set_focus, 100);\n",
       "}\n",
       "\n",
       "mpl.figure.prototype._init_toolbar = function() {\n",
       "    var fig = this;\n",
       "\n",
       "    var nav_element = $('<div/>');\n",
       "    nav_element.attr('style', 'width: 100%');\n",
       "    this.root.append(nav_element);\n",
       "\n",
       "    // Define a callback function for later on.\n",
       "    function toolbar_event(event) {\n",
       "        return fig.toolbar_button_onclick(event['data']);\n",
       "    }\n",
       "    function toolbar_mouse_event(event) {\n",
       "        return fig.toolbar_button_onmouseover(event['data']);\n",
       "    }\n",
       "\n",
       "    for(var toolbar_ind in mpl.toolbar_items) {\n",
       "        var name = mpl.toolbar_items[toolbar_ind][0];\n",
       "        var tooltip = mpl.toolbar_items[toolbar_ind][1];\n",
       "        var image = mpl.toolbar_items[toolbar_ind][2];\n",
       "        var method_name = mpl.toolbar_items[toolbar_ind][3];\n",
       "\n",
       "        if (!name) {\n",
       "            // put a spacer in here.\n",
       "            continue;\n",
       "        }\n",
       "        var button = $('<button/>');\n",
       "        button.addClass('ui-button ui-widget ui-state-default ui-corner-all ' +\n",
       "                        'ui-button-icon-only');\n",
       "        button.attr('role', 'button');\n",
       "        button.attr('aria-disabled', 'false');\n",
       "        button.click(method_name, toolbar_event);\n",
       "        button.mouseover(tooltip, toolbar_mouse_event);\n",
       "\n",
       "        var icon_img = $('<span/>');\n",
       "        icon_img.addClass('ui-button-icon-primary ui-icon');\n",
       "        icon_img.addClass(image);\n",
       "        icon_img.addClass('ui-corner-all');\n",
       "\n",
       "        var tooltip_span = $('<span/>');\n",
       "        tooltip_span.addClass('ui-button-text');\n",
       "        tooltip_span.html(tooltip);\n",
       "\n",
       "        button.append(icon_img);\n",
       "        button.append(tooltip_span);\n",
       "\n",
       "        nav_element.append(button);\n",
       "    }\n",
       "\n",
       "    var fmt_picker_span = $('<span/>');\n",
       "\n",
       "    var fmt_picker = $('<select/>');\n",
       "    fmt_picker.addClass('mpl-toolbar-option ui-widget ui-widget-content');\n",
       "    fmt_picker_span.append(fmt_picker);\n",
       "    nav_element.append(fmt_picker_span);\n",
       "    this.format_dropdown = fmt_picker[0];\n",
       "\n",
       "    for (var ind in mpl.extensions) {\n",
       "        var fmt = mpl.extensions[ind];\n",
       "        var option = $(\n",
       "            '<option/>', {selected: fmt === mpl.default_extension}).html(fmt);\n",
       "        fmt_picker.append(option);\n",
       "    }\n",
       "\n",
       "    // Add hover states to the ui-buttons\n",
       "    $( \".ui-button\" ).hover(\n",
       "        function() { $(this).addClass(\"ui-state-hover\");},\n",
       "        function() { $(this).removeClass(\"ui-state-hover\");}\n",
       "    );\n",
       "\n",
       "    var status_bar = $('<span class=\"mpl-message\"/>');\n",
       "    nav_element.append(status_bar);\n",
       "    this.message = status_bar[0];\n",
       "}\n",
       "\n",
       "mpl.figure.prototype.request_resize = function(x_pixels, y_pixels) {\n",
       "    // Request matplotlib to resize the figure. Matplotlib will then trigger a resize in the client,\n",
       "    // which will in turn request a refresh of the image.\n",
       "    this.send_message('resize', {'width': x_pixels, 'height': y_pixels});\n",
       "}\n",
       "\n",
       "mpl.figure.prototype.send_message = function(type, properties) {\n",
       "    properties['type'] = type;\n",
       "    properties['figure_id'] = this.id;\n",
       "    this.ws.send(JSON.stringify(properties));\n",
       "}\n",
       "\n",
       "mpl.figure.prototype.send_draw_message = function() {\n",
       "    if (!this.waiting) {\n",
       "        this.waiting = true;\n",
       "        this.ws.send(JSON.stringify({type: \"draw\", figure_id: this.id}));\n",
       "    }\n",
       "}\n",
       "\n",
       "\n",
       "mpl.figure.prototype.handle_save = function(fig, msg) {\n",
       "    var format_dropdown = fig.format_dropdown;\n",
       "    var format = format_dropdown.options[format_dropdown.selectedIndex].value;\n",
       "    fig.ondownload(fig, format);\n",
       "}\n",
       "\n",
       "\n",
       "mpl.figure.prototype.handle_resize = function(fig, msg) {\n",
       "    var size = msg['size'];\n",
       "    if (size[0] != fig.canvas.width || size[1] != fig.canvas.height) {\n",
       "        fig._resize_canvas(size[0], size[1]);\n",
       "        fig.send_message(\"refresh\", {});\n",
       "    };\n",
       "}\n",
       "\n",
       "mpl.figure.prototype.handle_rubberband = function(fig, msg) {\n",
       "    var x0 = msg['x0'] / mpl.ratio;\n",
       "    var y0 = (fig.canvas.height - msg['y0']) / mpl.ratio;\n",
       "    var x1 = msg['x1'] / mpl.ratio;\n",
       "    var y1 = (fig.canvas.height - msg['y1']) / mpl.ratio;\n",
       "    x0 = Math.floor(x0) + 0.5;\n",
       "    y0 = Math.floor(y0) + 0.5;\n",
       "    x1 = Math.floor(x1) + 0.5;\n",
       "    y1 = Math.floor(y1) + 0.5;\n",
       "    var min_x = Math.min(x0, x1);\n",
       "    var min_y = Math.min(y0, y1);\n",
       "    var width = Math.abs(x1 - x0);\n",
       "    var height = Math.abs(y1 - y0);\n",
       "\n",
       "    fig.rubberband_context.clearRect(\n",
       "        0, 0, fig.canvas.width / mpl.ratio, fig.canvas.height / mpl.ratio);\n",
       "\n",
       "    fig.rubberband_context.strokeRect(min_x, min_y, width, height);\n",
       "}\n",
       "\n",
       "mpl.figure.prototype.handle_figure_label = function(fig, msg) {\n",
       "    // Updates the figure title.\n",
       "    fig.header.textContent = msg['label'];\n",
       "}\n",
       "\n",
       "mpl.figure.prototype.handle_cursor = function(fig, msg) {\n",
       "    var cursor = msg['cursor'];\n",
       "    switch(cursor)\n",
       "    {\n",
       "    case 0:\n",
       "        cursor = 'pointer';\n",
       "        break;\n",
       "    case 1:\n",
       "        cursor = 'default';\n",
       "        break;\n",
       "    case 2:\n",
       "        cursor = 'crosshair';\n",
       "        break;\n",
       "    case 3:\n",
       "        cursor = 'move';\n",
       "        break;\n",
       "    }\n",
       "    fig.rubberband_canvas.style.cursor = cursor;\n",
       "}\n",
       "\n",
       "mpl.figure.prototype.handle_message = function(fig, msg) {\n",
       "    fig.message.textContent = msg['message'];\n",
       "}\n",
       "\n",
       "mpl.figure.prototype.handle_draw = function(fig, msg) {\n",
       "    // Request the server to send over a new figure.\n",
       "    fig.send_draw_message();\n",
       "}\n",
       "\n",
       "mpl.figure.prototype.handle_image_mode = function(fig, msg) {\n",
       "    fig.image_mode = msg['mode'];\n",
       "}\n",
       "\n",
       "mpl.figure.prototype.updated_canvas_event = function() {\n",
       "    // Called whenever the canvas gets updated.\n",
       "    this.send_message(\"ack\", {});\n",
       "}\n",
       "\n",
       "// A function to construct a web socket function for onmessage handling.\n",
       "// Called in the figure constructor.\n",
       "mpl.figure.prototype._make_on_message_function = function(fig) {\n",
       "    return function socket_on_message(evt) {\n",
       "        if (evt.data instanceof Blob) {\n",
       "            /* FIXME: We get \"Resource interpreted as Image but\n",
       "             * transferred with MIME type text/plain:\" errors on\n",
       "             * Chrome.  But how to set the MIME type?  It doesn't seem\n",
       "             * to be part of the websocket stream */\n",
       "            evt.data.type = \"image/png\";\n",
       "\n",
       "            /* Free the memory for the previous frames */\n",
       "            if (fig.imageObj.src) {\n",
       "                (window.URL || window.webkitURL).revokeObjectURL(\n",
       "                    fig.imageObj.src);\n",
       "            }\n",
       "\n",
       "            fig.imageObj.src = (window.URL || window.webkitURL).createObjectURL(\n",
       "                evt.data);\n",
       "            fig.updated_canvas_event();\n",
       "            fig.waiting = false;\n",
       "            return;\n",
       "        }\n",
       "        else if (typeof evt.data === 'string' && evt.data.slice(0, 21) == \"data:image/png;base64\") {\n",
       "            fig.imageObj.src = evt.data;\n",
       "            fig.updated_canvas_event();\n",
       "            fig.waiting = false;\n",
       "            return;\n",
       "        }\n",
       "\n",
       "        var msg = JSON.parse(evt.data);\n",
       "        var msg_type = msg['type'];\n",
       "\n",
       "        // Call the  \"handle_{type}\" callback, which takes\n",
       "        // the figure and JSON message as its only arguments.\n",
       "        try {\n",
       "            var callback = fig[\"handle_\" + msg_type];\n",
       "        } catch (e) {\n",
       "            console.log(\"No handler for the '\" + msg_type + \"' message type: \", msg);\n",
       "            return;\n",
       "        }\n",
       "\n",
       "        if (callback) {\n",
       "            try {\n",
       "                // console.log(\"Handling '\" + msg_type + \"' message: \", msg);\n",
       "                callback(fig, msg);\n",
       "            } catch (e) {\n",
       "                console.log(\"Exception inside the 'handler_\" + msg_type + \"' callback:\", e, e.stack, msg);\n",
       "            }\n",
       "        }\n",
       "    };\n",
       "}\n",
       "\n",
       "// from http://stackoverflow.com/questions/1114465/getting-mouse-location-in-canvas\n",
       "mpl.findpos = function(e) {\n",
       "    //this section is from http://www.quirksmode.org/js/events_properties.html\n",
       "    var targ;\n",
       "    if (!e)\n",
       "        e = window.event;\n",
       "    if (e.target)\n",
       "        targ = e.target;\n",
       "    else if (e.srcElement)\n",
       "        targ = e.srcElement;\n",
       "    if (targ.nodeType == 3) // defeat Safari bug\n",
       "        targ = targ.parentNode;\n",
       "\n",
       "    // jQuery normalizes the pageX and pageY\n",
       "    // pageX,Y are the mouse positions relative to the document\n",
       "    // offset() returns the position of the element relative to the document\n",
       "    var x = e.pageX - $(targ).offset().left;\n",
       "    var y = e.pageY - $(targ).offset().top;\n",
       "\n",
       "    return {\"x\": x, \"y\": y};\n",
       "};\n",
       "\n",
       "/*\n",
       " * return a copy of an object with only non-object keys\n",
       " * we need this to avoid circular references\n",
       " * http://stackoverflow.com/a/24161582/3208463\n",
       " */\n",
       "function simpleKeys (original) {\n",
       "  return Object.keys(original).reduce(function (obj, key) {\n",
       "    if (typeof original[key] !== 'object')\n",
       "        obj[key] = original[key]\n",
       "    return obj;\n",
       "  }, {});\n",
       "}\n",
       "\n",
       "mpl.figure.prototype.mouse_event = function(event, name) {\n",
       "    var canvas_pos = mpl.findpos(event)\n",
       "\n",
       "    if (name === 'button_press')\n",
       "    {\n",
       "        this.canvas.focus();\n",
       "        this.canvas_div.focus();\n",
       "    }\n",
       "\n",
       "    var x = canvas_pos.x * mpl.ratio;\n",
       "    var y = canvas_pos.y * mpl.ratio;\n",
       "\n",
       "    this.send_message(name, {x: x, y: y, button: event.button,\n",
       "                             step: event.step,\n",
       "                             guiEvent: simpleKeys(event)});\n",
       "\n",
       "    /* This prevents the web browser from automatically changing to\n",
       "     * the text insertion cursor when the button is pressed.  We want\n",
       "     * to control all of the cursor setting manually through the\n",
       "     * 'cursor' event from matplotlib */\n",
       "    event.preventDefault();\n",
       "    return false;\n",
       "}\n",
       "\n",
       "mpl.figure.prototype._key_event_extra = function(event, name) {\n",
       "    // Handle any extra behaviour associated with a key event\n",
       "}\n",
       "\n",
       "mpl.figure.prototype.key_event = function(event, name) {\n",
       "\n",
       "    // Prevent repeat events\n",
       "    if (name == 'key_press')\n",
       "    {\n",
       "        if (event.which === this._key)\n",
       "            return;\n",
       "        else\n",
       "            this._key = event.which;\n",
       "    }\n",
       "    if (name == 'key_release')\n",
       "        this._key = null;\n",
       "\n",
       "    var value = '';\n",
       "    if (event.ctrlKey && event.which != 17)\n",
       "        value += \"ctrl+\";\n",
       "    if (event.altKey && event.which != 18)\n",
       "        value += \"alt+\";\n",
       "    if (event.shiftKey && event.which != 16)\n",
       "        value += \"shift+\";\n",
       "\n",
       "    value += 'k';\n",
       "    value += event.which.toString();\n",
       "\n",
       "    this._key_event_extra(event, name);\n",
       "\n",
       "    this.send_message(name, {key: value,\n",
       "                             guiEvent: simpleKeys(event)});\n",
       "    return false;\n",
       "}\n",
       "\n",
       "mpl.figure.prototype.toolbar_button_onclick = function(name) {\n",
       "    if (name == 'download') {\n",
       "        this.handle_save(this, null);\n",
       "    } else {\n",
       "        this.send_message(\"toolbar_button\", {name: name});\n",
       "    }\n",
       "};\n",
       "\n",
       "mpl.figure.prototype.toolbar_button_onmouseover = function(tooltip) {\n",
       "    this.message.textContent = tooltip;\n",
       "};\n",
       "mpl.toolbar_items = [[\"Home\", \"Reset original view\", \"fa fa-home icon-home\", \"home\"], [\"Back\", \"Back to previous view\", \"fa fa-arrow-left icon-arrow-left\", \"back\"], [\"Forward\", \"Forward to next view\", \"fa fa-arrow-right icon-arrow-right\", \"forward\"], [\"\", \"\", \"\", \"\"], [\"Pan\", \"Pan axes with left mouse, zoom with right\", \"fa fa-arrows icon-move\", \"pan\"], [\"Zoom\", \"Zoom to rectangle\", \"fa fa-square-o icon-check-empty\", \"zoom\"], [\"\", \"\", \"\", \"\"], [\"Download\", \"Download plot\", \"fa fa-floppy-o icon-save\", \"download\"]];\n",
       "\n",
       "mpl.extensions = [\"eps\", \"pdf\", \"png\", \"ps\", \"raw\", \"svg\"];\n",
       "\n",
       "mpl.default_extension = \"png\";var comm_websocket_adapter = function(comm) {\n",
       "    // Create a \"websocket\"-like object which calls the given IPython comm\n",
       "    // object with the appropriate methods. Currently this is a non binary\n",
       "    // socket, so there is still some room for performance tuning.\n",
       "    var ws = {};\n",
       "\n",
       "    ws.close = function() {\n",
       "        comm.close()\n",
       "    };\n",
       "    ws.send = function(m) {\n",
       "        //console.log('sending', m);\n",
       "        comm.send(m);\n",
       "    };\n",
       "    // Register the callback with on_msg.\n",
       "    comm.on_msg(function(msg) {\n",
       "        //console.log('receiving', msg['content']['data'], msg);\n",
       "        // Pass the mpl event to the overridden (by mpl) onmessage function.\n",
       "        ws.onmessage(msg['content']['data'])\n",
       "    });\n",
       "    return ws;\n",
       "}\n",
       "\n",
       "mpl.mpl_figure_comm = function(comm, msg) {\n",
       "    // This is the function which gets called when the mpl process\n",
       "    // starts-up an IPython Comm through the \"matplotlib\" channel.\n",
       "\n",
       "    var id = msg.content.data.id;\n",
       "    // Get hold of the div created by the display call when the Comm\n",
       "    // socket was opened in Python.\n",
       "    var element = $(\"#\" + id);\n",
       "    var ws_proxy = comm_websocket_adapter(comm)\n",
       "\n",
       "    function ondownload(figure, format) {\n",
       "        window.open(figure.imageObj.src);\n",
       "    }\n",
       "\n",
       "    var fig = new mpl.figure(id, ws_proxy,\n",
       "                           ondownload,\n",
       "                           element.get(0));\n",
       "\n",
       "    // Call onopen now - mpl needs it, as it is assuming we've passed it a real\n",
       "    // web socket which is closed, not our websocket->open comm proxy.\n",
       "    ws_proxy.onopen();\n",
       "\n",
       "    fig.parent_element = element.get(0);\n",
       "    fig.cell_info = mpl.find_output_cell(\"<div id='\" + id + \"'></div>\");\n",
       "    if (!fig.cell_info) {\n",
       "        console.error(\"Failed to find cell for figure\", id, fig);\n",
       "        return;\n",
       "    }\n",
       "\n",
       "    var output_index = fig.cell_info[2]\n",
       "    var cell = fig.cell_info[0];\n",
       "\n",
       "};\n",
       "\n",
       "mpl.figure.prototype.handle_close = function(fig, msg) {\n",
       "    var width = fig.canvas.width/mpl.ratio\n",
       "    fig.root.unbind('remove')\n",
       "\n",
       "    // Update the output cell to use the data from the current canvas.\n",
       "    fig.push_to_output();\n",
       "    var dataURL = fig.canvas.toDataURL();\n",
       "    // Re-enable the keyboard manager in IPython - without this line, in FF,\n",
       "    // the notebook keyboard shortcuts fail.\n",
       "    IPython.keyboard_manager.enable()\n",
       "    $(fig.parent_element).html('<img src=\"' + dataURL + '\" width=\"' + width + '\">');\n",
       "    fig.close_ws(fig, msg);\n",
       "}\n",
       "\n",
       "mpl.figure.prototype.close_ws = function(fig, msg){\n",
       "    fig.send_message('closing', msg);\n",
       "    // fig.ws.close()\n",
       "}\n",
       "\n",
       "mpl.figure.prototype.push_to_output = function(remove_interactive) {\n",
       "    // Turn the data on the canvas into data in the output cell.\n",
       "    var width = this.canvas.width/mpl.ratio\n",
       "    var dataURL = this.canvas.toDataURL();\n",
       "    this.cell_info[1]['text/html'] = '<img src=\"' + dataURL + '\" width=\"' + width + '\">';\n",
       "}\n",
       "\n",
       "mpl.figure.prototype.updated_canvas_event = function() {\n",
       "    // Tell IPython that the notebook contents must change.\n",
       "    IPython.notebook.set_dirty(true);\n",
       "    this.send_message(\"ack\", {});\n",
       "    var fig = this;\n",
       "    // Wait a second, then push the new image to the DOM so\n",
       "    // that it is saved nicely (might be nice to debounce this).\n",
       "    setTimeout(function () { fig.push_to_output() }, 1000);\n",
       "}\n",
       "\n",
       "mpl.figure.prototype._init_toolbar = function() {\n",
       "    var fig = this;\n",
       "\n",
       "    var nav_element = $('<div/>');\n",
       "    nav_element.attr('style', 'width: 100%');\n",
       "    this.root.append(nav_element);\n",
       "\n",
       "    // Define a callback function for later on.\n",
       "    function toolbar_event(event) {\n",
       "        return fig.toolbar_button_onclick(event['data']);\n",
       "    }\n",
       "    function toolbar_mouse_event(event) {\n",
       "        return fig.toolbar_button_onmouseover(event['data']);\n",
       "    }\n",
       "\n",
       "    for(var toolbar_ind in mpl.toolbar_items){\n",
       "        var name = mpl.toolbar_items[toolbar_ind][0];\n",
       "        var tooltip = mpl.toolbar_items[toolbar_ind][1];\n",
       "        var image = mpl.toolbar_items[toolbar_ind][2];\n",
       "        var method_name = mpl.toolbar_items[toolbar_ind][3];\n",
       "\n",
       "        if (!name) { continue; };\n",
       "\n",
       "        var button = $('<button class=\"btn btn-default\" href=\"#\" title=\"' + name + '\"><i class=\"fa ' + image + ' fa-lg\"></i></button>');\n",
       "        button.click(method_name, toolbar_event);\n",
       "        button.mouseover(tooltip, toolbar_mouse_event);\n",
       "        nav_element.append(button);\n",
       "    }\n",
       "\n",
       "    // Add the status bar.\n",
       "    var status_bar = $('<span class=\"mpl-message\" style=\"text-align:right; float: right;\"/>');\n",
       "    nav_element.append(status_bar);\n",
       "    this.message = status_bar[0];\n",
       "\n",
       "    // Add the close button to the window.\n",
       "    var buttongrp = $('<div class=\"btn-group inline pull-right\"></div>');\n",
       "    var button = $('<button class=\"btn btn-mini btn-primary\" href=\"#\" title=\"Stop Interaction\"><i class=\"fa fa-power-off icon-remove icon-large\"></i></button>');\n",
       "    button.click(function (evt) { fig.handle_close(fig, {}); } );\n",
       "    button.mouseover('Stop Interaction', toolbar_mouse_event);\n",
       "    buttongrp.append(button);\n",
       "    var titlebar = this.root.find($('.ui-dialog-titlebar'));\n",
       "    titlebar.prepend(buttongrp);\n",
       "}\n",
       "\n",
       "mpl.figure.prototype._root_extra_style = function(el){\n",
       "    var fig = this\n",
       "    el.on(\"remove\", function(){\n",
       "\tfig.close_ws(fig, {});\n",
       "    });\n",
       "}\n",
       "\n",
       "mpl.figure.prototype._canvas_extra_style = function(el){\n",
       "    // this is important to make the div 'focusable\n",
       "    el.attr('tabindex', 0)\n",
       "    // reach out to IPython and tell the keyboard manager to turn it's self\n",
       "    // off when our div gets focus\n",
       "\n",
       "    // location in version 3\n",
       "    if (IPython.notebook.keyboard_manager) {\n",
       "        IPython.notebook.keyboard_manager.register_events(el);\n",
       "    }\n",
       "    else {\n",
       "        // location in version 2\n",
       "        IPython.keyboard_manager.register_events(el);\n",
       "    }\n",
       "\n",
       "}\n",
       "\n",
       "mpl.figure.prototype._key_event_extra = function(event, name) {\n",
       "    var manager = IPython.notebook.keyboard_manager;\n",
       "    if (!manager)\n",
       "        manager = IPython.keyboard_manager;\n",
       "\n",
       "    // Check for shift+enter\n",
       "    if (event.shiftKey && event.which == 13) {\n",
       "        this.canvas_div.blur();\n",
       "        // select the cell after this one\n",
       "        var index = IPython.notebook.find_cell_index(this.cell_info[0]);\n",
       "        IPython.notebook.select(index + 1);\n",
       "    }\n",
       "}\n",
       "\n",
       "mpl.figure.prototype.handle_save = function(fig, msg) {\n",
       "    fig.ondownload(fig, null);\n",
       "}\n",
       "\n",
       "\n",
       "mpl.find_output_cell = function(html_output) {\n",
       "    // Return the cell and output element which can be found *uniquely* in the notebook.\n",
       "    // Note - this is a bit hacky, but it is done because the \"notebook_saving.Notebook\"\n",
       "    // IPython event is triggered only after the cells have been serialised, which for\n",
       "    // our purposes (turning an active figure into a static one), is too late.\n",
       "    var cells = IPython.notebook.get_cells();\n",
       "    var ncells = cells.length;\n",
       "    for (var i=0; i<ncells; i++) {\n",
       "        var cell = cells[i];\n",
       "        if (cell.cell_type === 'code'){\n",
       "            for (var j=0; j<cell.output_area.outputs.length; j++) {\n",
       "                var data = cell.output_area.outputs[j];\n",
       "                if (data.data) {\n",
       "                    // IPython >= 3 moved mimebundle to data attribute of output\n",
       "                    data = data.data;\n",
       "                }\n",
       "                if (data['text/html'] == html_output) {\n",
       "                    return [cell, data, j];\n",
       "                }\n",
       "            }\n",
       "        }\n",
       "    }\n",
       "}\n",
       "\n",
       "// Register the function which deals with the matplotlib target/channel.\n",
       "// The kernel may be null if the page has been refreshed.\n",
       "if (IPython.notebook.kernel != null) {\n",
       "    IPython.notebook.kernel.comm_manager.register_target('matplotlib', mpl.mpl_figure_comm);\n",
       "}\n"
      ],
      "text/plain": [
       "<IPython.core.display.Javascript object>"
      ]
     },
     "metadata": {},
     "output_type": "display_data"
    },
    {
     "data": {
      "text/html": [
       "<img src=\"data:image/png;base64,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\" width=\"999.999985098839\">"
      ],
      "text/plain": [
       "<IPython.core.display.HTML object>"
      ]
     },
     "metadata": {},
     "output_type": "display_data"
    }
   ],
   "source": [
    "%matplotlib notebook\n",
    "# Plot result\n",
    "plt.figure(figsize=(10,10))\n",
    "# Black removed and is used for noise instead.\n",
    "unique_labels = set(labels)\n",
    "colors = [plt.cm.Spectral(each)\n",
    "          for each in np.linspace(0, 1, len(unique_labels))]\n",
    "\n",
    "for k, col in zip(unique_labels, colors):\n",
    "    class_member_mask = (labels == k)\n",
    "    xy = umap_results[class_member_mask]\n",
    "    if k == -1:\n",
    "        # Black used for noise.\n",
    "        col = [0, 0, 0, 1]\n",
    "        plt.plot(xy[:, 0], xy[:, 1], 'o', markerfacecolor=tuple(col), markersize=3, alpha=0.25)\n",
    "\n",
    "    else:\n",
    "        plt.plot(xy[:, 0], xy[:, 1], 'o', markerfacecolor=tuple(col), markersize=3, alpha=0.9)\n",
    "\n",
    "# colors2 = [plt.cm.Set1(each)\n",
    "#       for each in np.linspace(0, 1, len(set(labels_true)))]\n",
    "# unique_labels = set(labels_true)\n",
    "# for k, col in zip(unique_labels, colors):\n",
    "#     print(col)\n",
    "\n",
    "#     true_label_mask = (labels_true == k)\n",
    "#     xy = umap_results[true_label_mask]\n",
    "#     plt.plot(xy[:, 0], xy[:, 1], 'o', markerfacecolor=tuple(col2), markersize=5, alpha=1)\n",
    "    \n",
    "\n",
    "plt.title('Estimated number of clusters: %d' % n_clusters_)\n",
    "plt.show()\n",
    "\n"
   ]
  },
  {
   "cell_type": "code",
   "execution_count": 46,
   "metadata": {
    "scrolled": true
   },
   "outputs": [
    {
     "data": {
      "text/plain": [
       "<matplotlib.axes._subplots.AxesSubplot at 0x1a2319b550>"
      ]
     },
     "execution_count": 46,
     "metadata": {},
     "output_type": "execute_result"
    }
   ],
   "source": [
    "db.condensed_tree_.plot(select_clusters=True,\n",
    "                               selection_palette=sns.color_palette('deep', 8))\n"
   ]
  },
  {
   "cell_type": "markdown",
   "metadata": {},
   "source": [
    "Given an expectation of accuracy given certain breakdowns of reads, can we determine the true modification profiles of certain reads?\n",
    "\n",
    "The clustering methods work if there are clear differences between the subclasses but clustering has no prior. We actually have information which will allow us to help determine subclusters of reads in other experiments.\n",
    "\n"
   ]
  },
  {
   "cell_type": "code",
   "execution_count": 23,
   "metadata": {},
   "outputs": [],
   "source": [
    "smp = SimulateModProbs(accuracy_csv)\n"
   ]
  },
  {
   "cell_type": "code",
   "execution_count": 79,
   "metadata": {},
   "outputs": [],
   "source": [
    "data_frames = []\n",
    "label_map = {}\n",
    "#             [1 for x in range(len(smp.acc_df))],\n",
    "\n",
    "mod_maps = [[0 if x in [] else 1 for x in range(len(smp.acc_df))],\n",
    "            [0 if x in [5] else 1 for x in range(len(smp.acc_df))],\n",
    "            [0 if x in [ 6] else 1 for x in range(len(smp.acc_df))],\n",
    "            [0 if x in [ 7] else 1 for x in range(len(smp.acc_df))]\n",
    "           ]\n",
    "names = [\n",
    "        \"test1\", \n",
    "        \"test2\",\n",
    "        \"test3\",\n",
    "        \"test4\"]\n",
    "counts = [\n",
    "         1000, \n",
    "         1000,\n",
    "         1000,\n",
    "         1000]\n",
    "\n",
    "# mod_maps = [[0 if x in [] else 1 for x in range(len(smp.acc_df))],\n",
    "#             [0 if x in [ 6] else 1 for x in range(len(smp.acc_df))],\n",
    "#             [0 if x in [ 7] else 1 for x in range(len(smp.acc_df))],\n",
    "#             [0 if x in [ 8] else 1 for x in range(len(smp.acc_df))],\n",
    "#             [0 if x in [ 8, 9] else 1 for x in range(len(smp.acc_df))]\n",
    "#            ]\n",
    "# names = [\n",
    "#         \"test1\", \n",
    "#         \"test2\",\n",
    "#         \"test3\",\n",
    "#         \"test4\",\n",
    "#         \"test5\"]\n",
    "# counts = [\n",
    "#          500, \n",
    "#          500,\n",
    "#          500,\n",
    "#          500,\n",
    "#          500]\n",
    "\n",
    "out_paths = []\n",
    "for i, (mod_map, name, n) in enumerate(zip(mod_maps, names, counts)):\n",
    "    d0 = smp.get_simulated_data(mod_map, n=n)\n",
    "    df1 = smp.generate_variant_calling_output(mod_map2, n=n)\n",
    "    out_path = os.path.join(simulation_path, f\"test{i}.csv\")\n",
    "    df1.to_csv(out_path, index=False)\n",
    "    out_paths.append(out_path)\n",
    "    d0[\"label\"] = name\n",
    "    label_map[name] = i\n",
    "    data_frames.append(d0)\n"
   ]
  },
  {
   "cell_type": "code",
   "execution_count": 80,
   "metadata": {},
   "outputs": [],
   "source": [
    "final_df = pd.concat(data_frames, ignore_index=True)\n",
    "labels_true = final_df[\"label\"].map(label_map)\n",
    "contig = \"RDN18-1\"\n"
   ]
  },
  {
   "cell_type": "code",
   "execution_count": 81,
   "metadata": {},
   "outputs": [],
   "source": [
    "X = final_df[contig]\n",
    "contig_acc = smp.accuracy_data[smp.accuracy_data[\"contig\"] == contig]"
   ]
  },
  {
   "cell_type": "code",
   "execution_count": 82,
   "metadata": {},
   "outputs": [
    {
     "data": {
      "text/plain": [
       "0    0.9664\n",
       "Name: accuracy, dtype: float64"
      ]
     },
     "execution_count": 82,
     "metadata": {},
     "output_type": "execute_result"
    }
   ],
   "source": [
    "contig_acc[contig_acc[\"reference_index\"] == 27][\"accuracy\"]"
   ]
  },
  {
   "cell_type": "code",
   "execution_count": 83,
   "metadata": {},
   "outputs": [],
   "source": [
    "total_prob = 1\n",
    "for i, column in enumerate(X.columns):\n",
    "    total_prob *= contig_acc[contig_acc[\"reference_index\"] == column[0]][\"recall\"].iloc[0]\n",
    "    if i == 0:\n",
    "        a = X[column]\n",
    "        continue\n",
    "    a = a & X[column]\n",
    "    "
   ]
  },
  {
   "cell_type": "code",
   "execution_count": 84,
   "metadata": {},
   "outputs": [
    {
     "data": {
      "text/plain": [
       "16.703333972763318"
      ]
     },
     "execution_count": 84,
     "metadata": {},
     "output_type": "execute_result"
    }
   ],
   "source": [
    "total_prob * len(X)"
   ]
  },
  {
   "cell_type": "code",
   "execution_count": 85,
   "metadata": {},
   "outputs": [],
   "source": [
    "diff = contig_acc[\"recall\"] - np.mean(X).values\n",
    "diff.sort_values(ascending=False).hist()\n",
    "hits = diff[np.abs(diff) > .05]\n",
    "diff_mod_pos = hits.index.values"
   ]
  },
  {
   "cell_type": "code",
   "execution_count": 86,
   "metadata": {},
   "outputs": [
    {
     "data": {
      "text/plain": [
       "array([5, 6, 7])"
      ]
     },
     "execution_count": 86,
     "metadata": {},
     "output_type": "execute_result"
    }
   ],
   "source": [
    "diff_mod_pos"
   ]
  },
  {
   "cell_type": "code",
   "execution_count": 87,
   "metadata": {},
   "outputs": [
    {
     "name": "stdout",
     "output_type": "stream",
     "text": [
      "first order: 5\n",
      "hits: [5]\n",
      "first order: 6\n",
      "hits: [6]\n",
      "first order: 7\n",
      "hits: [7]\n"
     ]
    }
   ],
   "source": [
    "\n",
    "possible_groups = set()\n",
    "for x in diff_mod_pos:\n",
    "    print(f\"first order: {x}\")\n",
    "    diff = contig_acc[\"recall\"] - np.mean(X[X.iloc[:, x] < 0.5]).values\n",
    "    hits = diff[np.abs(diff) > .20]\n",
    "    print(f\"hits: {hits.index.values}\")\n",
    "    possible_groups.add(frozenset(hits.index.values))\n",
    "#     \n",
    "    diff = contig_acc[\"recall\"] - np.mean(X[X.iloc[:, x] >= 0.5]).values\n",
    "    hits = diff[np.abs(diff) > .20]\n",
    "    for x in hits.index.values:\n",
    "        if x not in diff_mod_pos: \n",
    "            print(f\"oppo hits: {x}\")\n"
   ]
  },
  {
   "cell_type": "code",
   "execution_count": null,
   "metadata": {},
   "outputs": [],
   "source": []
  },
  {
   "cell_type": "code",
   "execution_count": 88,
   "metadata": {},
   "outputs": [
    {
     "name": "stdout",
     "output_type": "stream",
     "text": [
      "Group: frozenset({5})\n",
      "Group: frozenset({6})\n",
      "Group: frozenset({7})\n"
     ]
    }
   ],
   "source": [
    "for group in possible_groups:\n",
    "    print(f\"Group: {group}\")\n",
    "    mask = len(X) * [True]\n",
    "    for x in group:\n",
    "        mask = mask & X.iloc[:, x] < 0.5\n",
    "    diff = contig_acc[\"recall\"] - np.mean(X[mask]).values\n",
    "    hits = diff[np.abs(diff) > .20]\n",
    "    for x in hits.index.values:\n",
    "        if x not in diff_mod_pos:\n",
    "            print(f\"hits: {hits.index.values}\")\n"
   ]
  },
  {
   "cell_type": "code",
   "execution_count": null,
   "metadata": {},
   "outputs": [],
   "source": []
  },
  {
   "cell_type": "code",
   "execution_count": null,
   "metadata": {},
   "outputs": [],
   "source": []
  },
  {
   "cell_type": "code",
   "execution_count": null,
   "metadata": {},
   "outputs": [],
   "source": []
  },
  {
   "cell_type": "code",
   "execution_count": 761,
   "metadata": {
    "collapsed": true
   },
   "outputs": [
    {
     "data": {
      "text/plain": [
       "[27,\n",
       " 99,\n",
       " 105,\n",
       " 119,\n",
       " 210,\n",
       " 301,\n",
       " 413,\n",
       " 419,\n",
       " 435,\n",
       " 465,\n",
       " 540,\n",
       " 561,\n",
       " 577,\n",
       " 618,\n",
       " 631,\n",
       " 758,\n",
       " 765,\n",
       " 795,\n",
       " 973,\n",
       " 998,\n",
       " 1006,\n",
       " 1125,\n",
       " 1180,\n",
       " 1186,\n",
       " 1190,\n",
       " 1268,\n",
       " 1270,\n",
       " 1279,\n",
       " 1289,\n",
       " 1414,\n",
       " 1427,\n",
       " 1571,\n",
       " 1574,\n",
       " 1638,\n",
       " 1772,\n",
       " 1780,\n",
       " 1781]"
      ]
     },
     "execution_count": 761,
     "metadata": {},
     "output_type": "execute_result"
    }
   ],
   "source": [
    "\n",
    "native_cbf5_gal_path = \"/Users/andrewbailey/CLionProjects/read_clustering/data/inference/variant_calls/native_cbf5_gal_round30_alt_canonical_supervised_500_500.model.csv\"\n",
    "vc = VariantCalls([native_cbf5_gal_path], [\"native_cbf5_gal_path\"])\n",
    "vc.get_contig_positions(contig)"
   ]
  },
  {
   "cell_type": "code",
   "execution_count": 650,
   "metadata": {},
   "outputs": [],
   "source": [
    "data = vc.get_reads_covering_positions_data(vc.get_contig_positions(contig))"
   ]
  }
 ],
 "metadata": {
  "kernelspec": {
   "display_name": "read_clustering",
   "language": "python",
   "name": "read_clustering"
  },
  "language_info": {
   "codemirror_mode": {
    "name": "ipython",
    "version": 3
   },
   "file_extension": ".py",
   "mimetype": "text/x-python",
   "name": "python",
   "nbconvert_exporter": "python",
   "pygments_lexer": "ipython3",
   "version": "3.7.7"
  }
 },
 "nbformat": 4,
 "nbformat_minor": 2
}
