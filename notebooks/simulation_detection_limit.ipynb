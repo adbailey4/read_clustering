{
 "cells": [
  {
   "cell_type": "markdown",
   "metadata": {},
   "source": [
    "# Simulate Reads\n",
    "\n",
    "How many reads do we need to detect N clusters at varying levels of abundance with varying number of modifications present.\n",
    "\n",
    "Variables:\n",
    "* Number of read classes\n",
    "* Number of reads in each class\n",
    "* Similarity to other read classes aka How many modification sites differ\n",
    "* What is the accuracy for each modification\n",
    "\n",
    "Thoughts / Sticking points:\n",
    "\n",
    "Some mods are not independent so how do we model non-independent mods? Include them and just forget about it? Map them together into a single mod? Exclude from analysis? How do we determine if a cluster is \"Good\". What clustering algorithm should we use? Can we generate several simulations and then see which clustering algorithm does best? I think yes. \n",
    "\n",
    "\n",
    "1: Generate random reads profiles from mod profile and prediction accuracy  \n",
    "2: Create Simulation Framework"
   ]
  },
  {
   "cell_type": "code",
   "execution_count": 1,
   "metadata": {},
   "outputs": [
    {
     "name": "stderr",
     "output_type": "stream",
     "text": [
      "/Users/andrewbailey/anaconda3/envs/read_clustering/lib/python3.7/site-packages/umap/__init__.py:9: UserWarning: Tensorflow not installed; ParametricUMAP will be unavailable\n",
      "  warn(\"Tensorflow not installed; ParametricUMAP will be unavailable\")\n",
      "/Users/andrewbailey/anaconda3/envs/read_clustering/lib/python3.7/site-packages/sklearn/utils/deprecation.py:143: FutureWarning: The sklearn.metrics.classification module is  deprecated in version 0.22 and will be removed in version 0.24. The corresponding classes / functions should instead be imported from sklearn.metrics. Anything that cannot be imported from sklearn.metrics is now part of the private API.\n",
      "  warnings.warn(message, FutureWarning)\n"
     ]
    }
   ],
   "source": [
    "import numpy as np\n",
    "import pandas as pd\n",
    "import os\n",
    "from sklearn.cluster import DBSCAN\n",
    "import umap\n",
    "import hdbscan\n",
    "import matplotlib.pyplot as plt\n",
    "import matplotlib as mpl\n",
    "import seaborn as sns\n",
    "import matplotlib.pyplot as plt\n",
    "\n",
    "from read_clustering.variant_call import VariantCalls\n",
    "threshold = 0.5\n",
    "np.random.seed(42)"
   ]
  },
  {
   "cell_type": "code",
   "execution_count": 2,
   "metadata": {},
   "outputs": [],
   "source": [
    "def generate_call_from_fraction_correct(label, fraction_correct, n=1):\n",
    "    p = np.random.random(n)\n",
    "    if label:\n",
    "        return (p <= fraction_correct).astype(int)\n",
    "    else:\n",
    "        return (p > fraction_correct).astype(int)\n",
    "\n",
    "def generate_call_from_sample_of_probs(sampling_of_probs, n=1):\n",
    "    return np.random.choice(sampling_of_probs, n)    "
   ]
  },
  {
   "cell_type": "code",
   "execution_count": 3,
   "metadata": {},
   "outputs": [
    {
     "name": "stdout",
     "output_type": "stream",
     "text": [
      "0.1031\n",
      "0.1021\n"
     ]
    }
   ],
   "source": [
    "print(np.average(generate_call_from_fraction_correct(1, 0.1, 10000)))\n",
    "print(np.average(generate_call_from_fraction_correct(0, 0.9, 10000)))"
   ]
  },
  {
   "cell_type": "code",
   "execution_count": 4,
   "metadata": {},
   "outputs": [
    {
     "name": "stdout",
     "output_type": "stream",
     "text": [
      "0.0998\n",
      "0.103\n"
     ]
    }
   ],
   "source": [
    "dist = generate_call_from_fraction_correct(1, 0.1, 10000)\n",
    "print(np.average(dist))\n",
    "print(np.average(generate_call_from_sample_of_probs(dist, 10000)))"
   ]
  },
  {
   "cell_type": "code",
   "execution_count": 5,
   "metadata": {},
   "outputs": [],
   "source": [
    "accuracy_csv = \"/Users/andrewbailey/Desktop/1_per_position_data_0.5.csv\"\n",
    "accuracy_csv = \"/Volumes/gdrive/rrna_kube_testing/small_5mer/test/train_500_test_500_prob_0.7_em_iterations_30_gaussian_true_FREQ_THRESHOLD_0_USE_IVT_TRAINING_true_unsupervised_false_all_kmers_false_small_model_5mer_use_median_true/testing_accuracy_csvs/30_per_position_data_0.5.csv\"\n",
    "accuracy_csv = \"/Users/andrewbailey/CLionProjects/read_clustering/30_per_position_data_0.5.csv\"\n",
    "# accuracy_csv = \"/Users/andrewbailey/CLionProjects/rrna_analysis/notebooks/rrna_data/rrna_kube_testing/small_5mer/depletion/train_500_test_500_prob_0.7_em_iterations_30_gaussian_true_FREQ_THRESHOLD_0_USE_IVT_TRAINING_true_unsupervised_false_all_kmers_false_small_model_5mer_use_median_true_min_sd_0/training_accuracy_csvs/30_per_position_data_0.5.csv\""
   ]
  },
  {
   "cell_type": "code",
   "execution_count": 6,
   "metadata": {},
   "outputs": [],
   "source": [
    "accuracy_data = pd.read_csv(accuracy_csv)\n"
   ]
  },
  {
   "cell_type": "code",
   "execution_count": 7,
   "metadata": {},
   "outputs": [],
   "source": [
    "accuracy_data = pd.read_csv(accuracy_csv)\n",
    "acc_df = accuracy_data[[\"contig\", \"reference_index\", \"strand\"]]\n",
    "index = pd.MultiIndex.from_frame(acc_df)\n",
    "mod_map = [1 for x in range(len(acc_df)-3)] + [0, 0, 0]\n",
    "accuracy_key = \"accuracy\"\n",
    "n=10"
   ]
  },
  {
   "cell_type": "code",
   "execution_count": 8,
   "metadata": {},
   "outputs": [],
   "source": [
    "mod_calls = []\n",
    "for i, x in enumerate(mod_map):\n",
    "    key = \"recall\"\n",
    "    if x == 0:\n",
    "        key = \"specificity\"\n",
    "    mod_calls.append(generate_call_from_fraction_correct(x, accuracy_data[key][i], n))\n",
    "data = np.array(mod_calls)\n"
   ]
  },
  {
   "cell_type": "code",
   "execution_count": 9,
   "metadata": {},
   "outputs": [
    {
     "data": {
      "text/plain": [
       "array([[1, 1, 1, ..., 1, 1, 1],\n",
       "       [1, 1, 1, ..., 1, 0, 1],\n",
       "       [1, 1, 1, ..., 1, 1, 1],\n",
       "       ...,\n",
       "       [1, 1, 0, ..., 0, 0, 0],\n",
       "       [0, 0, 0, ..., 0, 0, 0],\n",
       "       [0, 0, 0, ..., 0, 0, 0]])"
      ]
     },
     "execution_count": 9,
     "metadata": {},
     "output_type": "execute_result"
    }
   ],
   "source": [
    "data"
   ]
  },
  {
   "cell_type": "code",
   "execution_count": 10,
   "metadata": {},
   "outputs": [],
   "source": [
    "class SimulateModProbs(object):\n",
    "    def __init__(self, accuracy_csv):\n",
    "        self.accuracy_data = pd.read_csv(accuracy_csv)\n",
    "        self.acc_df = self.accuracy_data[[\"contig\", \"reference_index\", \"strand\"]]\n",
    "        self.index = pd.MultiIndex.from_frame(self.acc_df)\n",
    "\n",
    "#     def get_simulated_data(self, mod_map, accuracy_key=\"accuracy\", n=100):\n",
    "#         mod_accuracy_map = zip(mod_map, accuracy_data[accuracy_key])\n",
    "#         data = np.array([generate_call_from_fraction_correct(mod, accuracy, n) for mod, accuracy in mod_accuracy_map])\n",
    "#         return pd.DataFrame(data.T, columns=self.index)\n",
    "    \n",
    "    def get_simulated_data(self, mod_map, n=100):\n",
    "        mod_calls = []\n",
    "        for i, x in enumerate(mod_map):\n",
    "            key = \"recall\"\n",
    "            if x == 0:\n",
    "                key = \"specificity\"\n",
    "            mod_calls.append(generate_call_from_fraction_correct(x, self.accuracy_data[key][i], n))\n",
    "        return pd.DataFrame(np.array(mod_calls).T, columns=self.index) \n",
    "\n",
    "    \n",
    "    def generate_variant_calling_output(self, mod_map, accuracy_key=\"accuracy\", n=100):\n",
    "        df = self.get_simulated_data(mod_map, n=n)\n",
    "        df.index.rename(\"read_id\", inplace=True)\n",
    "        df1 = df.melt(ignore_index=False)\n",
    "        df1.rename(columns={\"value\": \"prob2\"}, inplace=True)\n",
    "        df1.loc[:, \"prob1\"] = 1-df1[\"prob2\"]\n",
    "        df1.loc[:, \"variants\"] = \"ab\"\n",
    "        df1.reset_index(inplace=True)\n",
    "        return df1"
   ]
  },
  {
   "cell_type": "code",
   "execution_count": 11,
   "metadata": {},
   "outputs": [],
   "source": [
    "simulation_path = \"/Users/andrewbailey/CLionProjects/read_clustering/data/simulation/test\"\n",
    "smp = SimulateModProbs(accuracy_csv)"
   ]
  },
  {
   "cell_type": "code",
   "execution_count": 12,
   "metadata": {},
   "outputs": [],
   "source": [
    "n = 1000\n",
    "mod_map = [1 for x in range(len(smp.acc_df))]\n",
    "df1 = smp.generate_variant_calling_output(mod_map, n=n)\n",
    "out_path = os.path.join(simulation_path, \"test.csv\")\n",
    "df1.to_csv(out_path, index=False)"
   ]
  },
  {
   "cell_type": "code",
   "execution_count": 13,
   "metadata": {},
   "outputs": [],
   "source": [
    "n = 1000\n",
    "mod_map2 = [0 if x in [ 8] else 1 for x in range(len(smp.acc_df))]\n",
    "df1 = smp.generate_variant_calling_output(mod_map2, n=n)\n",
    "out_path2 = os.path.join(simulation_path, \"test2.csv\")\n",
    "df1.to_csv(out_path2, index=False)"
   ]
  },
  {
   "cell_type": "code",
   "execution_count": 14,
   "metadata": {},
   "outputs": [],
   "source": [
    "n = 1000\n",
    "mod_map2 = [0 if x in [ 15] else 1 for x in range(len(smp.acc_df))]\n",
    "df1 = smp.generate_variant_calling_output(mod_map2, n=n)\n",
    "out_path3 = os.path.join(simulation_path, \"test3.csv\")\n",
    "df1.to_csv(out_path3, index=False)\n",
    "n = 1000\n",
    "mod_map2 = [0 if x in [ 28, 29] else 1 for x in range(len(smp.acc_df))]\n",
    "df1 = smp.generate_variant_calling_output(mod_map2, n=n)\n",
    "out_path4 = os.path.join(simulation_path, \"test4.csv\")\n",
    "df1.to_csv(out_path4, index=False)"
   ]
  },
  {
   "cell_type": "code",
   "execution_count": 15,
   "metadata": {},
   "outputs": [],
   "source": [
    "ivt_path = \"/Users/andrewbailey/CLionProjects/read_clustering/data/inference/variant_calls/canonical_ivt_round30_alt_canonical_supervised_500_500.model.csv\"\n",
    "cbf5_glu_psu_depletion_path = \"/Users/andrewbailey/CLionProjects/read_clustering/data/inference/variant_calls/depletion_cbf5_glu_round30_alt_canonical_supervised_500_500.model.csv\"\n",
    "nop58_glu_2o_depletion_path = \"/Users/andrewbailey/CLionProjects/read_clustering/data/inference/variant_calls/depletion_nop58_glu_round30_alt_canonical_supervised_500_500.model.csv\"       \n",
    "native_cbf5_gal_path = \"/Users/andrewbailey/CLionProjects/read_clustering/data/inference/variant_calls/native_cbf5_gal_round30_alt_canonical_supervised_500_500.model.csv\"\n",
    "native_nop58_gal_path = \"/Users/andrewbailey/CLionProjects/read_clustering/data/inference/variant_calls/native_nop58_gal_round30_alt_canonical_supervised_500_500.model.csv\"\n",
    "\n",
    "file_paths = [out_path2]\n",
    "labels = [\"one_off\"]\n",
    "\n",
    "file_paths = [out_path, out_path2, out_path3, out_path4]\n",
    "labels = [\"test\", \"one_off1\", \"one_off2\", \"one_off3\"]\n",
    "# file_paths = [out_path2, out_path3, out_path4]\n",
    "# labels = [\"one_off1\", \"one_off2\", \"one_off3\"]\n",
    "\n",
    "# file_paths = [ivt_path, cbf5_glu_psu_depletion_path, nop58_glu_2o_depletion_path, native_cbf5_gal_path, native_nop58_gal_path]\n",
    "# labels = [\"ivt\", \"cbf5_glu_psu_depletion\", \"nop58_glu_2o_depletion\", \"native_cbf5_gal\", \"native_nop58_gal\"]"
   ]
  },
  {
   "cell_type": "code",
   "execution_count": 16,
   "metadata": {},
   "outputs": [],
   "source": [
    "vc = VariantCalls(file_paths, labels)\n"
   ]
  },
  {
   "cell_type": "code",
   "execution_count": 21,
   "metadata": {},
   "outputs": [
    {
     "data": {
      "text/plain": [
       "4000"
      ]
     },
     "execution_count": 21,
     "metadata": {},
     "output_type": "execute_result"
    }
   ],
   "source": [
    "len(vc.get_X(\"RDN25-1\", vc.get_contig_positions(\"RDN25-1\")))"
   ]
  },
  {
   "cell_type": "code",
   "execution_count": 20,
   "metadata": {},
   "outputs": [
    {
     "data": {
      "text/plain": [
       "4000"
      ]
     },
     "execution_count": 20,
     "metadata": {},
     "output_type": "execute_result"
    }
   ],
   "source": [
    "len(vc.get_X(\"RDN18-1\", vc.get_contig_positions(\"RDN18-1\")))"
   ]
  },
  {
   "cell_type": "code",
   "execution_count": 18,
   "metadata": {
    "scrolled": false
   },
   "outputs": [],
   "source": [
    "contig = 'RDN18-1'\n",
    "# n_components = 2\n",
    "# save_fig_path=None\n",
    "# vc.plot_UMAP_by_label(contig, vc.get_contig_positions(contig), n_components=n_components, figure_path=save_fig_path)"
   ]
  },
  {
   "cell_type": "code",
   "execution_count": 19,
   "metadata": {
    "scrolled": false
   },
   "outputs": [
    {
     "ename": "RuntimeError",
     "evalue": "module compiled against API version 0xe but this version of numpy is 0xd",
     "output_type": "error",
     "traceback": [
      "\u001b[0;31m---------------------------------------------------------------------------\u001b[0m",
      "\u001b[0;31mRuntimeError\u001b[0m                              Traceback (most recent call last)",
      "\u001b[0;31mRuntimeError\u001b[0m: module compiled against API version 0xe but this version of numpy is 0xd"
     ]
    },
    {
     "name": "stderr",
     "output_type": "stream",
     "text": [
      "/Users/andrewbailey/anaconda3/envs/read_clustering/lib/python3.7/site-packages/seaborn/matrix.py:649: UserWarning: Clustering large matrix with scipy. Installing `fastcluster` may give better performance.\n",
      "  warnings.warn(msg)\n"
     ]
    },
    {
     "ename": "ValueError",
     "evalue": "The condensed distance matrix must contain only finite values.",
     "output_type": "error",
     "traceback": [
      "\u001b[0;31m---------------------------------------------------------------------------\u001b[0m",
      "\u001b[0;31mValueError\u001b[0m                                Traceback (most recent call last)",
      "\u001b[0;32m<ipython-input-19-5e01cc48d104>\u001b[0m in \u001b[0;36m<module>\u001b[0;34m\u001b[0m\n\u001b[1;32m     16\u001b[0m                           \u001b[0mcol_cluster\u001b[0m\u001b[0;34m=\u001b[0m\u001b[0;32mFalse\u001b[0m\u001b[0;34m,\u001b[0m\u001b[0;34m\u001b[0m\u001b[0;34m\u001b[0m\u001b[0m\n\u001b[1;32m     17\u001b[0m                           \u001b[0mrow_cluster\u001b[0m\u001b[0;34m=\u001b[0m\u001b[0;32mTrue\u001b[0m\u001b[0;34m,\u001b[0m\u001b[0;34m\u001b[0m\u001b[0;34m\u001b[0m\u001b[0m\n\u001b[0;32m---> 18\u001b[0;31m                            method=method)\n\u001b[0m",
      "\u001b[0;32m~/CLionProjects/read_clustering/src/read_clustering/variant_call.py\u001b[0m in \u001b[0;36mplot_heatmap_dendrogram\u001b[0;34m(self, contig, positions, n, col_cluster, pseudou, twoprimeo, figure_path, method, metric, row_cluster, pseduo_u_pos, twoprimeo_pos)\u001b[0m\n\u001b[1;32m    874\u001b[0m         g = sns.clustermap(data, method=method, metric=metric, row_colors=row_colors, col_cluster=col_cluster,\n\u001b[1;32m    875\u001b[0m                            \u001b[0mrow_cluster\u001b[0m\u001b[0;34m=\u001b[0m\u001b[0mrow_cluster\u001b[0m\u001b[0;34m,\u001b[0m\u001b[0;34m\u001b[0m\u001b[0;34m\u001b[0m\u001b[0m\n\u001b[0;32m--> 876\u001b[0;31m                            yticklabels=False, xticklabels=True, cmap=\"OrRd\", figsize=(20, 20))\n\u001b[0m\u001b[1;32m    877\u001b[0m         \u001b[0max\u001b[0m \u001b[0;34m=\u001b[0m \u001b[0mg\u001b[0m\u001b[0;34m.\u001b[0m\u001b[0max_heatmap\u001b[0m\u001b[0;34m\u001b[0m\u001b[0;34m\u001b[0m\u001b[0m\n\u001b[1;32m    878\u001b[0m \u001b[0;34m\u001b[0m\u001b[0m\n",
      "\u001b[0;32m~/anaconda3/envs/read_clustering/lib/python3.7/site-packages/seaborn/matrix.py\u001b[0m in \u001b[0;36mclustermap\u001b[0;34m(data, pivot_kws, method, metric, z_score, standard_scale, figsize, cbar_kws, row_cluster, col_cluster, row_linkage, col_linkage, row_colors, col_colors, mask, dendrogram_ratio, colors_ratio, cbar_pos, tree_kws, **kwargs)\u001b[0m\n\u001b[1;32m   1389\u001b[0m                         \u001b[0mrow_cluster\u001b[0m\u001b[0;34m=\u001b[0m\u001b[0mrow_cluster\u001b[0m\u001b[0;34m,\u001b[0m \u001b[0mcol_cluster\u001b[0m\u001b[0;34m=\u001b[0m\u001b[0mcol_cluster\u001b[0m\u001b[0;34m,\u001b[0m\u001b[0;34m\u001b[0m\u001b[0;34m\u001b[0m\u001b[0m\n\u001b[1;32m   1390\u001b[0m                         \u001b[0mrow_linkage\u001b[0m\u001b[0;34m=\u001b[0m\u001b[0mrow_linkage\u001b[0m\u001b[0;34m,\u001b[0m \u001b[0mcol_linkage\u001b[0m\u001b[0;34m=\u001b[0m\u001b[0mcol_linkage\u001b[0m\u001b[0;34m,\u001b[0m\u001b[0;34m\u001b[0m\u001b[0;34m\u001b[0m\u001b[0m\n\u001b[0;32m-> 1391\u001b[0;31m                         tree_kws=tree_kws, **kwargs)\n\u001b[0m",
      "\u001b[0;32m~/anaconda3/envs/read_clustering/lib/python3.7/site-packages/seaborn/matrix.py\u001b[0m in \u001b[0;36mplot\u001b[0;34m(self, metric, method, colorbar_kws, row_cluster, col_cluster, row_linkage, col_linkage, tree_kws, **kws)\u001b[0m\n\u001b[1;32m   1206\u001b[0m         self.plot_dendrograms(row_cluster, col_cluster, metric, method,\n\u001b[1;32m   1207\u001b[0m                               \u001b[0mrow_linkage\u001b[0m\u001b[0;34m=\u001b[0m\u001b[0mrow_linkage\u001b[0m\u001b[0;34m,\u001b[0m \u001b[0mcol_linkage\u001b[0m\u001b[0;34m=\u001b[0m\u001b[0mcol_linkage\u001b[0m\u001b[0;34m,\u001b[0m\u001b[0;34m\u001b[0m\u001b[0;34m\u001b[0m\u001b[0m\n\u001b[0;32m-> 1208\u001b[0;31m                               tree_kws=tree_kws)\n\u001b[0m\u001b[1;32m   1209\u001b[0m         \u001b[0;32mtry\u001b[0m\u001b[0;34m:\u001b[0m\u001b[0;34m\u001b[0m\u001b[0;34m\u001b[0m\u001b[0m\n\u001b[1;32m   1210\u001b[0m             \u001b[0mxind\u001b[0m \u001b[0;34m=\u001b[0m \u001b[0mself\u001b[0m\u001b[0;34m.\u001b[0m\u001b[0mdendrogram_col\u001b[0m\u001b[0;34m.\u001b[0m\u001b[0mreordered_ind\u001b[0m\u001b[0;34m\u001b[0m\u001b[0;34m\u001b[0m\u001b[0m\n",
      "\u001b[0;32m~/anaconda3/envs/read_clustering/lib/python3.7/site-packages/seaborn/matrix.py\u001b[0m in \u001b[0;36mplot_dendrograms\u001b[0;34m(self, row_cluster, col_cluster, metric, method, row_linkage, col_linkage, tree_kws)\u001b[0m\n\u001b[1;32m   1052\u001b[0m                 \u001b[0mself\u001b[0m\u001b[0;34m.\u001b[0m\u001b[0mdata2d\u001b[0m\u001b[0;34m,\u001b[0m \u001b[0mmetric\u001b[0m\u001b[0;34m=\u001b[0m\u001b[0mmetric\u001b[0m\u001b[0;34m,\u001b[0m \u001b[0mmethod\u001b[0m\u001b[0;34m=\u001b[0m\u001b[0mmethod\u001b[0m\u001b[0;34m,\u001b[0m \u001b[0mlabel\u001b[0m\u001b[0;34m=\u001b[0m\u001b[0;32mFalse\u001b[0m\u001b[0;34m,\u001b[0m \u001b[0maxis\u001b[0m\u001b[0;34m=\u001b[0m\u001b[0;36m0\u001b[0m\u001b[0;34m,\u001b[0m\u001b[0;34m\u001b[0m\u001b[0;34m\u001b[0m\u001b[0m\n\u001b[1;32m   1053\u001b[0m                 \u001b[0max\u001b[0m\u001b[0;34m=\u001b[0m\u001b[0mself\u001b[0m\u001b[0;34m.\u001b[0m\u001b[0max_row_dendrogram\u001b[0m\u001b[0;34m,\u001b[0m \u001b[0mrotate\u001b[0m\u001b[0;34m=\u001b[0m\u001b[0;32mTrue\u001b[0m\u001b[0;34m,\u001b[0m \u001b[0mlinkage\u001b[0m\u001b[0;34m=\u001b[0m\u001b[0mrow_linkage\u001b[0m\u001b[0;34m,\u001b[0m\u001b[0;34m\u001b[0m\u001b[0;34m\u001b[0m\u001b[0m\n\u001b[0;32m-> 1054\u001b[0;31m                 \u001b[0mtree_kws\u001b[0m\u001b[0;34m=\u001b[0m\u001b[0mtree_kws\u001b[0m\u001b[0;34m\u001b[0m\u001b[0;34m\u001b[0m\u001b[0m\n\u001b[0m\u001b[1;32m   1055\u001b[0m             )\n\u001b[1;32m   1056\u001b[0m         \u001b[0;32melse\u001b[0m\u001b[0;34m:\u001b[0m\u001b[0;34m\u001b[0m\u001b[0;34m\u001b[0m\u001b[0m\n",
      "\u001b[0;32m~/anaconda3/envs/read_clustering/lib/python3.7/site-packages/seaborn/matrix.py\u001b[0m in \u001b[0;36mdendrogram\u001b[0;34m(data, linkage, axis, label, metric, method, rotate, tree_kws, ax)\u001b[0m\n\u001b[1;32m    770\u001b[0m     plotter = _DendrogramPlotter(data, linkage=linkage, axis=axis,\n\u001b[1;32m    771\u001b[0m                                  \u001b[0mmetric\u001b[0m\u001b[0;34m=\u001b[0m\u001b[0mmetric\u001b[0m\u001b[0;34m,\u001b[0m \u001b[0mmethod\u001b[0m\u001b[0;34m=\u001b[0m\u001b[0mmethod\u001b[0m\u001b[0;34m,\u001b[0m\u001b[0;34m\u001b[0m\u001b[0;34m\u001b[0m\u001b[0m\n\u001b[0;32m--> 772\u001b[0;31m                                  label=label, rotate=rotate)\n\u001b[0m\u001b[1;32m    773\u001b[0m     \u001b[0;32mif\u001b[0m \u001b[0max\u001b[0m \u001b[0;32mis\u001b[0m \u001b[0;32mNone\u001b[0m\u001b[0;34m:\u001b[0m\u001b[0;34m\u001b[0m\u001b[0;34m\u001b[0m\u001b[0m\n\u001b[1;32m    774\u001b[0m         \u001b[0max\u001b[0m \u001b[0;34m=\u001b[0m \u001b[0mplt\u001b[0m\u001b[0;34m.\u001b[0m\u001b[0mgca\u001b[0m\u001b[0;34m(\u001b[0m\u001b[0;34m)\u001b[0m\u001b[0;34m\u001b[0m\u001b[0;34m\u001b[0m\u001b[0m\n",
      "\u001b[0;32m~/anaconda3/envs/read_clustering/lib/python3.7/site-packages/seaborn/matrix.py\u001b[0m in \u001b[0;36m__init__\u001b[0;34m(self, data, linkage, metric, method, axis, label, rotate)\u001b[0m\n\u001b[1;32m    582\u001b[0m \u001b[0;34m\u001b[0m\u001b[0m\n\u001b[1;32m    583\u001b[0m         \u001b[0;32mif\u001b[0m \u001b[0mlinkage\u001b[0m \u001b[0;32mis\u001b[0m \u001b[0;32mNone\u001b[0m\u001b[0;34m:\u001b[0m\u001b[0;34m\u001b[0m\u001b[0;34m\u001b[0m\u001b[0m\n\u001b[0;32m--> 584\u001b[0;31m             \u001b[0mself\u001b[0m\u001b[0;34m.\u001b[0m\u001b[0mlinkage\u001b[0m \u001b[0;34m=\u001b[0m \u001b[0mself\u001b[0m\u001b[0;34m.\u001b[0m\u001b[0mcalculated_linkage\u001b[0m\u001b[0;34m\u001b[0m\u001b[0;34m\u001b[0m\u001b[0m\n\u001b[0m\u001b[1;32m    585\u001b[0m         \u001b[0;32melse\u001b[0m\u001b[0;34m:\u001b[0m\u001b[0;34m\u001b[0m\u001b[0;34m\u001b[0m\u001b[0m\n\u001b[1;32m    586\u001b[0m             \u001b[0mself\u001b[0m\u001b[0;34m.\u001b[0m\u001b[0mlinkage\u001b[0m \u001b[0;34m=\u001b[0m \u001b[0mlinkage\u001b[0m\u001b[0;34m\u001b[0m\u001b[0;34m\u001b[0m\u001b[0m\n",
      "\u001b[0;32m~/anaconda3/envs/read_clustering/lib/python3.7/site-packages/seaborn/matrix.py\u001b[0m in \u001b[0;36mcalculated_linkage\u001b[0;34m(self)\u001b[0m\n\u001b[1;32m    649\u001b[0m                 \u001b[0mwarnings\u001b[0m\u001b[0;34m.\u001b[0m\u001b[0mwarn\u001b[0m\u001b[0;34m(\u001b[0m\u001b[0mmsg\u001b[0m\u001b[0;34m)\u001b[0m\u001b[0;34m\u001b[0m\u001b[0;34m\u001b[0m\u001b[0m\n\u001b[1;32m    650\u001b[0m \u001b[0;34m\u001b[0m\u001b[0m\n\u001b[0;32m--> 651\u001b[0;31m         \u001b[0;32mreturn\u001b[0m \u001b[0mself\u001b[0m\u001b[0;34m.\u001b[0m\u001b[0m_calculate_linkage_scipy\u001b[0m\u001b[0;34m(\u001b[0m\u001b[0;34m)\u001b[0m\u001b[0;34m\u001b[0m\u001b[0;34m\u001b[0m\u001b[0m\n\u001b[0m\u001b[1;32m    652\u001b[0m \u001b[0;34m\u001b[0m\u001b[0m\n\u001b[1;32m    653\u001b[0m     \u001b[0;32mdef\u001b[0m \u001b[0mcalculate_dendrogram\u001b[0m\u001b[0;34m(\u001b[0m\u001b[0mself\u001b[0m\u001b[0;34m)\u001b[0m\u001b[0;34m:\u001b[0m\u001b[0;34m\u001b[0m\u001b[0;34m\u001b[0m\u001b[0m\n",
      "\u001b[0;32m~/anaconda3/envs/read_clustering/lib/python3.7/site-packages/seaborn/matrix.py\u001b[0m in \u001b[0;36m_calculate_linkage_scipy\u001b[0;34m(self)\u001b[0m\n\u001b[1;32m    618\u001b[0m     \u001b[0;32mdef\u001b[0m \u001b[0m_calculate_linkage_scipy\u001b[0m\u001b[0;34m(\u001b[0m\u001b[0mself\u001b[0m\u001b[0;34m)\u001b[0m\u001b[0;34m:\u001b[0m\u001b[0;34m\u001b[0m\u001b[0;34m\u001b[0m\u001b[0m\n\u001b[1;32m    619\u001b[0m         linkage = hierarchy.linkage(self.array, method=self.method,\n\u001b[0;32m--> 620\u001b[0;31m                                     metric=self.metric)\n\u001b[0m\u001b[1;32m    621\u001b[0m         \u001b[0;32mreturn\u001b[0m \u001b[0mlinkage\u001b[0m\u001b[0;34m\u001b[0m\u001b[0;34m\u001b[0m\u001b[0m\n\u001b[1;32m    622\u001b[0m \u001b[0;34m\u001b[0m\u001b[0m\n",
      "\u001b[0;32m~/anaconda3/envs/read_clustering/lib/python3.7/site-packages/scipy/cluster/hierarchy.py\u001b[0m in \u001b[0;36mlinkage\u001b[0;34m(y, method, metric, optimal_ordering)\u001b[0m\n\u001b[1;32m   1055\u001b[0m \u001b[0;34m\u001b[0m\u001b[0m\n\u001b[1;32m   1056\u001b[0m     \u001b[0;32mif\u001b[0m \u001b[0;32mnot\u001b[0m \u001b[0mnp\u001b[0m\u001b[0;34m.\u001b[0m\u001b[0mall\u001b[0m\u001b[0;34m(\u001b[0m\u001b[0mnp\u001b[0m\u001b[0;34m.\u001b[0m\u001b[0misfinite\u001b[0m\u001b[0;34m(\u001b[0m\u001b[0my\u001b[0m\u001b[0;34m)\u001b[0m\u001b[0;34m)\u001b[0m\u001b[0;34m:\u001b[0m\u001b[0;34m\u001b[0m\u001b[0;34m\u001b[0m\u001b[0m\n\u001b[0;32m-> 1057\u001b[0;31m         raise ValueError(\"The condensed distance matrix must contain only \"\n\u001b[0m\u001b[1;32m   1058\u001b[0m                          \"finite values.\")\n\u001b[1;32m   1059\u001b[0m \u001b[0;34m\u001b[0m\u001b[0m\n",
      "\u001b[0;31mValueError\u001b[0m: The condensed distance matrix must contain only finite values."
     ]
    },
    {
     "data": {
      "image/png": "[encoded data removed]",
      "text/plain": [
       "<Figure size 1440x1440 with 5 Axes>"
      ]
     },
     "metadata": {},
     "output_type": "display_data"
    }
   ],
   "source": [
    "n=-1\n",
    "figure_path = None\n",
    "method = 'average'\n",
    "# method = \"centroid\"\n",
    "# method = \"complete\"\n",
    "# method = \"weighted\"\n",
    "# metric = \"braycurtis\"\n",
    "# metric = \"cityblock\"\n",
    "metric = 'euclidean'\n",
    "metric = 'correlation'\n",
    "\n",
    "# positions = [435, 758, 1289, 1414]\n",
    "positions = vc.get_contig_positions(contig)\n",
    "vc.plot_heatmap_dendrogram(contig, positions, n=n, figure_path=figure_path,\n",
    "                          metric=metric,\n",
    "                          col_cluster=False,\n",
    "                          row_cluster=True,\n",
    "                           method=method)\n"
   ]
  },
  {
   "cell_type": "code",
   "execution_count": 34,
   "metadata": {},
   "outputs": [],
   "source": [
    "cmap = \"OrRd\"\n",
    "cmap = \"cool\"\n",
    "cmap = \"hot\"\n",
    "cmap = \"Blues\"\n",
    "\n",
    "pseudou=\"ql\"\n",
    "twoprimeo=[\"na\", \"ob\", \"pc\", \"qd\"]\n",
    "norm = None\n",
    "stat = \"r2\"\n"
   ]
  },
  {
   "cell_type": "code",
   "execution_count": 35,
   "metadata": {},
   "outputs": [
    {
     "data": {
      "image/png": "[encoded data removed]",
      "text/plain": [
       "<Figure size 1152x1008 with 2 Axes>"
      ]
     },
     "metadata": {},
     "output_type": "display_data"
    }
   ],
   "source": [
    "contig = 'RDN18-1'\n",
    "ld_df = vc.plot_ld_heatmap(contig, vc.get_contig_positions(contig), stat=\"r2\", cmap=cmap, norm=norm)\n"
   ]
  },
  {
   "cell_type": "code",
   "execution_count": null,
   "metadata": {},
   "outputs": [],
   "source": []
  },
  {
   "cell_type": "code",
   "execution_count": 21,
   "metadata": {},
   "outputs": [],
   "source": [
    "simulation_path = \"/Users/andrewbailey/CLionProjects/read_clustering/data/simulation/test\"\n",
    "smp = SimulateModProbs(accuracy_csv)\n"
   ]
  },
  {
   "cell_type": "code",
   "execution_count": 22,
   "metadata": {},
   "outputs": [],
   "source": [
    "data_frames = []\n",
    "label_map = {}\n",
    "#             [1 for x in range(len(smp.acc_df))],\n",
    "\n",
    "mod_maps = [[0 if x in [] else 1 for x in range(len(smp.acc_df))],\n",
    "            [0 if x in [ 6] else 1 for x in range(len(smp.acc_df))],\n",
    "            [0 if x in [ 7] else 1 for x in range(len(smp.acc_df))],\n",
    "            [0 if x in [ 8] else 1 for x in range(len(smp.acc_df))]\n",
    "           ]\n",
    "names = [\n",
    "        \"test1\", \n",
    "        \"test2\",\n",
    "        \"test3\",\n",
    "        \"test4\"]\n",
    "counts = [\n",
    "         1000, \n",
    "         1000,\n",
    "         1000,\n",
    "         1000]\n",
    "for i, (mod_map, name, n) in enumerate(zip(mod_maps, names, counts)):\n",
    "    d0 = smp.get_simulated_data(mod_map, n=n)\n",
    "    d0[\"label\"] = name\n",
    "    label_map[name] = i\n",
    "    data_frames.append(d0)\n"
   ]
  },
  {
   "cell_type": "code",
   "execution_count": 23,
   "metadata": {},
   "outputs": [],
   "source": [
    "final_df = pd.concat(data_frames, ignore_index=True)\n",
    "labels_true = final_df[\"label\"].map(label_map)"
   ]
  },
  {
   "cell_type": "code",
   "execution_count": 24,
   "metadata": {},
   "outputs": [],
   "source": [
    "X = final_df[\"RDN18-1\"]"
   ]
  },
  {
   "cell_type": "code",
   "execution_count": 25,
   "metadata": {
    "scrolled": true
   },
   "outputs": [
    {
     "data": {
      "text/plain": [
       "{0, 1, 2, 3}"
      ]
     },
     "execution_count": 25,
     "metadata": {},
     "output_type": "execute_result"
    }
   ],
   "source": [
    "set(labels_true)"
   ]
  },
  {
   "cell_type": "code",
   "execution_count": 26,
   "metadata": {},
   "outputs": [
    {
     "ename": "KeyboardInterrupt",
     "evalue": "",
     "output_type": "error",
     "traceback": [
      "\u001b[0;31m---------------------------------------------------------------------------\u001b[0m",
      "\u001b[0;31mKeyboardInterrupt\u001b[0m                         Traceback (most recent call last)",
      "\u001b[0;32m<ipython-input-26-ceec164f20a6>\u001b[0m in \u001b[0;36m<module>\u001b[0;34m\u001b[0m\n\u001b[1;32m      1\u001b[0m \u001b[0mreducer\u001b[0m \u001b[0;34m=\u001b[0m \u001b[0mumap\u001b[0m\u001b[0;34m.\u001b[0m\u001b[0mUMAP\u001b[0m\u001b[0;34m(\u001b[0m\u001b[0;34m)\u001b[0m\u001b[0;34m\u001b[0m\u001b[0;34m\u001b[0m\u001b[0m\n\u001b[0;32m----> 2\u001b[0;31m \u001b[0mumap_results\u001b[0m \u001b[0;34m=\u001b[0m \u001b[0mreducer\u001b[0m\u001b[0;34m.\u001b[0m\u001b[0mfit_transform\u001b[0m\u001b[0;34m(\u001b[0m\u001b[0mX\u001b[0m\u001b[0;34m)\u001b[0m\u001b[0;34m\u001b[0m\u001b[0;34m\u001b[0m\u001b[0m\n\u001b[0m",
      "\u001b[0;32m~/anaconda3/envs/read_clustering/lib/python3.7/site-packages/umap/umap_.py\u001b[0m in \u001b[0;36mfit_transform\u001b[0;34m(self, X, y)\u001b[0m\n\u001b[1;32m   2633\u001b[0m             \u001b[0mLocal\u001b[0m \u001b[0mradii\u001b[0m \u001b[0mof\u001b[0m \u001b[0mdata\u001b[0m \u001b[0mpoints\u001b[0m \u001b[0;32min\u001b[0m \u001b[0mthe\u001b[0m \u001b[0membedding\u001b[0m \u001b[0;34m(\u001b[0m\u001b[0mlog\u001b[0m\u001b[0;34m-\u001b[0m\u001b[0mtransformed\u001b[0m\u001b[0;34m)\u001b[0m\u001b[0;34m.\u001b[0m\u001b[0;34m\u001b[0m\u001b[0;34m\u001b[0m\u001b[0m\n\u001b[1;32m   2634\u001b[0m         \"\"\"\n\u001b[0;32m-> 2635\u001b[0;31m         \u001b[0mself\u001b[0m\u001b[0;34m.\u001b[0m\u001b[0mfit\u001b[0m\u001b[0;34m(\u001b[0m\u001b[0mX\u001b[0m\u001b[0;34m,\u001b[0m \u001b[0my\u001b[0m\u001b[0;34m)\u001b[0m\u001b[0;34m\u001b[0m\u001b[0;34m\u001b[0m\u001b[0m\n\u001b[0m\u001b[1;32m   2636\u001b[0m         \u001b[0;32mif\u001b[0m \u001b[0mself\u001b[0m\u001b[0;34m.\u001b[0m\u001b[0mtransform_mode\u001b[0m \u001b[0;34m==\u001b[0m \u001b[0;34m\"embedding\"\u001b[0m\u001b[0;34m:\u001b[0m\u001b[0;34m\u001b[0m\u001b[0;34m\u001b[0m\u001b[0m\n\u001b[1;32m   2637\u001b[0m             \u001b[0;32mif\u001b[0m \u001b[0mself\u001b[0m\u001b[0;34m.\u001b[0m\u001b[0moutput_dens\u001b[0m\u001b[0;34m:\u001b[0m\u001b[0;34m\u001b[0m\u001b[0;34m\u001b[0m\u001b[0m\n",
      "\u001b[0;32m~/anaconda3/envs/read_clustering/lib/python3.7/site-packages/umap/umap_.py\u001b[0m in \u001b[0;36mfit\u001b[0;34m(self, X, y)\u001b[0m\n\u001b[1;32m   2302\u001b[0m                 \u001b[0;31m# sklearn pairwise_distances fails for callable metric on sparse data\u001b[0m\u001b[0;34m\u001b[0m\u001b[0;34m\u001b[0m\u001b[0;34m\u001b[0m\u001b[0m\n\u001b[1;32m   2303\u001b[0m                 \u001b[0m_m\u001b[0m \u001b[0;34m=\u001b[0m \u001b[0mself\u001b[0m\u001b[0;34m.\u001b[0m\u001b[0mmetric\u001b[0m \u001b[0;32mif\u001b[0m \u001b[0mself\u001b[0m\u001b[0;34m.\u001b[0m\u001b[0m_sparse_data\u001b[0m \u001b[0;32melse\u001b[0m \u001b[0mself\u001b[0m\u001b[0;34m.\u001b[0m\u001b[0m_input_distance_func\u001b[0m\u001b[0;34m\u001b[0m\u001b[0;34m\u001b[0m\u001b[0m\n\u001b[0;32m-> 2304\u001b[0;31m                 \u001b[0mdmat\u001b[0m \u001b[0;34m=\u001b[0m \u001b[0mpairwise_distances\u001b[0m\u001b[0;34m(\u001b[0m\u001b[0mX\u001b[0m\u001b[0;34m[\u001b[0m\u001b[0mindex\u001b[0m\u001b[0;34m]\u001b[0m\u001b[0;34m,\u001b[0m \u001b[0mmetric\u001b[0m\u001b[0;34m=\u001b[0m\u001b[0m_m\u001b[0m\u001b[0;34m,\u001b[0m \u001b[0;34m**\u001b[0m\u001b[0mself\u001b[0m\u001b[0;34m.\u001b[0m\u001b[0m_metric_kwds\u001b[0m\u001b[0;34m)\u001b[0m\u001b[0;34m\u001b[0m\u001b[0;34m\u001b[0m\u001b[0m\n\u001b[0m\u001b[1;32m   2305\u001b[0m             \u001b[0;32mexcept\u001b[0m \u001b[0;34m(\u001b[0m\u001b[0mValueError\u001b[0m\u001b[0;34m,\u001b[0m \u001b[0mTypeError\u001b[0m\u001b[0;34m)\u001b[0m \u001b[0;32mas\u001b[0m \u001b[0me\u001b[0m\u001b[0;34m:\u001b[0m\u001b[0;34m\u001b[0m\u001b[0;34m\u001b[0m\u001b[0m\n\u001b[1;32m   2306\u001b[0m                 \u001b[0;31m# metric is numba.jit'd or not supported by sklearn,\u001b[0m\u001b[0;34m\u001b[0m\u001b[0;34m\u001b[0m\u001b[0;34m\u001b[0m\u001b[0m\n",
      "\u001b[0;32m~/anaconda3/envs/read_clustering/lib/python3.7/site-packages/sklearn/utils/validation.py\u001b[0m in \u001b[0;36minner_f\u001b[0;34m(*args, **kwargs)\u001b[0m\n\u001b[1;32m     71\u001b[0m                           FutureWarning)\n\u001b[1;32m     72\u001b[0m         \u001b[0mkwargs\u001b[0m\u001b[0;34m.\u001b[0m\u001b[0mupdate\u001b[0m\u001b[0;34m(\u001b[0m\u001b[0;34m{\u001b[0m\u001b[0mk\u001b[0m\u001b[0;34m:\u001b[0m \u001b[0marg\u001b[0m \u001b[0;32mfor\u001b[0m \u001b[0mk\u001b[0m\u001b[0;34m,\u001b[0m \u001b[0marg\u001b[0m \u001b[0;32min\u001b[0m \u001b[0mzip\u001b[0m\u001b[0;34m(\u001b[0m\u001b[0msig\u001b[0m\u001b[0;34m.\u001b[0m\u001b[0mparameters\u001b[0m\u001b[0;34m,\u001b[0m \u001b[0margs\u001b[0m\u001b[0;34m)\u001b[0m\u001b[0;34m}\u001b[0m\u001b[0;34m)\u001b[0m\u001b[0;34m\u001b[0m\u001b[0;34m\u001b[0m\u001b[0m\n\u001b[0;32m---> 73\u001b[0;31m         \u001b[0;32mreturn\u001b[0m \u001b[0mf\u001b[0m\u001b[0;34m(\u001b[0m\u001b[0;34m**\u001b[0m\u001b[0mkwargs\u001b[0m\u001b[0;34m)\u001b[0m\u001b[0;34m\u001b[0m\u001b[0;34m\u001b[0m\u001b[0m\n\u001b[0m\u001b[1;32m     74\u001b[0m     \u001b[0;32mreturn\u001b[0m \u001b[0minner_f\u001b[0m\u001b[0;34m\u001b[0m\u001b[0;34m\u001b[0m\u001b[0m\n\u001b[1;32m     75\u001b[0m \u001b[0;34m\u001b[0m\u001b[0m\n",
      "\u001b[0;32m~/anaconda3/envs/read_clustering/lib/python3.7/site-packages/sklearn/metrics/pairwise.py\u001b[0m in \u001b[0;36mpairwise_distances\u001b[0;34m(X, Y, metric, n_jobs, force_all_finite, **kwds)\u001b[0m\n\u001b[1;32m   1773\u001b[0m         \u001b[0mfunc\u001b[0m \u001b[0;34m=\u001b[0m \u001b[0mpartial\u001b[0m\u001b[0;34m(\u001b[0m\u001b[0mdistance\u001b[0m\u001b[0;34m.\u001b[0m\u001b[0mcdist\u001b[0m\u001b[0;34m,\u001b[0m \u001b[0mmetric\u001b[0m\u001b[0;34m=\u001b[0m\u001b[0mmetric\u001b[0m\u001b[0;34m,\u001b[0m \u001b[0;34m**\u001b[0m\u001b[0mkwds\u001b[0m\u001b[0;34m)\u001b[0m\u001b[0;34m\u001b[0m\u001b[0;34m\u001b[0m\u001b[0m\n\u001b[1;32m   1774\u001b[0m \u001b[0;34m\u001b[0m\u001b[0m\n\u001b[0;32m-> 1775\u001b[0;31m     \u001b[0;32mreturn\u001b[0m \u001b[0m_parallel_pairwise\u001b[0m\u001b[0;34m(\u001b[0m\u001b[0mX\u001b[0m\u001b[0;34m,\u001b[0m \u001b[0mY\u001b[0m\u001b[0;34m,\u001b[0m \u001b[0mfunc\u001b[0m\u001b[0;34m,\u001b[0m \u001b[0mn_jobs\u001b[0m\u001b[0;34m,\u001b[0m \u001b[0;34m**\u001b[0m\u001b[0mkwds\u001b[0m\u001b[0;34m)\u001b[0m\u001b[0;34m\u001b[0m\u001b[0;34m\u001b[0m\u001b[0m\n\u001b[0m\u001b[1;32m   1776\u001b[0m \u001b[0;34m\u001b[0m\u001b[0m\n\u001b[1;32m   1777\u001b[0m \u001b[0;34m\u001b[0m\u001b[0m\n",
      "\u001b[0;32m~/anaconda3/envs/read_clustering/lib/python3.7/site-packages/sklearn/metrics/pairwise.py\u001b[0m in \u001b[0;36m_parallel_pairwise\u001b[0;34m(X, Y, func, n_jobs, **kwds)\u001b[0m\n\u001b[1;32m   1357\u001b[0m \u001b[0;34m\u001b[0m\u001b[0m\n\u001b[1;32m   1358\u001b[0m     \u001b[0;32mif\u001b[0m \u001b[0meffective_n_jobs\u001b[0m\u001b[0;34m(\u001b[0m\u001b[0mn_jobs\u001b[0m\u001b[0;34m)\u001b[0m \u001b[0;34m==\u001b[0m \u001b[0;36m1\u001b[0m\u001b[0;34m:\u001b[0m\u001b[0;34m\u001b[0m\u001b[0;34m\u001b[0m\u001b[0m\n\u001b[0;32m-> 1359\u001b[0;31m         \u001b[0;32mreturn\u001b[0m \u001b[0mfunc\u001b[0m\u001b[0;34m(\u001b[0m\u001b[0mX\u001b[0m\u001b[0;34m,\u001b[0m \u001b[0mY\u001b[0m\u001b[0;34m,\u001b[0m \u001b[0;34m**\u001b[0m\u001b[0mkwds\u001b[0m\u001b[0;34m)\u001b[0m\u001b[0;34m\u001b[0m\u001b[0;34m\u001b[0m\u001b[0m\n\u001b[0m\u001b[1;32m   1360\u001b[0m \u001b[0;34m\u001b[0m\u001b[0m\n\u001b[1;32m   1361\u001b[0m     \u001b[0;31m# enforce a threading backend to prevent data communication overhead\u001b[0m\u001b[0;34m\u001b[0m\u001b[0;34m\u001b[0m\u001b[0;34m\u001b[0m\u001b[0m\n",
      "\u001b[0;32m~/anaconda3/envs/read_clustering/lib/python3.7/site-packages/sklearn/metrics/pairwise.py\u001b[0m in \u001b[0;36m_pairwise_callable\u001b[0;34m(X, Y, metric, force_all_finite, **kwds)\u001b[0m\n\u001b[1;32m   1384\u001b[0m         \u001b[0miterator\u001b[0m \u001b[0;34m=\u001b[0m \u001b[0mitertools\u001b[0m\u001b[0;34m.\u001b[0m\u001b[0mcombinations\u001b[0m\u001b[0;34m(\u001b[0m\u001b[0mrange\u001b[0m\u001b[0;34m(\u001b[0m\u001b[0mX\u001b[0m\u001b[0;34m.\u001b[0m\u001b[0mshape\u001b[0m\u001b[0;34m[\u001b[0m\u001b[0;36m0\u001b[0m\u001b[0;34m]\u001b[0m\u001b[0;34m)\u001b[0m\u001b[0;34m,\u001b[0m \u001b[0;36m2\u001b[0m\u001b[0;34m)\u001b[0m\u001b[0;34m\u001b[0m\u001b[0;34m\u001b[0m\u001b[0m\n\u001b[1;32m   1385\u001b[0m         \u001b[0;32mfor\u001b[0m \u001b[0mi\u001b[0m\u001b[0;34m,\u001b[0m \u001b[0mj\u001b[0m \u001b[0;32min\u001b[0m \u001b[0miterator\u001b[0m\u001b[0;34m:\u001b[0m\u001b[0;34m\u001b[0m\u001b[0;34m\u001b[0m\u001b[0m\n\u001b[0;32m-> 1386\u001b[0;31m             \u001b[0mout\u001b[0m\u001b[0;34m[\u001b[0m\u001b[0mi\u001b[0m\u001b[0;34m,\u001b[0m \u001b[0mj\u001b[0m\u001b[0;34m]\u001b[0m \u001b[0;34m=\u001b[0m \u001b[0mmetric\u001b[0m\u001b[0;34m(\u001b[0m\u001b[0mX\u001b[0m\u001b[0;34m[\u001b[0m\u001b[0mi\u001b[0m\u001b[0;34m]\u001b[0m\u001b[0;34m,\u001b[0m \u001b[0mY\u001b[0m\u001b[0;34m[\u001b[0m\u001b[0mj\u001b[0m\u001b[0;34m]\u001b[0m\u001b[0;34m,\u001b[0m \u001b[0;34m**\u001b[0m\u001b[0mkwds\u001b[0m\u001b[0;34m)\u001b[0m\u001b[0;34m\u001b[0m\u001b[0;34m\u001b[0m\u001b[0m\n\u001b[0m\u001b[1;32m   1387\u001b[0m \u001b[0;34m\u001b[0m\u001b[0m\n\u001b[1;32m   1388\u001b[0m         \u001b[0;31m# Make symmetric\u001b[0m\u001b[0;34m\u001b[0m\u001b[0;34m\u001b[0m\u001b[0;34m\u001b[0m\u001b[0m\n",
      "\u001b[0;31mKeyboardInterrupt\u001b[0m: "
     ]
    }
   ],
   "source": [
    "reducer = umap.UMAP()\n",
    "umap_results = reducer.fit_transform(X)\n"
   ]
  },
  {
   "cell_type": "code",
   "execution_count": null,
   "metadata": {},
   "outputs": [],
   "source": [
    "# X = umap_results"
   ]
  },
  {
   "cell_type": "code",
   "execution_count": null,
   "metadata": {},
   "outputs": [],
   "source": [
    "# #############################################################################\n",
    "# # Compute DBSCAN\n",
    "# db = DBSCAN(eps=3, min_samples=10).fit(X)\n",
    "# core_samples_mask = np.zeros_like(db.labels_, dtype=bool)\n",
    "# core_samples_mask[db.core_sample_indices_] = True\n",
    "# labels = db.labels_\n",
    "# n_clusters_ = len(set(labels)) - (1 if -1 in labels else 0)\n",
    "# n_noise_ = list(labels).count(-1)\n"
   ]
  },
  {
   "cell_type": "code",
   "execution_count": null,
   "metadata": {},
   "outputs": [],
   "source": [
    "# kmeans = KMeans(n_clusters=2, random_state=0)\n",
    "# kmeans.fit(X)\n",
    "# labels = db.labels_\n",
    "# n_clusters_ = len(set(labels)) - (1 if -1 in labels else 0)\n",
    "# n_noise_ = list(labels).count(-1)\n",
    "# n_corepoints = len(X) - n_noise_\n"
   ]
  },
  {
   "cell_type": "code",
   "execution_count": null,
   "metadata": {},
   "outputs": [],
   "source": [
    "# #############################################################################\n",
    "# Compute HDBSCAN\n",
    "db = hdbscan.HDBSCAN(min_cluster_size=100, min_samples=1, metric='euclidean')\n",
    "db.fit(X)\n",
    "labels = db.labels_\n",
    "n_clusters_ = len(set(labels)) - (1 if -1 in labels else 0)\n",
    "n_noise_ = list(labels).count(-1)\n",
    "n_corepoints = len(X) - n_noise_\n",
    "# hdbscan.dist_metrics.METRIC_MAPPING\n"
   ]
  },
  {
   "cell_type": "code",
   "execution_count": null,
   "metadata": {},
   "outputs": [],
   "source": [
    "print(set(labels))"
   ]
  },
  {
   "cell_type": "code",
   "execution_count": null,
   "metadata": {},
   "outputs": [],
   "source": [
    "labels"
   ]
  },
  {
   "cell_type": "code",
   "execution_count": null,
   "metadata": {},
   "outputs": [],
   "source": [
    "print('Estimated number of clusters: %d' % n_clusters_)\n",
    "print('Estimated number of noise points: %d' % n_noise_)\n",
    "print('Estimated number of clustered points: %d' % n_corepoints)\n",
    "\n",
    "print(\"Homogeneity: %0.3f\" % metrics.homogeneity_score(labels_true, labels))\n",
    "print(\"Completeness: %0.3f\" % metrics.completeness_score(labels_true, labels))\n",
    "print(\"V-measure: %0.3f\" % metrics.v_measure_score(labels_true, labels))\n",
    "print(\"Adjusted Rand Index: %0.3f\"\n",
    "      % metrics.adjusted_rand_score(labels_true, labels))\n",
    "print(\"Adjusted Mutual Information: %0.3f\"\n",
    "      % metrics.adjusted_mutual_info_score(labels_true, labels))\n",
    "print(\"Silhouette Coefficient: %0.3f\"\n",
    "      % metrics.silhouette_score(X, labels))\n"
   ]
  },
  {
   "cell_type": "code",
   "execution_count": null,
   "metadata": {},
   "outputs": [],
   "source": [
    "%matplotlib notebook\n",
    "# Plot result\n",
    "plt.figure(figsize=(10,10))\n",
    "# Black removed and is used for noise instead.\n",
    "unique_labels = set(labels)\n",
    "colors = [plt.cm.Spectral(each)\n",
    "          for each in np.linspace(0, 1, len(unique_labels))]\n",
    "\n",
    "for k, col in zip(unique_labels, colors):\n",
    "    class_member_mask = (labels == k)\n",
    "    xy = umap_results[class_member_mask]\n",
    "    if k == -1:\n",
    "        # Black used for noise.\n",
    "        col = [0, 0, 0, 1]\n",
    "        plt.plot(xy[:, 0], xy[:, 1], 'o', markerfacecolor=tuple(col), markersize=3, alpha=0.25)\n",
    "\n",
    "    else:\n",
    "        plt.plot(xy[:, 0], xy[:, 1], 'o', markerfacecolor=tuple(col), markersize=3, alpha=0.9)\n",
    "\n",
    "# colors2 = [plt.cm.Set1(each)\n",
    "#       for each in np.linspace(0, 1, len(set(labels_true)))]\n",
    "# unique_labels = set(labels_true)\n",
    "# for k, col in zip(unique_labels, colors):\n",
    "#     print(col)\n",
    "\n",
    "#     true_label_mask = (labels_true == k)\n",
    "#     xy = umap_results[true_label_mask]\n",
    "#     plt.plot(xy[:, 0], xy[:, 1], 'o', markerfacecolor=tuple(col2), markersize=5, alpha=1)\n",
    "    \n",
    "\n",
    "plt.title('Estimated number of clusters: %d' % n_clusters_)\n",
    "plt.show()\n",
    "\n"
   ]
  },
  {
   "cell_type": "code",
   "execution_count": null,
   "metadata": {
    "scrolled": true
   },
   "outputs": [],
   "source": [
    "db.condensed_tree_.plot(select_clusters=True,\n",
    "                               selection_palette=sns.color_palette('deep', 8))\n"
   ]
  },
  {
   "cell_type": "markdown",
   "metadata": {},
   "source": [
    "Given an expectation of accuracy given certain breakdowns of reads, can we determine the true modification profiles of certain reads?\n",
    "\n",
    "The clustering methods work if there are clear differences between the subclasses but clustering has no prior. We actually have information which will allow us to help determine subclusters of reads in other experiments.\n",
    "\n"
   ]
  },
  {
   "cell_type": "code",
   "execution_count": 46,
   "metadata": {},
   "outputs": [],
   "source": [
    "smp = SimulateModProbs(accuracy_csv)\n"
   ]
  },
  {
   "cell_type": "code",
   "execution_count": 332,
   "metadata": {},
   "outputs": [],
   "source": [
    "data_frames = []\n",
    "label_map = {}\n",
    "#             [1 for x in range(len(smp.acc_df))],\n",
    "\n",
    "mod_maps = [[0 if x in [] else 1 for x in range(len(smp.acc_df))],\n",
    "            [0 if x in [] else 1 for x in range(len(smp.acc_df))],\n",
    "            [1 if x in [] else 0 for x in range(len(smp.acc_df))],\n",
    "            [0 if x in [] else 1 for x in range(len(smp.acc_df))]\n",
    "           ]\n",
    "names = [\n",
    "        \"test1\", \n",
    "        \"test2\",\n",
    "        \"test3\",\n",
    "        \"test4\"]\n",
    "counts = [\n",
    "         1000, \n",
    "         1000,\n",
    "         100,\n",
    "         1000]\n",
    "\n",
    "# mod_maps = [[0 if x in [] else 1 for x in range(len(smp.acc_df))],\n",
    "#             [0 if x in [ 6] else 1 for x in range(len(smp.acc_df))],\n",
    "#             [0 if x in [ 7] else 1 for x in range(len(smp.acc_df))],\n",
    "#             [0 if x in [ 8] else 1 for x in range(len(smp.acc_df))],\n",
    "#             [0 if x in [ 8, 9] else 1 for x in range(len(smp.acc_df))]\n",
    "#            ]\n",
    "# names = [\n",
    "#         \"test1\", \n",
    "#         \"test2\",\n",
    "#         \"test3\",\n",
    "#         \"test4\",\n",
    "#         \"test5\"]\n",
    "# counts = [\n",
    "#          500, \n",
    "#          500,\n",
    "#          500,\n",
    "#          500,\n",
    "#          500]\n",
    "\n",
    "out_paths = []\n",
    "for i, (mod_map, name, n) in enumerate(zip(mod_maps, names, counts)):\n",
    "    d0 = smp.get_simulated_data(mod_map, n=n)\n",
    "    df1 = smp.generate_variant_calling_output(mod_map2, n=n)\n",
    "    out_path = os.path.join(simulation_path, f\"test{i}.csv\")\n",
    "    df1.to_csv(out_path, index=False)\n",
    "    out_paths.append(out_path)\n",
    "    d0[\"label\"] = name\n",
    "    label_map[name] = i\n",
    "    data_frames.append(d0)\n"
   ]
  },
  {
   "cell_type": "code",
   "execution_count": 333,
   "metadata": {},
   "outputs": [],
   "source": [
    "final_df = pd.concat(data_frames, ignore_index=True)\n",
    "labels_true = final_df[\"label\"].map(label_map)\n",
    "contig = \"RDN18-1\"\n"
   ]
  },
  {
   "cell_type": "code",
   "execution_count": 334,
   "metadata": {},
   "outputs": [],
   "source": [
    "X = final_df[contig]\n",
    "contig_acc = smp.accuracy_data[smp.accuracy_data[\"contig\"] == contig]"
   ]
  },
  {
   "cell_type": "code",
   "execution_count": 335,
   "metadata": {},
   "outputs": [
    {
     "data": {
      "text/plain": [
       "0    0.9664\n",
       "Name: accuracy, dtype: float64"
      ]
     },
     "execution_count": 335,
     "metadata": {},
     "output_type": "execute_result"
    }
   ],
   "source": [
    "contig_acc[contig_acc[\"reference_index\"] == 27][\"accuracy\"]"
   ]
  },
  {
   "cell_type": "code",
   "execution_count": 336,
   "metadata": {},
   "outputs": [],
   "source": [
    "total_prob = 1\n",
    "for i, column in enumerate(X.columns):\n",
    "    total_prob *= contig_acc[contig_acc[\"reference_index\"] == column[0]][\"recall\"].iloc[0]\n",
    "    if i == 0:\n",
    "        a = X[column]\n",
    "        continue\n",
    "    a = a & X[column]\n",
    "    "
   ]
  },
  {
   "cell_type": "code",
   "execution_count": 337,
   "metadata": {},
   "outputs": [
    {
     "data": {
      "text/plain": [
       "12.945083828891573"
      ]
     },
     "execution_count": 337,
     "metadata": {},
     "output_type": "execute_result"
    }
   ],
   "source": [
    "total_prob * len(X)"
   ]
  },
  {
   "cell_type": "code",
   "execution_count": 338,
   "metadata": {},
   "outputs": [
    {
     "data": {
      "image/png": "[encoded data removed]",
      "text/plain": [
       "<Figure size 576x396 with 1 Axes>"
      ]
     },
     "metadata": {},
     "output_type": "display_data"
    }
   ],
   "source": [
    "diff = contig_acc[\"recall\"] - np.mean(X).values\n",
    "diff.sort_values(ascending=False).hist()\n",
    "hits = diff[np.abs(diff) > .05]\n",
    "diff_mod_pos = hits.index.values"
   ]
  },
  {
   "cell_type": "code",
   "execution_count": 339,
   "metadata": {},
   "outputs": [
    {
     "data": {
      "text/plain": [
       "array([], dtype=int64)"
      ]
     },
     "execution_count": 339,
     "metadata": {},
     "output_type": "execute_result"
    }
   ],
   "source": [
    "diff_mod_pos"
   ]
  },
  {
   "cell_type": "code",
   "execution_count": 340,
   "metadata": {},
   "outputs": [],
   "source": [
    "\n",
    "possible_groups = set()\n",
    "for x in diff_mod_pos:\n",
    "    print(f\"first order: {x}\")\n",
    "    \n",
    "    diff = contig_acc[\"recall\"] - np.mean(X[X.iloc[:, x] < 0.5]).values\n",
    "    hits = diff[np.abs(diff) > .20]\n",
    "    print(f\"hits: {hits.index.values}\")\n",
    "    possible_groups.add(frozenset(hits.index.values))\n",
    "#     \n",
    "    diff = contig_acc[\"recall\"] - np.mean(X[X.iloc[:, x] >= 0.5]).values\n",
    "    hits = diff[np.abs(diff) > .20]\n",
    "    for x in hits.index.values:\n",
    "        if x not in diff_mod_pos: \n",
    "            print(f\"oppo hits: {x}\")\n"
   ]
  },
  {
   "cell_type": "code",
   "execution_count": 341,
   "metadata": {},
   "outputs": [],
   "source": [
    "for group in possible_groups:\n",
    "    print(f\"Group: {group}\")\n",
    "    mask = len(X) * [True]\n",
    "    for x in group:\n",
    "        mask = mask & X.iloc[:, x] < 0.5\n",
    "    diff = contig_acc[\"recall\"] - np.mean(X[mask]).values\n",
    "    hits = diff[np.abs(diff) > .20]\n",
    "    for x in hits.index.values:\n",
    "        if x not in diff_mod_pos:\n",
    "            print(f\"hits: {hits.index.values}\")\n"
   ]
  },
  {
   "cell_type": "markdown",
   "metadata": {},
   "source": [
    "# GETTING OUTLIERS"
   ]
  },
  {
   "cell_type": "code",
   "execution_count": 342,
   "metadata": {},
   "outputs": [],
   "source": [
    "from itertools import combinations\n",
    "from scipy import stats\n"
   ]
  },
  {
   "cell_type": "code",
   "execution_count": 364,
   "metadata": {},
   "outputs": [],
   "source": [
    "def get_joint_marginal(X, group):\n",
    "    bool_mask = X.iloc[:, group[0]] > 0.5\n",
    "    p_of_each_mod = [np.sum(X.iloc[:, group[0]] > 0.5) / len(X)]\n",
    "    for x in group[1:]:\n",
    "        bool_mask &= X.iloc[:, x] > 0.5\n",
    "        p_of_each_mod.append(np.sum(X.iloc[:, x] > 0.5) / len(X))\n",
    "    joint_prob = np.mean(bool_mask)\n",
    "    marginal_prob_product = np.prod(p_of_each_mod)\n",
    "    return joint_prob, marginal_prob_product\n"
   ]
  },
  {
   "cell_type": "code",
   "execution_count": 373,
   "metadata": {},
   "outputs": [],
   "source": [
    "\n",
    "def get_joint_marginal_diffs(X, options, n):\n",
    "    diffs = []\n",
    "    for group in combinations(options, n):\n",
    "\n",
    "        #     print(f\"joint prob, {joint_prob}\")\n",
    "        #     print(f\"marginal prob product, {np.prod(p_of_each_mod)}\")\n",
    "        joint_prob, marginal_prob_product = get_joint_marginal(X, group)\n",
    "        diff = joint_prob - marginal_prob_product\n",
    "        diffs.append([group, diff])\n",
    "    diffs = pd.DataFrame(diffs)\n",
    "    return diffs\n",
    "\n",
    "diffs = get_joint_marginal_diffs(X, list(range(len(X.columns))), 2)\n"
   ]
  },
  {
   "cell_type": "code",
   "execution_count": 374,
   "metadata": {},
   "outputs": [
    {
     "name": "stdout",
     "output_type": "stream",
     "text": [
      "            0         1\n",
      "533  (20, 24)  0.029511\n",
      "373  (12, 20)  0.029486\n",
      "293   (9, 15)  0.029001\n",
      "328  (10, 24)  0.028967\n",
      "324  (10, 20)  0.028960\n",
      "309   (9, 31)  0.028517\n",
      "11    (0, 12)  0.028481\n",
      "537  (20, 28)  0.028466\n",
      "316  (10, 12)  0.028399\n",
      "290   (9, 12)  0.028239\n",
      "591  (24, 28)  0.028195\n",
      "54    (1, 20)  0.028115\n",
      "377  (12, 24)  0.028006\n",
      "319  (10, 15)  0.027976\n",
      "332  (10, 28)  0.027954\n",
      "9     (0, 10)  0.027865\n",
      "370  (12, 17)  0.027857\n",
      "443  (15, 24)  0.027752\n",
      "540  (20, 31)  0.027745\n",
      "321  (10, 17)  0.027728\n",
      "298   (9, 20)  0.027724\n",
      "594  (24, 31)  0.027720\n",
      "204   (6, 10)  0.027611\n",
      "1      (0, 2)  0.027571\n",
      "368  (12, 15)  0.027536\n",
      "206   (6, 12)  0.027502\n",
      "214   (6, 20)  0.027490\n",
      "381  (12, 28)  0.027454\n",
      "19    (0, 20)  0.027380\n",
      "439  (15, 20)  0.027209\n",
      "366  (12, 13)  0.027198\n",
      "478  (17, 20)  0.027160\n",
      "43     (1, 9)  0.027114\n",
      "317  (10, 13)  0.027066\n",
      "302   (9, 24)  0.027043\n",
      "8      (0, 9)  0.027007\n",
      "482  (17, 24)  0.026969\n",
      "16    (0, 17)  0.026928\n",
      "46    (1, 12)  0.026904\n",
      "447  (15, 28)  0.026725\n",
      "384  (12, 31)  0.026644\n",
      "78    (2, 10)  0.026641\n",
      "400  (13, 24)  0.026501\n",
      "58    (1, 24)  0.026467\n",
      "80    (2, 12)  0.026404\n",
      "489  (17, 31)  0.026393\n",
      "225   (6, 31)  0.026381\n",
      "393  (13, 17)  0.026380\n",
      "436  (15, 17)  0.026322\n",
      "209   (6, 15)  0.026267\n",
      "40     (1, 6)  0.026264\n",
      "569  (22, 31)  0.026263\n",
      "90    (2, 22)  0.026260\n",
      "5      (0, 6)  0.026239\n",
      "44    (1, 10)  0.026220\n",
      "335  (10, 31)  0.026216\n",
      "288   (9, 10)  0.026195\n",
      "486  (17, 28)  0.026153\n",
      "295   (9, 17)  0.026060\n",
      "575  (23, 24)  0.025968\n",
      "14    (0, 15)  0.025963\n",
      "27    (0, 28)  0.025960\n",
      "65    (1, 31)  0.025864\n",
      "83    (2, 15)  0.025835\n",
      "450  (15, 31)  0.025804\n",
      "391  (13, 15)  0.025760\n",
      "218   (6, 24)  0.025754\n",
      "51    (1, 17)  0.025731\n",
      "291   (9, 13)  0.025724\n",
      "404  (13, 28)  0.025702\n",
      "49    (1, 15)  0.025700\n",
      "531  (20, 22)  0.025679\n",
      "375  (12, 22)  0.025670\n",
      "211   (6, 17)  0.025654\n",
      "376  (12, 23)  0.025628\n",
      "23    (0, 24)  0.025621\n",
      "396  (13, 20)  0.025586\n",
      "88    (2, 20)  0.025530\n",
      "12    (0, 13)  0.025511\n",
      "385  (12, 32)  0.025467\n",
      "99    (2, 31)  0.025466\n",
      "30    (0, 31)  0.025417\n",
      "92    (2, 24)  0.025412\n",
      "85    (2, 17)  0.025340\n",
      "632  (28, 31)  0.025312\n",
      "47    (1, 13)  0.025251\n",
      "326  (10, 22)  0.025159\n",
      "22    (0, 23)  0.025138\n",
      "633  (28, 32)  0.025088\n",
      "222   (6, 28)  0.025058\n",
      "0      (0, 1)  0.025011\n",
      "562  (22, 24)  0.024976\n",
      "292   (9, 14)  0.024957\n",
      "481  (17, 23)  0.024957\n",
      "566  (22, 28)  0.024898\n",
      "318  (10, 14)  0.024852\n",
      "532  (20, 23)  0.024850\n",
      "441  (15, 22)  0.024826\n",
      "407  (13, 31)  0.024775\n",
      "207   (6, 13)  0.024754\n",
      "367  (12, 14)  0.024716\n",
      "81    (2, 13)  0.024677\n",
      "429  (14, 31)  0.024655\n",
      "452  (15, 33)  0.024646\n",
      "306   (9, 28)  0.024640\n",
      "13    (0, 14)  0.024568\n",
      "579  (23, 28)  0.024457\n",
      "399  (13, 23)  0.024433\n",
      "480  (17, 22)  0.024430\n",
      "426  (14, 28)  0.024381\n",
      "418  (14, 20)  0.024349\n",
      "336  (10, 32)  0.024341\n",
      "415  (14, 17)  0.024301\n",
      "581  (23, 30)  0.024286\n",
      "217   (6, 23)  0.024261\n",
      "56    (1, 22)  0.024248\n",
      "386  (12, 33)  0.024207\n",
      "74     (2, 6)  0.024171\n",
      "320  (10, 16)  0.024164\n",
      "422  (14, 24)  0.024154\n",
      "77     (2, 9)  0.024150\n",
      "21    (0, 22)  0.024119\n",
      "327  (10, 23)  0.023979\n",
      "300   (9, 22)  0.023976\n",
      "294   (9, 16)  0.023970\n",
      "595  (24, 32)  0.023907\n",
      "39     (1, 5)  0.023901\n",
      "398  (13, 22)  0.023900\n",
      "541  (20, 32)  0.023888\n",
      "203    (6, 9)  0.023771\n",
      "635  (28, 34)  0.023753\n",
      "408  (13, 32)  0.023710\n",
      "369  (12, 16)  0.023708\n",
      "91    (2, 23)  0.023619\n",
      "96    (2, 28)  0.023614\n",
      "582  (23, 31)  0.023611\n",
      "57    (1, 23)  0.023605\n",
      "36     (1, 2)  0.023602\n",
      "301   (9, 23)  0.023579\n",
      "490  (17, 32)  0.023540\n",
      "413  (14, 15)  0.023452\n",
      "451  (15, 32)  0.023413\n",
      "390  (13, 14)  0.023404\n",
      "82    (2, 14)  0.023375\n",
      "442  (15, 23)  0.023358\n",
      "84    (2, 16)  0.023329\n",
      "634  (28, 33)  0.023318\n",
      "143   (4, 10)  0.023300\n",
      "491  (17, 33)  0.023285\n",
      "651  (31, 32)  0.023275\n",
      "467  (16, 28)  0.023249\n",
      "383  (12, 30)  0.023242\n",
      "542  (20, 33)  0.023240\n",
      "420  (14, 22)  0.023211\n",
      "216   (6, 22)  0.023156\n",
      "32    (0, 33)  0.023136\n",
      "596  (24, 33)  0.023043\n",
      "196   (5, 32)  0.022989\n",
      "462  (16, 23)  0.022916\n",
      "456  (16, 17)  0.022894\n",
      "597  (24, 34)  0.022802\n",
      "161   (4, 28)  0.022799\n",
      "64    (1, 30)  0.022760\n",
      "62    (1, 28)  0.022715\n",
      "226   (6, 32)  0.022713\n",
      "145   (4, 12)  0.022689\n",
      "310   (9, 32)  0.022602\n",
      "459  (16, 20)  0.022591\n",
      "435  (15, 16)  0.022523\n",
      "392  (13, 16)  0.022504\n",
      "311   (9, 33)  0.022418\n",
      "334  (10, 30)  0.022369\n",
      "308   (9, 30)  0.022365\n",
      "31    (0, 32)  0.022343\n",
      "179   (5, 15)  0.022320\n",
      "157   (4, 24)  0.022283\n",
      "66    (1, 32)  0.022272\n",
      "543  (20, 34)  0.022249\n",
      "176   (5, 12)  0.022231\n",
      "488  (17, 30)  0.022202\n",
      "188   (5, 24)  0.022171\n",
      "15    (0, 16)  0.022148\n",
      "208   (6, 14)  0.022121\n",
      "461  (16, 22)  0.022086\n",
      "338  (10, 34)  0.022050\n",
      "174   (5, 10)  0.021998\n",
      "101   (2, 33)  0.021989\n",
      "142    (4, 9)  0.021988\n",
      "593  (24, 30)  0.021964\n",
      "100   (2, 32)  0.021924\n",
      "657  (32, 34)  0.021916\n",
      "212   (6, 18)  0.021865\n",
      "414  (14, 16)  0.021830\n",
      "337  (10, 33)  0.021808\n",
      "4      (0, 5)  0.021792\n",
      "184   (5, 20)  0.021778\n",
      "41     (1, 7)  0.021764\n",
      "449  (15, 30)  0.021748\n",
      "496  (18, 20)  0.021691\n",
      "571  (22, 33)  0.021686\n",
      "148   (4, 15)  0.021686\n",
      "173    (5, 9)  0.021680\n",
      "504  (18, 28)  0.021672\n",
      "539  (20, 30)  0.021660\n",
      "406  (13, 30)  0.021645\n",
      "181   (5, 17)  0.021623\n",
      "524  (19, 31)  0.021561\n",
      "339  (10, 35)  0.021547\n",
      "48    (1, 14)  0.021502\n",
      "583  (23, 32)  0.021456\n",
      "210   (6, 16)  0.021452\n",
      "430  (14, 32)  0.021417\n",
      "182   (5, 18)  0.021389\n",
      "570  (22, 32)  0.021265\n",
      "561  (22, 23)  0.021230\n",
      "3      (0, 4)  0.021220\n",
      "166   (4, 33)  0.021214\n",
      "29    (0, 30)  0.021205\n",
      "636  (28, 35)  0.021183\n",
      "371  (12, 18)  0.021161\n",
      "409  (13, 33)  0.021143\n",
      "315  (10, 11)  0.021113\n",
      "421  (14, 23)  0.021109\n",
      "195   (5, 31)  0.021096\n",
      "416  (14, 18)  0.021079\n",
      "186   (5, 22)  0.020951\n",
      "233   (7, 10)  0.020943\n",
      "346  (11, 17)  0.020936\n",
      "150   (4, 17)  0.020928\n",
      "513  (19, 20)  0.020925\n",
      "170    (5, 6)  0.020909\n",
      "247   (7, 24)  0.020906\n",
      "251   (7, 28)  0.020889\n",
      "598  (24, 35)  0.020858\n",
      "254   (7, 31)  0.020825\n",
      "135   (3, 34)  0.020808\n",
      "235   (7, 12)  0.020807\n",
      "187   (5, 23)  0.020778\n",
      "240   (7, 17)  0.020776\n",
      "357  (11, 28)  0.020758\n",
      "572  (22, 34)  0.020748\n",
      "180   (5, 16)  0.020704\n",
      "238   (7, 15)  0.020700\n",
      "333  (10, 29)  0.020686\n",
      "86    (2, 18)  0.020657\n",
      "153   (4, 20)  0.020631\n",
      "228   (6, 34)  0.020623\n",
      "589  (24, 26)  0.020608\n",
      "387  (12, 34)  0.020593\n",
      "50    (1, 16)  0.020590\n",
      "104   (2, 36)  0.020560\n",
      "177   (5, 13)  0.020553\n",
      "274   (8, 23)  0.020548\n",
      "656  (32, 33)  0.020538\n",
      "592  (24, 29)  0.020530\n",
      "388  (12, 35)  0.020522\n",
      "471  (16, 32)  0.020513\n",
      "470  (16, 31)  0.020474\n",
      "73     (2, 5)  0.020474\n",
      "322  (10, 18)  0.020425\n",
      "178   (5, 14)  0.020408\n",
      "224   (6, 30)  0.020384\n",
      "463  (16, 24)  0.020375\n",
      "631  (28, 30)  0.020331\n",
      "586  (23, 35)  0.020325\n",
      "227   (6, 33)  0.020320\n",
      "263   (8, 12)  0.020305\n",
      "69    (1, 35)  0.020297\n",
      "652  (31, 33)  0.020226\n",
      "98    (2, 30)  0.020205\n",
      "654  (31, 35)  0.020166\n",
      "164   (4, 31)  0.020132\n",
      "97    (2, 29)  0.020068\n",
      "493  (17, 35)  0.020038\n",
      "405  (13, 29)  0.020033\n",
      "448  (15, 29)  0.020023\n",
      "438  (15, 19)  0.019992\n",
      "192   (5, 28)  0.019945\n",
      "136   (3, 35)  0.019943\n",
      "201    (6, 7)  0.019935\n",
      "151   (4, 18)  0.019928\n",
      "296   (9, 18)  0.019918\n",
      "647  (30, 33)  0.019914\n",
      "341  (11, 12)  0.019905\n",
      "297   (9, 19)  0.019898\n",
      "646  (30, 32)  0.019898\n",
      "428  (14, 30)  0.019873\n",
      "353  (11, 24)  0.019854\n",
      "492  (17, 34)  0.019833\n",
      "17    (0, 18)  0.019827\n",
      "498  (18, 22)  0.019817\n",
      "453  (15, 34)  0.019805\n",
      "2      (0, 3)  0.019748\n",
      "229   (6, 35)  0.019734\n",
      "146   (4, 13)  0.019724\n",
      "138    (4, 5)  0.019701\n",
      "639  (29, 31)  0.019664\n",
      "239   (7, 16)  0.019661\n",
      "410  (13, 34)  0.019647\n",
      "261   (8, 10)  0.019591\n",
      "139    (4, 6)  0.019591\n",
      "351  (11, 22)  0.019550\n",
      "417  (14, 19)  0.019514\n",
      "34    (0, 35)  0.019513\n",
      "349  (11, 20)  0.019475\n",
      "6      (0, 7)  0.019463\n",
      "372  (12, 19)  0.019415\n",
      "33    (0, 34)  0.019392\n",
      "507  (18, 31)  0.019362\n",
      "476  (17, 18)  0.019301\n",
      "213   (6, 19)  0.019246\n",
      "125   (3, 24)  0.019200\n",
      "313   (9, 35)  0.019168\n",
      "454  (15, 35)  0.019149\n",
      "87    (2, 19)  0.019147\n",
      "243   (7, 20)  0.019102\n",
      "79    (2, 11)  0.019095\n",
      "72     (2, 4)  0.019073\n",
      "382  (12, 29)  0.019046\n",
      "584  (23, 33)  0.019030\n",
      "394  (13, 18)  0.019007\n",
      "330  (10, 26)  0.018992\n",
      "431  (14, 33)  0.018990\n",
      "268   (8, 17)  0.018957\n",
      "76     (2, 8)  0.018878\n",
      "246   (7, 23)  0.018876\n",
      "282   (8, 31)  0.018869\n",
      "544  (20, 35)  0.018854\n",
      "260    (8, 9)  0.018805\n",
      "637  (28, 36)  0.018801\n",
      "630  (28, 29)  0.018755\n",
      "271   (8, 20)  0.018753\n",
      "103   (2, 35)  0.018701\n",
      "237   (7, 14)  0.018696\n",
      "165   (4, 32)  0.018689\n",
      "194   (5, 30)  0.018688\n",
      "348  (11, 19)  0.018664\n",
      "469  (16, 30)  0.018648\n",
      "121   (3, 20)  0.018595\n",
      "18    (0, 19)  0.018574\n",
      "474  (16, 35)  0.018572\n",
      "314   (9, 36)  0.018564\n",
      "395  (13, 19)  0.018557\n",
      "472  (16, 33)  0.018551\n",
      "645  (30, 31)  0.018532\n",
      "477  (17, 19)  0.018521\n",
      "552  (21, 28)  0.018506\n",
      "236   (7, 13)  0.018503\n",
      "500  (18, 24)  0.018500\n",
      "437  (15, 18)  0.018494\n",
      "523  (19, 30)  0.018485\n",
      "487  (17, 29)  0.018449\n",
      "185   (5, 21)  0.018353\n",
      "433  (14, 35)  0.018329\n",
      "473  (16, 34)  0.018328\n",
      "38     (1, 4)  0.018266\n",
      "10    (0, 11)  0.018260\n",
      "199   (5, 35)  0.018244\n",
      "344  (11, 15)  0.018228\n",
      "35    (0, 36)  0.018214\n",
      "535  (20, 26)  0.018186\n",
      "516  (19, 23)  0.018175\n",
      "468  (16, 29)  0.018148\n",
      "70    (1, 36)  0.018133\n",
      "312   (9, 34)  0.018109\n",
      "131   (3, 30)  0.018109\n",
      "141    (4, 8)  0.018050\n",
      "102   (2, 34)  0.018023\n",
      "89    (2, 21)  0.018005\n",
      "323  (10, 19)  0.017991\n",
      "304   (9, 26)  0.017982\n",
      "573  (22, 35)  0.017979\n",
      "220   (6, 26)  0.017958\n",
      "113   (3, 12)  0.017956\n",
      "264   (8, 13)  0.017917\n",
      "361  (11, 32)  0.017912\n",
      "661  (33, 35)  0.017910\n",
      "223   (6, 29)  0.017900\n",
      "68    (1, 34)  0.017900\n",
      "53    (1, 19)  0.017888\n",
      "517  (19, 24)  0.017883\n",
      "119   (3, 18)  0.017878\n",
      "658  (32, 35)  0.017867\n",
      "653  (31, 34)  0.017861\n",
      "156   (4, 23)  0.017856\n",
      "67    (1, 33)  0.017856\n",
      "359  (11, 30)  0.017830\n",
      "163   (4, 30)  0.017827\n",
      "155   (4, 22)  0.017810\n",
      "255   (7, 32)  0.017807\n",
      "37     (1, 3)  0.017799\n",
      "538  (20, 29)  0.017794\n",
      "60    (1, 26)  0.017776\n",
      "506  (18, 30)  0.017756\n",
      "342  (11, 13)  0.017754\n",
      "7      (0, 8)  0.017719\n",
      "434  (14, 36)  0.017691\n",
      "197   (5, 33)  0.017680\n",
      "45    (1, 11)  0.017665\n",
      "547  (21, 23)  0.017621\n",
      "642  (29, 34)  0.017615\n",
      "494  (17, 36)  0.017559\n",
      "75     (2, 7)  0.017531\n",
      "55    (1, 21)  0.017528\n",
      "662  (33, 36)  0.017499\n",
      "360  (11, 31)  0.017495\n",
      "530  (20, 21)  0.017486\n",
      "412  (13, 36)  0.017458\n",
      "275   (8, 24)  0.017452\n",
      "389  (12, 36)  0.017451\n",
      "411  (13, 35)  0.017430\n",
      "432  (14, 34)  0.017387\n",
      "129   (3, 28)  0.017330\n",
      "279   (8, 28)  0.017328\n",
      "307   (9, 29)  0.017312\n",
      "499  (18, 23)  0.017234\n",
      "232    (7, 9)  0.017217\n",
      "508  (18, 32)  0.017212\n",
      "484  (17, 26)  0.017192\n",
      "640  (29, 32)  0.017184\n",
      "585  (23, 34)  0.017119\n",
      "277   (8, 26)  0.017092\n",
      "325  (10, 21)  0.017091\n",
      "289   (9, 11)  0.017083\n",
      "117   (3, 16)  0.017075\n",
      "340  (10, 36)  0.017070\n",
      "568  (22, 30)  0.017058\n",
      "362  (11, 33)  0.017051\n",
      "527  (19, 34)  0.017040\n",
      "168   (4, 35)  0.017024\n",
      "655  (31, 36)  0.017007\n",
      "379  (12, 26)  0.016986\n",
      "515  (19, 22)  0.016968\n",
      "215   (6, 21)  0.016958\n",
      "545  (20, 36)  0.016820\n",
      "110    (3, 9)  0.016786\n",
      "402  (13, 26)  0.016780\n",
      "219   (6, 25)  0.016767\n",
      "440  (15, 21)  0.016748\n",
      "266   (8, 15)  0.016746\n",
      "25    (0, 26)  0.016735\n",
      "599  (24, 36)  0.016694\n",
      "273   (8, 22)  0.016681\n",
      "352  (11, 23)  0.016653\n",
      "495  (18, 19)  0.016628\n",
      "574  (22, 36)  0.016623\n",
      "118   (3, 17)  0.016621\n",
      "230   (6, 36)  0.016607\n",
      "511  (18, 35)  0.016606\n",
      "479  (17, 21)  0.016602\n",
      "159   (4, 26)  0.016566\n",
      "444  (15, 25)  0.016563\n",
      "427  (14, 29)  0.016556\n",
      "253   (7, 30)  0.016515\n",
      "374  (12, 21)  0.016501\n",
      "445  (15, 26)  0.016483\n",
      "256   (7, 33)  0.016475\n",
      "205   (6, 11)  0.016438\n",
      "555  (21, 31)  0.016396\n",
      "659  (32, 36)  0.016373\n",
      "614  (26, 30)  0.016370\n",
      "510  (18, 34)  0.016358\n",
      "71     (2, 3)  0.016346\n",
      "276   (8, 25)  0.016328\n",
      "641  (29, 33)  0.016312\n",
      "257   (7, 34)  0.016281\n",
      "154   (4, 21)  0.016266\n",
      "132   (3, 31)  0.016255\n",
      "149   (4, 16)  0.016215\n",
      "123   (3, 22)  0.016190\n",
      "111   (3, 10)  0.016184\n",
      "521  (19, 28)  0.016183\n",
      "147   (4, 14)  0.016110\n",
      "198   (5, 34)  0.016105\n",
      "245   (7, 22)  0.016100\n",
      "140    (4, 7)  0.016059\n",
      "576  (23, 25)  0.016037\n",
      "525  (19, 32)  0.016031\n",
      "620  (26, 36)  0.016030\n",
      "133   (3, 32)  0.016020\n",
      "580  (23, 29)  0.016003\n",
      "63    (1, 29)  0.015974\n",
      "483  (17, 25)  0.015960\n",
      "343  (11, 14)  0.015958\n",
      "643  (29, 35)  0.015808\n",
      "615  (26, 31)  0.015793\n",
      "162   (4, 29)  0.015789\n",
      "59    (1, 25)  0.015715\n",
      "280   (8, 29)  0.015648\n",
      "93    (2, 25)  0.015647\n",
      "509  (18, 33)  0.015628\n",
      "660  (33, 34)  0.015625\n",
      "108    (3, 7)  0.015618\n",
      "465  (16, 26)  0.015591\n",
      "526  (19, 33)  0.015543\n",
      "283   (8, 32)  0.015521\n",
      "94    (2, 26)  0.015514\n",
      "329  (10, 25)  0.015502\n",
      "124   (3, 23)  0.015499\n",
      "455  (15, 36)  0.015429\n",
      "355  (11, 26)  0.015394\n",
      "200   (5, 36)  0.015389\n",
      "358  (11, 29)  0.015375\n",
      "258   (7, 35)  0.015349\n",
      "638  (29, 30)  0.015332\n",
      "587  (23, 36)  0.015331\n",
      "617  (26, 33)  0.015272\n",
      "424  (14, 26)  0.015236\n",
      "284   (8, 33)  0.015224\n",
      "649  (30, 35)  0.015101\n",
      "299   (9, 21)  0.015049\n",
      "20    (0, 21)  0.015011\n",
      "52    (1, 18)  0.015004\n",
      "134   (3, 33)  0.014979\n",
      "167   (4, 34)  0.014934\n",
      "663  (34, 35)  0.014889\n",
      "519  (19, 26)  0.014876\n",
      "458  (16, 19)  0.014867\n",
      "423  (14, 25)  0.014865\n",
      "28    (0, 29)  0.014857\n",
      "171    (5, 7)  0.014856\n",
      "265   (8, 14)  0.014818\n",
      "460  (16, 21)  0.014816\n",
      "105    (3, 4)  0.014803\n",
      "475  (16, 36)  0.014764\n",
      "546  (21, 22)  0.014716\n",
      "378  (12, 25)  0.014712\n",
      "202    (6, 8)  0.014681\n",
      "567  (22, 29)  0.014592\n",
      "169   (4, 36)  0.014573\n",
      "588  (24, 25)  0.014518\n",
      "457  (16, 18)  0.014506\n",
      "548  (21, 24)  0.014467\n",
      "648  (30, 34)  0.014407\n",
      "577  (23, 26)  0.014318\n",
      "534  (20, 25)  0.014305\n",
      "287   (8, 36)  0.014266\n",
      "112   (3, 11)  0.014236\n",
      "612  (26, 28)  0.014224\n",
      "505  (18, 29)  0.014219\n",
      "564  (22, 26)  0.014179\n",
      "608  (25, 34)  0.014172\n",
      "419  (14, 21)  0.014163\n",
      "497  (18, 21)  0.014149\n",
      "605  (25, 31)  0.014119\n",
      "175   (5, 11)  0.014091\n",
      "364  (11, 35)  0.014085\n",
      "607  (25, 33)  0.014027\n",
      "626  (27, 33)  0.014026\n",
      "24    (0, 25)  0.014025\n",
      "42     (1, 8)  0.014024\n",
      "464  (16, 25)  0.013959\n",
      "397  (13, 21)  0.013929\n",
      "286   (8, 35)  0.013905\n",
      "115   (3, 14)  0.013890\n",
      "522  (19, 29)  0.013883\n",
      "518  (19, 25)  0.013763\n",
      "536  (20, 27)  0.013723\n",
      "160   (4, 27)  0.013690\n",
      "618  (26, 34)  0.013685\n",
      "241   (7, 18)  0.013656\n",
      "193   (5, 29)  0.013633\n",
      "267   (8, 16)  0.013626\n",
      "107    (3, 6)  0.013570\n",
      "270   (8, 19)  0.013498\n",
      "244   (7, 21)  0.013489\n",
      "116   (3, 15)  0.013476\n",
      "331  (10, 27)  0.013471\n",
      "554  (21, 30)  0.013470\n",
      "114   (3, 13)  0.013437\n",
      "650  (30, 36)  0.013433\n",
      "401  (13, 25)  0.013380\n",
      "557  (21, 33)  0.013372\n",
      "109    (3, 8)  0.013370\n",
      "606  (25, 32)  0.013346\n",
      "563  (22, 25)  0.013253\n",
      "234   (7, 11)  0.013130\n",
      "262   (8, 11)  0.013073\n",
      "616  (26, 32)  0.013049\n",
      "665  (35, 36)  0.013025\n",
      "345  (11, 16)  0.012997\n",
      "529  (19, 36)  0.012918\n",
      "602  (25, 28)  0.012879\n",
      "609  (25, 35)  0.012828\n",
      "281   (8, 30)  0.012802\n",
      "183   (5, 19)  0.012785\n",
      "122   (3, 21)  0.012702\n",
      "158   (4, 25)  0.012670\n",
      "365  (11, 36)  0.012561\n",
      "556  (21, 32)  0.012530\n",
      "613  (26, 29)  0.012262\n",
      "190   (5, 26)  0.012229\n",
      "528  (19, 35)  0.012189\n",
      "259   (7, 36)  0.012140\n",
      "303   (9, 25)  0.012124\n",
      "559  (21, 35)  0.012088\n",
      "152   (4, 19)  0.012087\n",
      "560  (21, 36)  0.011956\n",
      "621  (27, 28)  0.011955\n",
      "347  (11, 18)  0.011883\n",
      "565  (22, 27)  0.011826\n",
      "272   (8, 21)  0.011750\n",
      "144   (4, 11)  0.011700\n",
      "354  (11, 25)  0.011694\n",
      "269   (8, 18)  0.011653\n",
      "380  (12, 27)  0.011581\n",
      "250   (7, 27)  0.011477\n",
      "120   (3, 19)  0.011461\n",
      "446  (15, 27)  0.011452\n",
      "221   (6, 27)  0.011426\n",
      "549  (21, 25)  0.011344\n",
      "172    (5, 8)  0.011294\n",
      "305   (9, 27)  0.011252\n",
      "590  (24, 27)  0.011239\n",
      "627  (27, 34)  0.011232\n",
      "624  (27, 31)  0.011103\n",
      "619  (26, 35)  0.010999\n",
      "466  (16, 27)  0.010994\n",
      "603  (25, 29)  0.010981\n",
      "600  (25, 26)  0.010870\n",
      "512  (18, 36)  0.010835\n",
      "248   (7, 25)  0.010793\n",
      "189   (5, 25)  0.010784\n",
      "503  (18, 27)  0.010768\n",
      "285   (8, 34)  0.010764\n",
      "502  (18, 26)  0.010740\n",
      "137   (3, 36)  0.010653\n",
      "485  (17, 27)  0.010568\n",
      "425  (14, 27)  0.010548\n",
      "106    (3, 5)  0.010493\n",
      "242   (7, 19)  0.010437\n",
      "350  (11, 21)  0.010391\n",
      "550  (21, 26)  0.010293\n",
      "252   (7, 29)  0.010148\n",
      "553  (21, 29)  0.009829\n",
      "130   (3, 29)  0.009824\n",
      "604  (25, 30)  0.009815\n",
      "520  (19, 27)  0.009710\n",
      "558  (21, 34)  0.009561\n",
      "664  (34, 36)  0.009487\n",
      "363  (11, 34)  0.009410\n",
      "126   (3, 25)  0.009395\n",
      "278   (8, 27)  0.009245\n",
      "249   (7, 26)  0.009118\n",
      "191   (5, 27)  0.008916\n",
      "95    (2, 27)  0.008910\n",
      "623  (27, 30)  0.008632\n",
      "61    (1, 27)  0.008394\n",
      "610  (25, 36)  0.008382\n",
      "629  (27, 36)  0.008316\n",
      "403  (13, 27)  0.008297\n",
      "231    (7, 8)  0.008134\n",
      "644  (29, 36)  0.008122\n",
      "514  (19, 21)  0.007807\n",
      "611  (26, 27)  0.007561\n",
      "501  (18, 25)  0.007382\n",
      "601  (25, 27)  0.007310\n",
      "625  (27, 32)  0.007239\n",
      "26    (0, 27)  0.007161\n",
      "578  (23, 27)  0.007116\n",
      "628  (27, 35)  0.007077\n",
      "127   (3, 26)  0.006530\n",
      "622  (27, 29)  0.006277\n",
      "128   (3, 27)  0.005858\n",
      "551  (21, 27)  0.004619\n",
      "356  (11, 27)  0.002729\n"
     ]
    },
    {
     "data": {
      "text/plain": [
       "array([[<matplotlib.axes._subplots.AxesSubplot object at 0x1a232e2e90>]],\n",
       "      dtype=object)"
      ]
     },
     "execution_count": 374,
     "metadata": {},
     "output_type": "execute_result"
    },
    {
     "data": {
      "image/png": "[encoded data removed]",
      "text/plain": [
       "<Figure size 576x396 with 1 Axes>"
      ]
     },
     "metadata": {},
     "output_type": "display_data"
    }
   ],
   "source": [
    "pd.set_option('display.max_rows', None)\n",
    "sorted_diffs = diffs.sort_values(by=[1],axis=0, ascending=False)\n",
    "print(sorted_diffs)\n",
    "pd.set_option('display.max_rows', 10)\n",
    "sorted_diffs.hist(bins=100)\n"
   ]
  },
  {
   "cell_type": "code",
   "execution_count": 375,
   "metadata": {},
   "outputs": [
    {
     "name": "stdout",
     "output_type": "stream",
     "text": [
      "{} {3, 21, 11, 27}\n"
     ]
    }
   ],
   "source": [
    "og_scores = sorted_diffs.iloc[:, 1]\n",
    "pos_targets = sorted_diffs[(stats.zmap(sorted_diffs.iloc[:, 1], og_scores) > 2.5)]\n",
    "sets = [set(x) for x in (pos_targets.iloc[:, 0])]\n",
    "if len(sets) == 0:\n",
    "    pos_options = {}\n",
    "else:\n",
    "    pos_options = set.union(*sets)\n",
    "\n",
    "    \n",
    "neg_targets = sorted_diffs[(stats.zmap(sorted_diffs.iloc[:, 1], og_scores) < -2.5)]\n",
    "\n",
    "sets = [set(x) for x in (neg_targets.iloc[:, 0])]\n",
    "if len(sets) == 0:\n",
    "    neg_options = {}\n",
    "else:\n",
    "    neg_options = set.union(*sets)\n",
    "\n",
    "\n",
    "print(pos_options, neg_options)"
   ]
  },
  {
   "cell_type": "code",
   "execution_count": 376,
   "metadata": {},
   "outputs": [
    {
     "name": "stdout",
     "output_type": "stream",
     "text": [
      "          0         1\n",
      "1   (3, 11)  0.014236\n",
      "0   (3, 21)  0.012702\n",
      "3  (21, 11)  0.010391\n",
      "2   (3, 27)  0.005858\n",
      "4  (21, 27)  0.004619\n",
      "5  (11, 27)  0.002729\n"
     ]
    },
    {
     "data": {
      "text/plain": [
       "array([[<matplotlib.axes._subplots.AxesSubplot object at 0x1a271abb50>]],\n",
       "      dtype=object)"
      ]
     },
     "execution_count": 376,
     "metadata": {},
     "output_type": "execute_result"
    },
    {
     "data": {
      "image/png": "[encoded data removed]",
      "text/plain": [
       "<Figure size 576x396 with 1 Axes>"
      ]
     },
     "metadata": {},
     "output_type": "display_data"
    }
   ],
   "source": [
    "diffs = get_joint_marginal_diffs(X, neg_options, 2)\n",
    "pd.set_option('display.max_rows', None)\n",
    "sorted_diffs = diffs.sort_values(by=[1],axis=0, ascending=False)\n",
    "print(sorted_diffs)\n",
    "pd.set_option('display.max_rows', 10)\n",
    "sorted_diffs.hist(bins=100)\n"
   ]
  },
  {
   "cell_type": "code",
   "execution_count": null,
   "metadata": {},
   "outputs": [],
   "source": []
  },
  {
   "cell_type": "code",
   "execution_count": null,
   "metadata": {},
   "outputs": [],
   "source": []
  }
 ],
 "metadata": {
  "kernelspec": {
   "display_name": "read_clustering",
   "language": "python",
   "name": "read_clustering"
  },
  "language_info": {
   "codemirror_mode": {
    "name": "ipython",
    "version": 3
   },
   "file_extension": ".py",
   "mimetype": "text/x-python",
   "name": "python",
   "nbconvert_exporter": "python",
   "pygments_lexer": "ipython3",
   "version": "3.7.7"
  }
 },
 "nbformat": 4,
 "nbformat_minor": 2
}
