{
 "cells": [
  {
   "cell_type": "markdown",
   "metadata": {},
   "source": [
    "#### Setting up Jupyter notebooks\n",
    "* `conda install -c anaconda ipykernel`\n",
    "* `python -m ipykernel install --user --name=read_clustering`\n",
    "\n"
   ]
  },
  {
   "cell_type": "code",
   "execution_count": 4,
   "metadata": {},
   "outputs": [],
   "source": [
    "import pandas as pd\n",
    "file_path = \"/Users/andrewbailey/CLionProjects/read_clustering/tests/test_files/test_variant_call.csv\""
   ]
  },
  {
   "cell_type": "code",
   "execution_count": 5,
   "metadata": {},
   "outputs": [],
   "source": [
    "data = pd.read_csv(file_path)"
   ]
  },
  {
   "cell_type": "code",
   "execution_count": 9,
   "metadata": {},
   "outputs": [
    {
     "data": {
      "text/plain": [
       "{'01196b69-900b-4dc0-95a7-169cd79fae9b',\n",
       " '02381d7b-ad58-4d21-8ee3-f77401c13814',\n",
       " '02636c05-538f-4647-b3ec-8e3a8c5eb10e',\n",
       " '028a34d4-2a7a-44e7-ab23-305915996ec8',\n",
       " '02c6037c-d73b-414d-9090-0bfe88a1e0b0',\n",
       " '02d2f886-87ff-4ab4-98f1-3eeb642f00c2',\n",
       " '02d4da5c-ec95-43ac-ac61-9f98ef4a4ca1',\n",
       " '031b1662-cbda-4efd-9120-257ac7b32eea',\n",
       " '03e6757b-31de-4b13-ab18-57f375404f28',\n",
       " '043a9f51-5127-4a29-bdfd-5154cf3fa3a7',\n",
       " '04ac5ad4-d0d2-4bb4-bc8b-ff3b713661dc',\n",
       " '04c78365-fd9f-4391-8ddb-277620028285'}"
      ]
     },
     "execution_count": 9,
     "metadata": {},
     "output_type": "execute_result"
    }
   ],
   "source": [
    "set(data.read_id)"
   ]
  },
  {
   "cell_type": "code",
   "execution_count": null,
   "metadata": {},
   "outputs": [],
   "source": []
  }
 ],
 "metadata": {
  "kernelspec": {
   "display_name": "read_clustering",
   "language": "python",
   "name": "read_clustering"
  },
  "language_info": {
   "codemirror_mode": {
    "name": "ipython",
    "version": 3
   },
   "file_extension": ".py",
   "mimetype": "text/x-python",
   "name": "python",
   "nbconvert_exporter": "python",
   "pygments_lexer": "ipython3",
   "version": "3.7.7"
  }
 },
 "nbformat": 4,
 "nbformat_minor": 2
}
